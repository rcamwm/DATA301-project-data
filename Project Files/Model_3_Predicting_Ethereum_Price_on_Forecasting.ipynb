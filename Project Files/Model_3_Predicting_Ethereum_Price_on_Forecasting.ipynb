{
  "nbformat": 4,
  "nbformat_minor": 0,
  "metadata": {
    "colab": {
      "provenance": []
    },
    "kernelspec": {
      "name": "python3",
      "display_name": "Python 3"
    },
    "language_info": {
      "name": "python"
    }
  },
  "cells": [
    {
      "cell_type": "code",
      "execution_count": null,
      "metadata": {
        "id": "IFmEKf0yWn9q",
        "colab": {
          "base_uri": "https://localhost:8080/",
          "height": 255
        },
        "outputId": "79d6b31e-8a92-4879-8542-426017de24cf"
      },
      "outputs": [
        {
          "output_type": "stream",
          "name": "stdout",
          "text": [
            "Drive already mounted at /content/drive; to attempt to forcibly remount, call drive.mount(\"/content/drive\", force_remount=True).\n"
          ]
        },
        {
          "output_type": "execute_result",
          "data": {
            "text/plain": [
              "            Close NASDAQ  % Day Change NASDAQ  Max Difference NASDAQ  \\\n",
              "Date                                                                   \n",
              "2022-11-11      11323.33             0.017850                 282.60   \n",
              "2022-11-10      11114.15             0.022539                 339.16   \n",
              "2022-11-09      10353.17            -0.016946                 220.96   \n",
              "2022-11-08      10616.20             0.000440                 272.91   \n",
              "2022-11-07      10564.52             0.004524                 159.05   \n",
              "\n",
              "            Close SP500  % Day Change SP500  Max Difference SP500  \\\n",
              "Date                                                                \n",
              "2022-11-11      3992.93            0.007369                 56.66   \n",
              "2022-11-10      3956.37            0.024996                 98.44   \n",
              "2022-11-09      3748.57           -0.016366                 73.98   \n",
              "2022-11-08      3828.11            0.002905                 73.12   \n",
              "2022-11-07      3806.80            0.006901                 49.25   \n",
              "\n",
              "            % Day Change ETH  Max Difference ETH    Close ETH  \n",
              "Date                                                           \n",
              "2022-11-11         -0.008978           90.965698  1287.221069  \n",
              "2022-11-10          0.181216          248.668579  1299.464600  \n",
              "2022-11-09         -0.174742          252.457885  1100.169800  \n",
              "2022-11-08         -0.150156          315.356690  1332.835571  \n",
              "2022-11-07         -0.002179           54.059815  1568.591309  "
            ],
            "text/html": [
              "\n",
              "  <div id=\"df-358c12c7-6755-49a4-abe3-c25a8ea39be1\">\n",
              "    <div class=\"colab-df-container\">\n",
              "      <div>\n",
              "<style scoped>\n",
              "    .dataframe tbody tr th:only-of-type {\n",
              "        vertical-align: middle;\n",
              "    }\n",
              "\n",
              "    .dataframe tbody tr th {\n",
              "        vertical-align: top;\n",
              "    }\n",
              "\n",
              "    .dataframe thead th {\n",
              "        text-align: right;\n",
              "    }\n",
              "</style>\n",
              "<table border=\"1\" class=\"dataframe\">\n",
              "  <thead>\n",
              "    <tr style=\"text-align: right;\">\n",
              "      <th></th>\n",
              "      <th>Close NASDAQ</th>\n",
              "      <th>% Day Change NASDAQ</th>\n",
              "      <th>Max Difference NASDAQ</th>\n",
              "      <th>Close SP500</th>\n",
              "      <th>% Day Change SP500</th>\n",
              "      <th>Max Difference SP500</th>\n",
              "      <th>% Day Change ETH</th>\n",
              "      <th>Max Difference ETH</th>\n",
              "      <th>Close ETH</th>\n",
              "    </tr>\n",
              "    <tr>\n",
              "      <th>Date</th>\n",
              "      <th></th>\n",
              "      <th></th>\n",
              "      <th></th>\n",
              "      <th></th>\n",
              "      <th></th>\n",
              "      <th></th>\n",
              "      <th></th>\n",
              "      <th></th>\n",
              "      <th></th>\n",
              "    </tr>\n",
              "  </thead>\n",
              "  <tbody>\n",
              "    <tr>\n",
              "      <th>2022-11-11</th>\n",
              "      <td>11323.33</td>\n",
              "      <td>0.017850</td>\n",
              "      <td>282.60</td>\n",
              "      <td>3992.93</td>\n",
              "      <td>0.007369</td>\n",
              "      <td>56.66</td>\n",
              "      <td>-0.008978</td>\n",
              "      <td>90.965698</td>\n",
              "      <td>1287.221069</td>\n",
              "    </tr>\n",
              "    <tr>\n",
              "      <th>2022-11-10</th>\n",
              "      <td>11114.15</td>\n",
              "      <td>0.022539</td>\n",
              "      <td>339.16</td>\n",
              "      <td>3956.37</td>\n",
              "      <td>0.024996</td>\n",
              "      <td>98.44</td>\n",
              "      <td>0.181216</td>\n",
              "      <td>248.668579</td>\n",
              "      <td>1299.464600</td>\n",
              "    </tr>\n",
              "    <tr>\n",
              "      <th>2022-11-09</th>\n",
              "      <td>10353.17</td>\n",
              "      <td>-0.016946</td>\n",
              "      <td>220.96</td>\n",
              "      <td>3748.57</td>\n",
              "      <td>-0.016366</td>\n",
              "      <td>73.98</td>\n",
              "      <td>-0.174742</td>\n",
              "      <td>252.457885</td>\n",
              "      <td>1100.169800</td>\n",
              "    </tr>\n",
              "    <tr>\n",
              "      <th>2022-11-08</th>\n",
              "      <td>10616.20</td>\n",
              "      <td>0.000440</td>\n",
              "      <td>272.91</td>\n",
              "      <td>3828.11</td>\n",
              "      <td>0.002905</td>\n",
              "      <td>73.12</td>\n",
              "      <td>-0.150156</td>\n",
              "      <td>315.356690</td>\n",
              "      <td>1332.835571</td>\n",
              "    </tr>\n",
              "    <tr>\n",
              "      <th>2022-11-07</th>\n",
              "      <td>10564.52</td>\n",
              "      <td>0.004524</td>\n",
              "      <td>159.05</td>\n",
              "      <td>3806.80</td>\n",
              "      <td>0.006901</td>\n",
              "      <td>49.25</td>\n",
              "      <td>-0.002179</td>\n",
              "      <td>54.059815</td>\n",
              "      <td>1568.591309</td>\n",
              "    </tr>\n",
              "  </tbody>\n",
              "</table>\n",
              "</div>\n",
              "      <button class=\"colab-df-convert\" onclick=\"convertToInteractive('df-358c12c7-6755-49a4-abe3-c25a8ea39be1')\"\n",
              "              title=\"Convert this dataframe to an interactive table.\"\n",
              "              style=\"display:none;\">\n",
              "        \n",
              "  <svg xmlns=\"http://www.w3.org/2000/svg\" height=\"24px\"viewBox=\"0 0 24 24\"\n",
              "       width=\"24px\">\n",
              "    <path d=\"M0 0h24v24H0V0z\" fill=\"none\"/>\n",
              "    <path d=\"M18.56 5.44l.94 2.06.94-2.06 2.06-.94-2.06-.94-.94-2.06-.94 2.06-2.06.94zm-11 1L8.5 8.5l.94-2.06 2.06-.94-2.06-.94L8.5 2.5l-.94 2.06-2.06.94zm10 10l.94 2.06.94-2.06 2.06-.94-2.06-.94-.94-2.06-.94 2.06-2.06.94z\"/><path d=\"M17.41 7.96l-1.37-1.37c-.4-.4-.92-.59-1.43-.59-.52 0-1.04.2-1.43.59L10.3 9.45l-7.72 7.72c-.78.78-.78 2.05 0 2.83L4 21.41c.39.39.9.59 1.41.59.51 0 1.02-.2 1.41-.59l7.78-7.78 2.81-2.81c.8-.78.8-2.07 0-2.86zM5.41 20L4 18.59l7.72-7.72 1.47 1.35L5.41 20z\"/>\n",
              "  </svg>\n",
              "      </button>\n",
              "      \n",
              "  <style>\n",
              "    .colab-df-container {\n",
              "      display:flex;\n",
              "      flex-wrap:wrap;\n",
              "      gap: 12px;\n",
              "    }\n",
              "\n",
              "    .colab-df-convert {\n",
              "      background-color: #E8F0FE;\n",
              "      border: none;\n",
              "      border-radius: 50%;\n",
              "      cursor: pointer;\n",
              "      display: none;\n",
              "      fill: #1967D2;\n",
              "      height: 32px;\n",
              "      padding: 0 0 0 0;\n",
              "      width: 32px;\n",
              "    }\n",
              "\n",
              "    .colab-df-convert:hover {\n",
              "      background-color: #E2EBFA;\n",
              "      box-shadow: 0px 1px 2px rgba(60, 64, 67, 0.3), 0px 1px 3px 1px rgba(60, 64, 67, 0.15);\n",
              "      fill: #174EA6;\n",
              "    }\n",
              "\n",
              "    [theme=dark] .colab-df-convert {\n",
              "      background-color: #3B4455;\n",
              "      fill: #D2E3FC;\n",
              "    }\n",
              "\n",
              "    [theme=dark] .colab-df-convert:hover {\n",
              "      background-color: #434B5C;\n",
              "      box-shadow: 0px 1px 3px 1px rgba(0, 0, 0, 0.15);\n",
              "      filter: drop-shadow(0px 1px 2px rgba(0, 0, 0, 0.3));\n",
              "      fill: #FFFFFF;\n",
              "    }\n",
              "  </style>\n",
              "\n",
              "      <script>\n",
              "        const buttonEl =\n",
              "          document.querySelector('#df-358c12c7-6755-49a4-abe3-c25a8ea39be1 button.colab-df-convert');\n",
              "        buttonEl.style.display =\n",
              "          google.colab.kernel.accessAllowed ? 'block' : 'none';\n",
              "\n",
              "        async function convertToInteractive(key) {\n",
              "          const element = document.querySelector('#df-358c12c7-6755-49a4-abe3-c25a8ea39be1');\n",
              "          const dataTable =\n",
              "            await google.colab.kernel.invokeFunction('convertToInteractive',\n",
              "                                                     [key], {});\n",
              "          if (!dataTable) return;\n",
              "\n",
              "          const docLinkHtml = 'Like what you see? Visit the ' +\n",
              "            '<a target=\"_blank\" href=https://colab.research.google.com/notebooks/data_table.ipynb>data table notebook</a>'\n",
              "            + ' to learn more about interactive tables.';\n",
              "          element.innerHTML = '';\n",
              "          dataTable['output_type'] = 'display_data';\n",
              "          await google.colab.output.renderOutput(dataTable, element);\n",
              "          const docLink = document.createElement('div');\n",
              "          docLink.innerHTML = docLinkHtml;\n",
              "          element.appendChild(docLink);\n",
              "        }\n",
              "      </script>\n",
              "    </div>\n",
              "  </div>\n",
              "  "
            ]
          },
          "metadata": {},
          "execution_count": 948
        }
      ],
      "source": [
        "import pandas as pd\n",
        "from google.colab import drive\n",
        "drive.mount('/content/drive')\n",
        "df_stocks_crypto = pd.read_csv(\"/content/drive/MyDrive/stocks_crypto.csv\",index_col=\"Date\", \n",
        "    parse_dates=True)\n",
        "df_stocks_crypto.head()\n"
      ]
    },
    {
      "cell_type": "markdown",
      "source": [
        "#Model Process"
      ],
      "metadata": {
        "id": "-F-9g1FAAmar"
      }
    },
    {
      "cell_type": "code",
      "source": [
        "import matplotlib.pyplot as plt\n",
        "from sklearn.preprocessing import StandardScaler\n",
        "from sklearn.neighbors import KNeighborsRegressor\n",
        "import numpy as np\n",
        "from datetime import datetime\n",
        "from sklearn.pipeline import make_pipeline\n",
        "from sklearn.preprocessing import PolynomialFeatures\n",
        "from sklearn.linear_model import LinearRegression\n",
        "\n"
      ],
      "metadata": {
        "id": "_Cs5Dsy5A9ie"
      },
      "execution_count": null,
      "outputs": []
    },
    {
      "cell_type": "markdown",
      "source": [
        "##NASDAQ FORECAST MODEL"
      ],
      "metadata": {
        "id": "b7_9n9qmeQVo"
      }
    },
    {
      "cell_type": "code",
      "source": [
        "y_train = df_stocks_crypto[\"Close NASDAQ\"]\n",
        "y_train.plot.line(style=\":\")\n"
      ],
      "metadata": {
        "colab": {
          "base_uri": "https://localhost:8080/",
          "height": 286
        },
        "id": "Ddo4Oc-ddX4Y",
        "outputId": "948f48c4-1c5c-42b2-d8b2-914c1c1fe509"
      },
      "execution_count": null,
      "outputs": [
        {
          "output_type": "execute_result",
          "data": {
            "text/plain": [
              "<matplotlib.axes._subplots.AxesSubplot at 0x7f918d3ed7f0>"
            ]
          },
          "metadata": {},
          "execution_count": 950
        },
        {
          "output_type": "display_data",
          "data": {
            "text/plain": [
              "<Figure size 432x288 with 1 Axes>"
            ],
            "image/png": "[encoded data removed]"
          },
          "metadata": {
            "needs_background": "light"
          }
        }
      ]
    },
    {
      "cell_type": "code",
      "source": [
        "date = y_train.index\n",
        "t = date.year + (30 * (date.month - 1) + date.day) / 365\n",
        "t"
      ],
      "metadata": {
        "colab": {
          "base_uri": "https://localhost:8080/"
        },
        "id": "7zGzOmF9eUQf",
        "outputId": "cd6b3468-f218-473b-af10-752c02913ecf"
      },
      "execution_count": null,
      "outputs": [
        {
          "output_type": "execute_result",
          "data": {
            "text/plain": [
              "Float64Index([2022.8520547945207,  2022.849315068493, 2022.8465753424657,\n",
              "              2022.8438356164384,  2022.841095890411, 2022.8328767123287,\n",
              "              2022.8301369863013,  2022.827397260274, 2022.8246575342466,\n",
              "              2022.8246575342466,\n",
              "              ...\n",
              "              2017.8958904109588, 2017.8876712328768, 2017.8821917808218,\n",
              "              2017.8794520547945,  2017.876712328767,  2017.868493150685,\n",
              "              2017.8657534246574,   2017.86301369863, 2017.8602739726027,\n",
              "              2017.8575342465754],\n",
              "             dtype='float64', name='Date', length=1259)"
            ]
          },
          "metadata": {},
          "execution_count": 951
        }
      ]
    },
    {
      "cell_type": "code",
      "source": [
        "pipeline = make_pipeline(\n",
        "    PolynomialFeatures(degree=2, include_bias=False),\n",
        "    LinearRegression()\n",
        ")\n",
        "pipeline.fit(X=t.to_frame(), y=y_train)\n",
        "\n",
        "# Store model predictions in a Series for easy plotting\n",
        "y_train_ = pd.Series(\n",
        "    pipeline.predict(X=t.to_frame()),\n",
        "    index=y_train.index\n",
        ")\n",
        "\n",
        "# Plot the data and the fitted trend\n",
        "y_train.plot.line(style=\":\")\n",
        "y_train_.plot.line()"
      ],
      "metadata": {
        "colab": {
          "base_uri": "https://localhost:8080/",
          "height": 286
        },
        "id": "Nbhd47PQeYku",
        "outputId": "cb18061e-a0d6-434c-f709-54821117ac71"
      },
      "execution_count": null,
      "outputs": [
        {
          "output_type": "execute_result",
          "data": {
            "text/plain": [
              "<matplotlib.axes._subplots.AxesSubplot at 0x7f918d35bf40>"
            ]
          },
          "metadata": {},
          "execution_count": 952
        },
        {
          "output_type": "display_data",
          "data": {
            "text/plain": [
              "<Figure size 432x288 with 1 Axes>"
            ],
            "image/png": "[encoded data removed]"
          },
          "metadata": {
            "needs_background": "light"
          }
        }
      ]
    },
    {
      "cell_type": "code",
      "source": [
        "pipeline.predict(\n",
        "    np.array([\n",
        "        [2023.0],\n",
        "        [2024.0],\n",
        "        [2025.0],\n",
        "        [2028.0],\n",
        "        [2030.0]\n",
        "    ])\n",
        ")"
      ],
      "metadata": {
        "colab": {
          "base_uri": "https://localhost:8080/"
        },
        "id": "eMdMrklsegGH",
        "outputId": "0fe95c1f-6de4-4098-aa97-fd81eaa1ab91"
      },
      "execution_count": null,
      "outputs": [
        {
          "output_type": "stream",
          "name": "stderr",
          "text": [
            "/usr/local/lib/python3.8/dist-packages/sklearn/base.py:450: UserWarning: X does not have valid feature names, but PolynomialFeatures was fitted with feature names\n",
            "  warnings.warn(\n"
          ]
        },
        {
          "output_type": "execute_result",
          "data": {
            "text/plain": [
              "array([14099.88051653, 14960.29606372, 15561.73919439, 15812.23408836,\n",
              "       14684.36860251])"
            ]
          },
          "metadata": {},
          "execution_count": 953
        }
      ]
    },
    {
      "cell_type": "markdown",
      "source": [
        "##SP500 FORECAST MODEL"
      ],
      "metadata": {
        "id": "j8lVwZ5kfear"
      }
    },
    {
      "cell_type": "code",
      "source": [
        "y_train = df_stocks_crypto[\"Close SP500\"]\n",
        "y_train.plot.line(style=\":\")"
      ],
      "metadata": {
        "colab": {
          "base_uri": "https://localhost:8080/",
          "height": 286
        },
        "id": "k2m1XTBFf8h8",
        "outputId": "64704f73-bca2-4ff8-a562-26ed2c551138"
      },
      "execution_count": null,
      "outputs": [
        {
          "output_type": "execute_result",
          "data": {
            "text/plain": [
              "<matplotlib.axes._subplots.AxesSubplot at 0x7f918d2e3550>"
            ]
          },
          "metadata": {},
          "execution_count": 954
        },
        {
          "output_type": "display_data",
          "data": {
            "text/plain": [
              "<Figure size 432x288 with 1 Axes>"
            ],
            "image/png": "[encoded data removed]"
          },
          "metadata": {
            "needs_background": "light"
          }
        }
      ]
    },
    {
      "cell_type": "code",
      "source": [
        "pipeline = make_pipeline(\n",
        "    PolynomialFeatures(degree=2, include_bias=False),\n",
        "    LinearRegression()\n",
        ")\n",
        "pipeline.fit(X=t.to_frame(), y=y_train)\n",
        "\n",
        "# Store model predictions in a Series for easy plotting\n",
        "y_train_ = pd.Series(\n",
        "    pipeline.predict(X=t.to_frame()),\n",
        "    index=y_train.index\n",
        ")\n",
        "\n",
        "# Plot the data and the fitted trend\n",
        "y_train.plot.line(style=\":\")\n",
        "y_train_.plot.line()"
      ],
      "metadata": {
        "colab": {
          "base_uri": "https://localhost:8080/",
          "height": 286
        },
        "id": "nLXcAA90gD7u",
        "outputId": "df84e0e1-d1c7-4e78-a2dc-67c96c146777"
      },
      "execution_count": null,
      "outputs": [
        {
          "output_type": "execute_result",
          "data": {
            "text/plain": [
              "<matplotlib.axes._subplots.AxesSubplot at 0x7f918d3ceac0>"
            ]
          },
          "metadata": {},
          "execution_count": 955
        },
        {
          "output_type": "display_data",
          "data": {
            "text/plain": [
              "<Figure size 432x288 with 1 Axes>"
            ],
            "image/png": "[encoded data removed]"
          },
          "metadata": {
            "needs_background": "light"
          }
        }
      ]
    },
    {
      "cell_type": "code",
      "source": [
        "pipeline.predict(\n",
        "    np.array([\n",
        "        [2023.0],\n",
        "        [2024.0],\n",
        "        [2025.0],\n",
        "        [2028.0],\n",
        "        [2030.0]\n",
        "    ])\n",
        ")"
      ],
      "metadata": {
        "colab": {
          "base_uri": "https://localhost:8080/"
        },
        "id": "XSQAHW0IgLlL",
        "outputId": "08884130-e6d5-4b13-e5b8-92c8a6628331"
      },
      "execution_count": null,
      "outputs": [
        {
          "output_type": "stream",
          "name": "stderr",
          "text": [
            "/usr/local/lib/python3.8/dist-packages/sklearn/base.py:450: UserWarning: X does not have valid feature names, but PolynomialFeatures was fitted with feature names\n",
            "  warnings.warn(\n"
          ]
        },
        {
          "output_type": "execute_result",
          "data": {
            "text/plain": [
              "array([4581.28354558, 5102.21247014, 5658.45548601, 7539.06908163,\n",
              "       8969.38193536])"
            ]
          },
          "metadata": {},
          "execution_count": 956
        }
      ]
    },
    {
      "cell_type": "markdown",
      "source": [
        "##ETHEREUM FORECAST MODEL (WRONG WAY TO DO IT)\n",
        "\n",
        "This is why you cannot forecast on Purely Ethereum because it is too volatile talk about this in our presentation, so instead what we decided to do is use NASDAQ and SP500 Forecasting and then using that as our X_Train to predict Ethereum's Future Price\n",
        "\n"
      ],
      "metadata": {
        "id": "UC2Tun2lahPY"
      }
    },
    {
      "cell_type": "code",
      "source": [
        "y_train = df_stocks_crypto[\"Close ETH\"]\n",
        "y_train.plot.line(style=\":\")\n"
      ],
      "metadata": {
        "colab": {
          "base_uri": "https://localhost:8080/",
          "height": 288
        },
        "id": "H8hUvPaXqnQe",
        "outputId": "fbb7eccb-6398-4b04-9d2a-2115ea02c4d4"
      },
      "execution_count": null,
      "outputs": [
        {
          "output_type": "execute_result",
          "data": {
            "text/plain": [
              "<matplotlib.axes._subplots.AxesSubplot at 0x7f918d205c70>"
            ]
          },
          "metadata": {},
          "execution_count": 957
        },
        {
          "output_type": "display_data",
          "data": {
            "text/plain": [
              "<Figure size 432x288 with 1 Axes>"
            ],
            "image/png": "[encoded data removed]"
          },
          "metadata": {
            "needs_background": "light"
          }
        }
      ]
    },
    {
      "cell_type": "code",
      "source": [
        "date = y_train.index\n",
        "t = date.year + (30 * (date.month - 1) + date.day) / 365\n",
        "t\n"
      ],
      "metadata": {
        "colab": {
          "base_uri": "https://localhost:8080/"
        },
        "id": "lLNggNIBqrB5",
        "outputId": "a8c67372-7bea-421d-8be6-7ec55419a8de"
      },
      "execution_count": null,
      "outputs": [
        {
          "output_type": "execute_result",
          "data": {
            "text/plain": [
              "Float64Index([2022.8520547945207,  2022.849315068493, 2022.8465753424657,\n",
              "              2022.8438356164384,  2022.841095890411, 2022.8328767123287,\n",
              "              2022.8301369863013,  2022.827397260274, 2022.8246575342466,\n",
              "              2022.8246575342466,\n",
              "              ...\n",
              "              2017.8958904109588, 2017.8876712328768, 2017.8821917808218,\n",
              "              2017.8794520547945,  2017.876712328767,  2017.868493150685,\n",
              "              2017.8657534246574,   2017.86301369863, 2017.8602739726027,\n",
              "              2017.8575342465754],\n",
              "             dtype='float64', name='Date', length=1259)"
            ]
          },
          "metadata": {},
          "execution_count": 958
        }
      ]
    },
    {
      "cell_type": "code",
      "source": [
        "pipeline = make_pipeline(\n",
        "    PolynomialFeatures(degree=2, include_bias=False),\n",
        "    LinearRegression()\n",
        ")\n",
        "pipeline.fit(X=t.to_frame(), y=y_train)\n",
        "\n",
        "# Store model predictions in a Series for easy plotting\n",
        "y_train_ = pd.Series(\n",
        "    pipeline.predict(X=t.to_frame()),\n",
        "    index=y_train.index\n",
        ")\n",
        "\n",
        "# Plot the data and the fitted trend\n",
        "y_train.plot.line(style=\":\")\n",
        "y_train_.plot.line()\n"
      ],
      "metadata": {
        "colab": {
          "base_uri": "https://localhost:8080/",
          "height": 288
        },
        "id": "ewFtGXzoAlyJ",
        "outputId": "e8843493-fe9f-4602-ecd0-86372fd9ae7d"
      },
      "execution_count": null,
      "outputs": [
        {
          "output_type": "execute_result",
          "data": {
            "text/plain": [
              "<matplotlib.axes._subplots.AxesSubplot at 0x7f918d1726a0>"
            ]
          },
          "metadata": {},
          "execution_count": 959
        },
        {
          "output_type": "display_data",
          "data": {
            "text/plain": [
              "<Figure size 432x288 with 1 Axes>"
            ],
            "image/png": "[encoded data removed]"
          },
          "metadata": {
            "needs_background": "light"
          }
        }
      ]
    },
    {
      "cell_type": "code",
      "source": [
        "pipeline.predict(\n",
        "    np.array([\n",
        "        [2025.0],\n",
        "        [2025 + 0.5 / 365]\n",
        "    ])\n",
        ")"
      ],
      "metadata": {
        "colab": {
          "base_uri": "https://localhost:8080/"
        },
        "id": "zgMYlAQa6uMp",
        "outputId": "48855986-1c8b-4268-c08c-b460b0bf1bd9"
      },
      "execution_count": null,
      "outputs": [
        {
          "output_type": "stream",
          "name": "stderr",
          "text": [
            "/usr/local/lib/python3.8/dist-packages/sklearn/base.py:450: UserWarning: X does not have valid feature names, but PolynomialFeatures was fitted with feature names\n",
            "  warnings.warn(\n"
          ]
        },
        {
          "output_type": "execute_result",
          "data": {
            "text/plain": [
              "array([6589.33046114, 6591.9745388 ])"
            ]
          },
          "metadata": {},
          "execution_count": 960
        }
      ]
    },
    {
      "cell_type": "markdown",
      "source": [
        "##Ethereum Predicting Model Based on NASDAQ and SP500"
      ],
      "metadata": {
        "id": "eIi8l5c8b90a"
      }
    },
    {
      "cell_type": "code",
      "source": [
        "X_train = df_stocks_crypto[[\"Close NASDAQ\",\t\"Close SP500\"]]\n",
        "y_train = df_stocks_crypto[\"Close ETH\"]"
      ],
      "metadata": {
        "id": "bJbJnjpT44xv"
      },
      "execution_count": null,
      "outputs": []
    },
    {
      "cell_type": "markdown",
      "source": [
        "Find the Best K Nearest Neighbors Value"
      ],
      "metadata": {
        "id": "Z7rvz1vkrWwS"
      }
    },
    {
      "cell_type": "code",
      "source": [
        "def get_cv_error(k):\n",
        "  # define pipeline\n",
        "  pipeline = make_pipeline(\n",
        "      StandardScaler(),\n",
        "      KNeighborsRegressor(n_neighbors=k)\n",
        "  ) \n",
        "  # calculate errors from cross-validation\n",
        "  cv_errs = -cross_val_score(pipeline, X=pd.get_dummies(X_train), y=y_train,\n",
        "                             scoring=\"neg_mean_squared_error\", cv=10)\n",
        "  # calculate average of the cross-validation errors\n",
        "  return cv_errs.mean()\n",
        "    \n",
        "ks = pd.Series(range(1, 20))\n",
        "ks.index = range(1, 20)\n",
        "test_errs = ks.apply(get_cv_error)\n",
        "test_errs.plot.line()\n",
        "test_errs.sort_values()"
      ],
      "metadata": {
        "colab": {
          "base_uri": "https://localhost:8080/",
          "height": 612
        },
        "id": "tmZZVYgurWPk",
        "outputId": "c1901480-c7bc-4e0b-bd13-516c2f14578a"
      },
      "execution_count": null,
      "outputs": [
        {
          "output_type": "execute_result",
          "data": {
            "text/plain": [
              "19    200357.277047\n",
              "18    201535.658603\n",
              "17    204720.948552\n",
              "16    207021.909496\n",
              "15    210225.619343\n",
              "14    212974.728944\n",
              "13    214508.603539\n",
              "12    216204.916677\n",
              "11    217906.462439\n",
              "10    221925.888750\n",
              "9     228393.881046\n",
              "8     234881.254071\n",
              "7     243027.220610\n",
              "6     253073.104406\n",
              "5     266215.110188\n",
              "4     277016.167890\n",
              "3     285564.823165\n",
              "1     294782.130903\n",
              "2     318833.178078\n",
              "dtype: float64"
            ]
          },
          "metadata": {},
          "execution_count": 962
        },
        {
          "output_type": "display_data",
          "data": {
            "text/plain": [
              "<Figure size 432x288 with 1 Axes>"
            ],
            "image/png": "[encoded data removed]"
          },
          "metadata": {
            "needs_background": "light"
          }
        }
      ]
    },
    {
      "cell_type": "markdown",
      "source": [
        "**LINEAR AND K-NEAREST MODELS**"
      ],
      "metadata": {
        "id": "yRxP_ISYll_x"
      }
    },
    {
      "cell_type": "code",
      "source": [
        "from sklearn.linear_model import LinearRegression\n",
        "from sklearn.neighbors import KNeighborsRegressor\n",
        "from sklearn.preprocessing import StandardScaler\n",
        "from sklearn.pipeline import make_pipeline\n",
        " \n",
        "# Train linear regression model\n",
        "linear_model = LinearRegression()\n",
        "linear_model.fit(X=X_train, y=y_train)\n",
        " \n",
        "# Train 10-nearest neighbors model\n",
        "knn_model = make_pipeline(\n",
        "    StandardScaler(),\n",
        "    KNeighborsRegressor(n_neighbors=19)\n",
        ")\n",
        "knn_model.fit(X=X_train, y=y_train)\n",
        " \n",
        "prediction_2024 = [[14960, 5102]]\n",
        "linear_model.predict(prediction_2024), knn_model.predict(prediction_2024)\n"
      ],
      "metadata": {
        "colab": {
          "base_uri": "https://localhost:8080/"
        },
        "id": "PRnG-klDzc5R",
        "outputId": "902ceea5-83d0-4f0e-bf62-518498b25d77"
      },
      "execution_count": null,
      "outputs": [
        {
          "output_type": "stream",
          "name": "stderr",
          "text": [
            "/usr/local/lib/python3.8/dist-packages/sklearn/base.py:450: UserWarning: X does not have valid feature names, but LinearRegression was fitted with feature names\n",
            "  warnings.warn(\n",
            "/usr/local/lib/python3.8/dist-packages/sklearn/base.py:450: UserWarning: X does not have valid feature names, but StandardScaler was fitted with feature names\n",
            "  warnings.warn(\n"
          ]
        },
        {
          "output_type": "execute_result",
          "data": {
            "text/plain": [
              "(array([4088.18533301]), array([3661.25467721]))"
            ]
          },
          "metadata": {},
          "execution_count": 963
        }
      ]
    },
    {
      "cell_type": "markdown",
      "source": [
        "**STACKING AND ENSEMBLE MODELS**"
      ],
      "metadata": {
        "id": "HNvX26tAlhlR"
      }
    },
    {
      "cell_type": "code",
      "source": [
        "preds = np.stack([\n",
        "    linear_model.predict(X_train), knn_model.predict(X_train)\n",
        "], axis=1)\n",
        "preds\n"
      ],
      "metadata": {
        "colab": {
          "base_uri": "https://localhost:8080/"
        },
        "id": "RteWt8HlAKmY",
        "outputId": "1f212ad3-ad75-4127-abb2-9d29e52315e7"
      },
      "execution_count": null,
      "outputs": [
        {
          "output_type": "execute_result",
          "data": {
            "text/plain": [
              "array([[2214.38381052, 1791.82896668],\n",
              "       [2163.31370349, 1674.85149189],\n",
              "       [1821.76710824, 1328.31296905],\n",
              "       ...,\n",
              "       [-206.73067893,  308.17402932],\n",
              "       [-180.84986765,  304.45090363],\n",
              "       [-170.78187936,  315.80369647]])"
            ]
          },
          "metadata": {},
          "execution_count": 964
        }
      ]
    },
    {
      "cell_type": "code",
      "source": [
        "stacker = LinearRegression()\n",
        "stacker.fit(X=preds, y=y_train)\n"
      ],
      "metadata": {
        "colab": {
          "base_uri": "https://localhost:8080/"
        },
        "id": "VEvqS7MkAL6Z",
        "outputId": "5a725cf6-5d79-42d4-8691-dc598d6f68fe"
      },
      "execution_count": null,
      "outputs": [
        {
          "output_type": "execute_result",
          "data": {
            "text/plain": [
              "LinearRegression()"
            ]
          },
          "metadata": {},
          "execution_count": 965
        }
      ]
    },
    {
      "cell_type": "code",
      "source": [
        "from sklearn.ensemble import StackingRegressor\n",
        " \n",
        "stacking_model = StackingRegressor([\n",
        "    (\"linear\", linear_model), \n",
        "    (\"knn\", knn_model)],\n",
        "    final_estimator=LinearRegression()\n",
        ")\n",
        "stacking_model.fit(X=X_train, y=y_train)\n",
        " \n",
        "stacker = stacking_model.final_estimator_\n",
        "stacker.intercept_, stacker.coef_\n"
      ],
      "metadata": {
        "colab": {
          "base_uri": "https://localhost:8080/"
        },
        "id": "ecSacd8WAPwB",
        "outputId": "7472bfbe-2a3e-49a0-8c97-06393094e421"
      },
      "execution_count": null,
      "outputs": [
        {
          "output_type": "execute_result",
          "data": {
            "text/plain": [
              "(86.7448769180196, array([0.13299527, 0.76387379]))"
            ]
          },
          "metadata": {},
          "execution_count": 966
        }
      ]
    },
    {
      "cell_type": "code",
      "source": [
        "from sklearn.ensemble import VotingRegressor\n",
        " \n",
        "ensemble_model = VotingRegressor([\n",
        "    (\"linear\", linear_model), \n",
        "    (\"knn\", knn_model)\n",
        "])\n",
        "ensemble_model.fit(X=X_train, y=y_train)\n"
      ],
      "metadata": {
        "colab": {
          "base_uri": "https://localhost:8080/"
        },
        "id": "i1LPchpdAhlQ",
        "outputId": "adb8731f-1656-4e6e-a661-a54af7d01e66"
      },
      "execution_count": null,
      "outputs": [
        {
          "output_type": "execute_result",
          "data": {
            "text/plain": [
              "VotingRegressor(estimators=[('linear', LinearRegression()),\n",
              "                            ('knn',\n",
              "                             Pipeline(steps=[('standardscaler',\n",
              "                                              StandardScaler()),\n",
              "                                             ('kneighborsregressor',\n",
              "                                              KNeighborsRegressor(n_neighbors=19))]))])"
            ]
          },
          "metadata": {},
          "execution_count": 967
        }
      ]
    },
    {
      "cell_type": "markdown",
      "source": [
        "**SELECTING THE BEST MODEL TO USE FOR PREDICTIONS**"
      ],
      "metadata": {
        "id": "ugWZLeL9lZFY"
      }
    },
    {
      "cell_type": "code",
      "source": [
        "from sklearn.model_selection import cross_val_score\n",
        " \n",
        "for model in [linear_model, knn_model, ensemble_model, stacking_model]:\n",
        "    print(-cross_val_score(model, X=X_train, y=y_train, cv=5,\n",
        "                           scoring=\"neg_mean_squared_error\").mean())"
      ],
      "metadata": {
        "colab": {
          "base_uri": "https://localhost:8080/"
        },
        "id": "cOINEtmG5g6n",
        "outputId": "e8964c24-e448-439a-db54-7d9cc26a02a7"
      },
      "execution_count": null,
      "outputs": [
        {
          "output_type": "stream",
          "name": "stdout",
          "text": [
            "454085.73614020896\n",
            "237952.18454781393\n",
            "245614.86466934966\n",
            "556835.9013569362\n"
          ]
        }
      ]
    },
    {
      "cell_type": "markdown",
      "source": [
        "We see that our K Nearest Neighbors model however, after trying various predictions we decided that our Ensemble Model would be best based on other expert predictors and our beliefs"
      ],
      "metadata": {
        "id": "W977z90UqK3C"
      }
    },
    {
      "cell_type": "markdown",
      "source": [
        "## Final Model Predictions and Final Model Plotted"
      ],
      "metadata": {
        "id": "reF25O2PpoGR"
      }
    },
    {
      "cell_type": "code",
      "source": [
        "prediction_nasdaq_sp500 = [[14684, 8969]]\n",
        "ensemble_model.predict(prediction_nasdaq_sp500)"
      ],
      "metadata": {
        "colab": {
          "base_uri": "https://localhost:8080/"
        },
        "id": "XGhOLdm2i2lk",
        "outputId": "a4e4b058-1fe5-4b09-9128-cb5b8e34e3f3"
      },
      "execution_count": null,
      "outputs": [
        {
          "output_type": "stream",
          "name": "stderr",
          "text": [
            "/usr/local/lib/python3.8/dist-packages/sklearn/base.py:450: UserWarning: X does not have valid feature names, but LinearRegression was fitted with feature names\n",
            "  warnings.warn(\n",
            "/usr/local/lib/python3.8/dist-packages/sklearn/base.py:450: UserWarning: X does not have valid feature names, but StandardScaler was fitted with feature names\n",
            "  warnings.warn(\n"
          ]
        },
        {
          "output_type": "execute_result",
          "data": {
            "text/plain": [
              "array([4661.08071261])"
            ]
          },
          "metadata": {},
          "execution_count": 969
        }
      ]
    },
    {
      "cell_type": "code",
      "source": [
        "t_val =  df_stocks_crypto.index"
      ],
      "metadata": {
        "id": "K3ffb1Z8d5ue"
      },
      "execution_count": null,
      "outputs": []
    },
    {
      "cell_type": "code",
      "source": [
        "from sklearn.pipeline import make_pipeline\n",
        "\n",
        "# Fit linear regression of y on t and t^2\n",
        "pipeline = make_pipeline(\n",
        "    PolynomialFeatures(degree=2, include_bias=False),\n",
        "    ensemble_model\n",
        ")\n",
        "pipeline.fit(X=t_val.to_frame(), y=y_train)\n",
        "\n",
        "# Store model predictions in a Series for easy plotting\n",
        "y_train_ = pd.Series(\n",
        "    pipeline.predict(X=t_val.to_frame()),\n",
        "    index=y_train.index\n",
        ")\n",
        "\n",
        "# Plot the data and the fitted trend\n",
        "y_train.plot.line(style=\":\")\n",
        "y_train_.plot.line()"
      ],
      "metadata": {
        "colab": {
          "base_uri": "https://localhost:8080/",
          "height": 288
        },
        "id": "WwqQ6_UnrjyY",
        "outputId": "8ca15b5b-ad30-484f-8aa0-7956de1dc451"
      },
      "execution_count": null,
      "outputs": [
        {
          "output_type": "execute_result",
          "data": {
            "text/plain": [
              "<matplotlib.axes._subplots.AxesSubplot at 0x7f918d2cadf0>"
            ]
          },
          "metadata": {},
          "execution_count": 971
        },
        {
          "output_type": "display_data",
          "data": {
            "text/plain": [
              "<Figure size 432x288 with 1 Axes>"
            ],
            "image/png": "[encoded data removed]"
          },
          "metadata": {
            "needs_background": "light"
          }
        }
      ]
    }
  ]
}