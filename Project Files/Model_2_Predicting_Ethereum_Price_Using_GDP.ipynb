{
  "nbformat": 4,
  "nbformat_minor": 0,
  "metadata": {
    "colab": {
      "provenance": []
    },
    "kernelspec": {
      "name": "python3",
      "display_name": "Python 3"
    },
    "language_info": {
      "name": "python"
    }
  },
  "cells": [
    {
      "cell_type": "code",
      "execution_count": null,
      "metadata": {
        "id": "IFmEKf0yWn9q"
      },
      "outputs": [],
      "source": [
        "import pandas as pd\n",
        "repo = \"https://raw.githubusercontent.com/rcamwm/DATA301-project-data/main/\""
      ]
    },
    {
      "cell_type": "code",
      "source": [
        "from sklearn.ensemble import StackingRegressor\n",
        "from sklearn.linear_model import LinearRegression\n",
        "from sklearn.model_selection import cross_val_score\n",
        "from sklearn.neighbors import KNeighborsRegressor\n",
        "from sklearn.preprocessing import StandardScaler\n",
        "from sklearn.pipeline import make_pipeline"
      ],
      "metadata": {
        "id": "KoqQ4KfYJP4I"
      },
      "execution_count": null,
      "outputs": []
    },
    {
      "cell_type": "markdown",
      "source": [
        "## GDP Dataset"
      ],
      "metadata": {
        "id": "750X9OcGcbv6"
      }
    },
    {
      "cell_type": "markdown",
      "source": [
        "### Description\n",
        "The data shows the change in GDP from 1964 to 2021. We also had to clean the new data set with a larger time frame."
      ],
      "metadata": {
        "id": "IuraSZXE4Ofw"
      }
    },
    {
      "cell_type": "code",
      "source": [
        "# Import GDP dataset and condense into new DataFrame\n",
        "df_gdp = pd.read_csv(\n",
        "    repo + \"/GDP-Values-Worldwide.csv\", \n",
        ").drop(\n",
        "    ['Country Code'], \n",
        "    axis=1\n",
        ").set_index(\"Country Name\").transpose()\n",
        "\n",
        "df_gdp.index.set_names(\"Date\", inplace=True)\n",
        "df_gdp.index = pd.to_datetime(df_gdp.index).year\n",
        "df_gdp.head()"
      ],
      "metadata": {
        "colab": {
          "base_uri": "https://localhost:8080/",
          "height": 383
        },
        "id": "TuUhjOPicvCS",
        "outputId": "02a35edf-62c5-4112-9c1b-e3f873ac741a"
      },
      "execution_count": null,
      "outputs": [
        {
          "output_type": "execute_result",
          "data": {
            "text/plain": [
              "Country Name  Aruba  Africa Eastern and Southern  Afghanistan  \\\n",
              "Date                                                            \n",
              "1960            NaN                 2.129059e+10  537777811.1   \n",
              "1961            NaN                 2.180847e+10  548888895.6   \n",
              "1962            NaN                 2.370702e+10  546666677.8   \n",
              "1963            NaN                 2.821004e+10  751111191.1   \n",
              "1964            NaN                 2.611879e+10  800000044.4   \n",
              "\n",
              "Country Name  Africa Western and Central  Angola  Albania  Andorra  \\\n",
              "Date                                                                 \n",
              "1960                        1.040414e+10     NaN      NaN      NaN   \n",
              "1961                        1.112789e+10     NaN      NaN      NaN   \n",
              "1962                        1.194319e+10     NaN      NaN      NaN   \n",
              "1963                        1.267633e+10     NaN      NaN      NaN   \n",
              "1964                        1.383837e+10     NaN      NaN      NaN   \n",
              "\n",
              "Country Name  Arab World  United Arab Emirates     Argentina  ...  \\\n",
              "Date                                                          ...   \n",
              "1960                 NaN                   NaN           NaN  ...   \n",
              "1961                 NaN                   NaN           NaN  ...   \n",
              "1962                 NaN                   NaN  2.445060e+10  ...   \n",
              "1963                 NaN                   NaN  1.827212e+10  ...   \n",
              "1964                 NaN                   NaN  2.560525e+10  ...   \n",
              "\n",
              "Country Name  Virgin Islands (U.S.)  Vietnam  Vanuatu         World  Samoa  \\\n",
              "Date                                                                         \n",
              "1960                            NaN      NaN      NaN  1.392050e+12    NaN   \n",
              "1961                            NaN      NaN      NaN  1.448390e+12    NaN   \n",
              "1962                            NaN      NaN      NaN  1.550300e+12    NaN   \n",
              "1963                            NaN      NaN      NaN  1.671350e+12    NaN   \n",
              "1964                            NaN      NaN      NaN  1.830000e+12    NaN   \n",
              "\n",
              "Country Name  Kosovo  Yemen, Rep.  South Africa       Zambia      Zimbabwe  \n",
              "Date                                                                        \n",
              "1960             NaN          NaN  8.748597e+09  713000000.0  1.052990e+09  \n",
              "1961             NaN          NaN  9.225996e+09  696285714.3  1.096647e+09  \n",
              "1962             NaN          NaN  9.813996e+09  693142857.1  1.117602e+09  \n",
              "1963             NaN          NaN  1.085420e+10  718714285.7  1.159512e+09  \n",
              "1964             NaN          NaN  1.195600e+10  839428571.4  1.217138e+09  \n",
              "\n",
              "[5 rows x 266 columns]"
            ],
            "text/html": [
              "\n",
              "  <div id=\"df-24dd98fd-1f6e-4458-8ecd-5a817b6aacd8\">\n",
              "    <div class=\"colab-df-container\">\n",
              "      <div>\n",
              "<style scoped>\n",
              "    .dataframe tbody tr th:only-of-type {\n",
              "        vertical-align: middle;\n",
              "    }\n",
              "\n",
              "    .dataframe tbody tr th {\n",
              "        vertical-align: top;\n",
              "    }\n",
              "\n",
              "    .dataframe thead th {\n",
              "        text-align: right;\n",
              "    }\n",
              "</style>\n",
              "<table border=\"1\" class=\"dataframe\">\n",
              "  <thead>\n",
              "    <tr style=\"text-align: right;\">\n",
              "      <th>Country Name</th>\n",
              "      <th>Aruba</th>\n",
              "      <th>Africa Eastern and Southern</th>\n",
              "      <th>Afghanistan</th>\n",
              "      <th>Africa Western and Central</th>\n",
              "      <th>Angola</th>\n",
              "      <th>Albania</th>\n",
              "      <th>Andorra</th>\n",
              "      <th>Arab World</th>\n",
              "      <th>United Arab Emirates</th>\n",
              "      <th>Argentina</th>\n",
              "      <th>...</th>\n",
              "      <th>Virgin Islands (U.S.)</th>\n",
              "      <th>Vietnam</th>\n",
              "      <th>Vanuatu</th>\n",
              "      <th>World</th>\n",
              "      <th>Samoa</th>\n",
              "      <th>Kosovo</th>\n",
              "      <th>Yemen, Rep.</th>\n",
              "      <th>South Africa</th>\n",
              "      <th>Zambia</th>\n",
              "      <th>Zimbabwe</th>\n",
              "    </tr>\n",
              "    <tr>\n",
              "      <th>Date</th>\n",
              "      <th></th>\n",
              "      <th></th>\n",
              "      <th></th>\n",
              "      <th></th>\n",
              "      <th></th>\n",
              "      <th></th>\n",
              "      <th></th>\n",
              "      <th></th>\n",
              "      <th></th>\n",
              "      <th></th>\n",
              "      <th></th>\n",
              "      <th></th>\n",
              "      <th></th>\n",
              "      <th></th>\n",
              "      <th></th>\n",
              "      <th></th>\n",
              "      <th></th>\n",
              "      <th></th>\n",
              "      <th></th>\n",
              "      <th></th>\n",
              "      <th></th>\n",
              "    </tr>\n",
              "  </thead>\n",
              "  <tbody>\n",
              "    <tr>\n",
              "      <th>1960</th>\n",
              "      <td>NaN</td>\n",
              "      <td>2.129059e+10</td>\n",
              "      <td>537777811.1</td>\n",
              "      <td>1.040414e+10</td>\n",
              "      <td>NaN</td>\n",
              "      <td>NaN</td>\n",
              "      <td>NaN</td>\n",
              "      <td>NaN</td>\n",
              "      <td>NaN</td>\n",
              "      <td>NaN</td>\n",
              "      <td>...</td>\n",
              "      <td>NaN</td>\n",
              "      <td>NaN</td>\n",
              "      <td>NaN</td>\n",
              "      <td>1.392050e+12</td>\n",
              "      <td>NaN</td>\n",
              "      <td>NaN</td>\n",
              "      <td>NaN</td>\n",
              "      <td>8.748597e+09</td>\n",
              "      <td>713000000.0</td>\n",
              "      <td>1.052990e+09</td>\n",
              "    </tr>\n",
              "    <tr>\n",
              "      <th>1961</th>\n",
              "      <td>NaN</td>\n",
              "      <td>2.180847e+10</td>\n",
              "      <td>548888895.6</td>\n",
              "      <td>1.112789e+10</td>\n",
              "      <td>NaN</td>\n",
              "      <td>NaN</td>\n",
              "      <td>NaN</td>\n",
              "      <td>NaN</td>\n",
              "      <td>NaN</td>\n",
              "      <td>NaN</td>\n",
              "      <td>...</td>\n",
              "      <td>NaN</td>\n",
              "      <td>NaN</td>\n",
              "      <td>NaN</td>\n",
              "      <td>1.448390e+12</td>\n",
              "      <td>NaN</td>\n",
              "      <td>NaN</td>\n",
              "      <td>NaN</td>\n",
              "      <td>9.225996e+09</td>\n",
              "      <td>696285714.3</td>\n",
              "      <td>1.096647e+09</td>\n",
              "    </tr>\n",
              "    <tr>\n",
              "      <th>1962</th>\n",
              "      <td>NaN</td>\n",
              "      <td>2.370702e+10</td>\n",
              "      <td>546666677.8</td>\n",
              "      <td>1.194319e+10</td>\n",
              "      <td>NaN</td>\n",
              "      <td>NaN</td>\n",
              "      <td>NaN</td>\n",
              "      <td>NaN</td>\n",
              "      <td>NaN</td>\n",
              "      <td>2.445060e+10</td>\n",
              "      <td>...</td>\n",
              "      <td>NaN</td>\n",
              "      <td>NaN</td>\n",
              "      <td>NaN</td>\n",
              "      <td>1.550300e+12</td>\n",
              "      <td>NaN</td>\n",
              "      <td>NaN</td>\n",
              "      <td>NaN</td>\n",
              "      <td>9.813996e+09</td>\n",
              "      <td>693142857.1</td>\n",
              "      <td>1.117602e+09</td>\n",
              "    </tr>\n",
              "    <tr>\n",
              "      <th>1963</th>\n",
              "      <td>NaN</td>\n",
              "      <td>2.821004e+10</td>\n",
              "      <td>751111191.1</td>\n",
              "      <td>1.267633e+10</td>\n",
              "      <td>NaN</td>\n",
              "      <td>NaN</td>\n",
              "      <td>NaN</td>\n",
              "      <td>NaN</td>\n",
              "      <td>NaN</td>\n",
              "      <td>1.827212e+10</td>\n",
              "      <td>...</td>\n",
              "      <td>NaN</td>\n",
              "      <td>NaN</td>\n",
              "      <td>NaN</td>\n",
              "      <td>1.671350e+12</td>\n",
              "      <td>NaN</td>\n",
              "      <td>NaN</td>\n",
              "      <td>NaN</td>\n",
              "      <td>1.085420e+10</td>\n",
              "      <td>718714285.7</td>\n",
              "      <td>1.159512e+09</td>\n",
              "    </tr>\n",
              "    <tr>\n",
              "      <th>1964</th>\n",
              "      <td>NaN</td>\n",
              "      <td>2.611879e+10</td>\n",
              "      <td>800000044.4</td>\n",
              "      <td>1.383837e+10</td>\n",
              "      <td>NaN</td>\n",
              "      <td>NaN</td>\n",
              "      <td>NaN</td>\n",
              "      <td>NaN</td>\n",
              "      <td>NaN</td>\n",
              "      <td>2.560525e+10</td>\n",
              "      <td>...</td>\n",
              "      <td>NaN</td>\n",
              "      <td>NaN</td>\n",
              "      <td>NaN</td>\n",
              "      <td>1.830000e+12</td>\n",
              "      <td>NaN</td>\n",
              "      <td>NaN</td>\n",
              "      <td>NaN</td>\n",
              "      <td>1.195600e+10</td>\n",
              "      <td>839428571.4</td>\n",
              "      <td>1.217138e+09</td>\n",
              "    </tr>\n",
              "  </tbody>\n",
              "</table>\n",
              "<p>5 rows × 266 columns</p>\n",
              "</div>\n",
              "      <button class=\"colab-df-convert\" onclick=\"convertToInteractive('df-24dd98fd-1f6e-4458-8ecd-5a817b6aacd8')\"\n",
              "              title=\"Convert this dataframe to an interactive table.\"\n",
              "              style=\"display:none;\">\n",
              "        \n",
              "  <svg xmlns=\"http://www.w3.org/2000/svg\" height=\"24px\"viewBox=\"0 0 24 24\"\n",
              "       width=\"24px\">\n",
              "    <path d=\"M0 0h24v24H0V0z\" fill=\"none\"/>\n",
              "    <path d=\"M18.56 5.44l.94 2.06.94-2.06 2.06-.94-2.06-.94-.94-2.06-.94 2.06-2.06.94zm-11 1L8.5 8.5l.94-2.06 2.06-.94-2.06-.94L8.5 2.5l-.94 2.06-2.06.94zm10 10l.94 2.06.94-2.06 2.06-.94-2.06-.94-.94-2.06-.94 2.06-2.06.94z\"/><path d=\"M17.41 7.96l-1.37-1.37c-.4-.4-.92-.59-1.43-.59-.52 0-1.04.2-1.43.59L10.3 9.45l-7.72 7.72c-.78.78-.78 2.05 0 2.83L4 21.41c.39.39.9.59 1.41.59.51 0 1.02-.2 1.41-.59l7.78-7.78 2.81-2.81c.8-.78.8-2.07 0-2.86zM5.41 20L4 18.59l7.72-7.72 1.47 1.35L5.41 20z\"/>\n",
              "  </svg>\n",
              "      </button>\n",
              "      \n",
              "  <style>\n",
              "    .colab-df-container {\n",
              "      display:flex;\n",
              "      flex-wrap:wrap;\n",
              "      gap: 12px;\n",
              "    }\n",
              "\n",
              "    .colab-df-convert {\n",
              "      background-color: #E8F0FE;\n",
              "      border: none;\n",
              "      border-radius: 50%;\n",
              "      cursor: pointer;\n",
              "      display: none;\n",
              "      fill: #1967D2;\n",
              "      height: 32px;\n",
              "      padding: 0 0 0 0;\n",
              "      width: 32px;\n",
              "    }\n",
              "\n",
              "    .colab-df-convert:hover {\n",
              "      background-color: #E2EBFA;\n",
              "      box-shadow: 0px 1px 2px rgba(60, 64, 67, 0.3), 0px 1px 3px 1px rgba(60, 64, 67, 0.15);\n",
              "      fill: #174EA6;\n",
              "    }\n",
              "\n",
              "    [theme=dark] .colab-df-convert {\n",
              "      background-color: #3B4455;\n",
              "      fill: #D2E3FC;\n",
              "    }\n",
              "\n",
              "    [theme=dark] .colab-df-convert:hover {\n",
              "      background-color: #434B5C;\n",
              "      box-shadow: 0px 1px 3px 1px rgba(0, 0, 0, 0.15);\n",
              "      filter: drop-shadow(0px 1px 2px rgba(0, 0, 0, 0.3));\n",
              "      fill: #FFFFFF;\n",
              "    }\n",
              "  </style>\n",
              "\n",
              "      <script>\n",
              "        const buttonEl =\n",
              "          document.querySelector('#df-24dd98fd-1f6e-4458-8ecd-5a817b6aacd8 button.colab-df-convert');\n",
              "        buttonEl.style.display =\n",
              "          google.colab.kernel.accessAllowed ? 'block' : 'none';\n",
              "\n",
              "        async function convertToInteractive(key) {\n",
              "          const element = document.querySelector('#df-24dd98fd-1f6e-4458-8ecd-5a817b6aacd8');\n",
              "          const dataTable =\n",
              "            await google.colab.kernel.invokeFunction('convertToInteractive',\n",
              "                                                     [key], {});\n",
              "          if (!dataTable) return;\n",
              "\n",
              "          const docLinkHtml = 'Like what you see? Visit the ' +\n",
              "            '<a target=\"_blank\" href=https://colab.research.google.com/notebooks/data_table.ipynb>data table notebook</a>'\n",
              "            + ' to learn more about interactive tables.';\n",
              "          element.innerHTML = '';\n",
              "          dataTable['output_type'] = 'display_data';\n",
              "          await google.colab.output.renderOutput(dataTable, element);\n",
              "          const docLink = document.createElement('div');\n",
              "          docLink.innerHTML = docLinkHtml;\n",
              "          element.appendChild(docLink);\n",
              "        }\n",
              "      </script>\n",
              "    </div>\n",
              "  </div>\n",
              "  "
            ]
          },
          "metadata": {},
          "execution_count": 162
        }
      ]
    },
    {
      "cell_type": "markdown",
      "source": [
        "## Historic NASDAQ Dataset"
      ],
      "metadata": {
        "id": "OD9zZ5g5ceXb"
      }
    },
    {
      "cell_type": "markdown",
      "source": [
        "### Description\n",
        "The data shows the change in the NASDAQ's price from 1971 to roughly the present. We also had to clean the new data set with a larger time frame."
      ],
      "metadata": {
        "id": "WJyzDXlc3k5h"
      }
    },
    {
      "cell_type": "code",
      "source": [
        "# Import NASDAQ dataset and set index to data\n",
        "df_nasdaq = pd.read_csv(\n",
        "    \"https://fred.stlouisfed.org/graph/fredgraph.csv?bgcolor=%23e1e9f0&chart_type=line&drp=0&fo=open%20sans&graph_bgcolor=%23ffffff&height=450&mode=fred&recession_bars=on&txtcolor=%23444444&ts=12&tts=12&width=1168&nt=0&thu=0&trc=0&show_legend=yes&show_axis_titles=yes&show_tooltip=yes&id=NASDAQCOM&scale=left&cosd=1971-02-05&coed=2022-12-01&line_color=%234572a7&link_values=false&line_style=solid&mark_type=none&mw=3&lw=2&ost=-99999&oet=99999&mma=0&fml=a&fq=Daily%2C%20Close&fam=avg&fgst=lin&fgsnd=2020-02-01&line_index=1&transformation=lin&vintage_date=2022-12-04&revision_date=2022-12-04&nd=1971-02-05\", \n",
        "    parse_dates=True\n",
        ").dropna()\n",
        "df_nasdaq.columns = [\"Date\", \"NASDAQ Closing Price\"]\n",
        "df_nasdaq.set_index(\"Date\", inplace=True)\n",
        "df_nasdaq = df_nasdaq.loc[df_nasdaq[\"NASDAQ Closing Price\"] != \".\"]\n",
        "df_nasdaq.head()"
      ],
      "metadata": {
        "id": "O97NB6W-VSNO",
        "colab": {
          "base_uri": "https://localhost:8080/",
          "height": 238
        },
        "outputId": "8d0ea925-2bac-444e-c863-fc433eb88421"
      },
      "execution_count": null,
      "outputs": [
        {
          "output_type": "execute_result",
          "data": {
            "text/plain": [
              "           NASDAQ Closing Price\n",
              "Date                           \n",
              "1971-02-05               100.00\n",
              "1971-02-08               100.84\n",
              "1971-02-09               100.76\n",
              "1971-02-10               100.69\n",
              "1971-02-11               101.45"
            ],
            "text/html": [
              "\n",
              "  <div id=\"df-76dac89f-5a60-4b14-82b2-a1e67e953987\">\n",
              "    <div class=\"colab-df-container\">\n",
              "      <div>\n",
              "<style scoped>\n",
              "    .dataframe tbody tr th:only-of-type {\n",
              "        vertical-align: middle;\n",
              "    }\n",
              "\n",
              "    .dataframe tbody tr th {\n",
              "        vertical-align: top;\n",
              "    }\n",
              "\n",
              "    .dataframe thead th {\n",
              "        text-align: right;\n",
              "    }\n",
              "</style>\n",
              "<table border=\"1\" class=\"dataframe\">\n",
              "  <thead>\n",
              "    <tr style=\"text-align: right;\">\n",
              "      <th></th>\n",
              "      <th>NASDAQ Closing Price</th>\n",
              "    </tr>\n",
              "    <tr>\n",
              "      <th>Date</th>\n",
              "      <th></th>\n",
              "    </tr>\n",
              "  </thead>\n",
              "  <tbody>\n",
              "    <tr>\n",
              "      <th>1971-02-05</th>\n",
              "      <td>100.00</td>\n",
              "    </tr>\n",
              "    <tr>\n",
              "      <th>1971-02-08</th>\n",
              "      <td>100.84</td>\n",
              "    </tr>\n",
              "    <tr>\n",
              "      <th>1971-02-09</th>\n",
              "      <td>100.76</td>\n",
              "    </tr>\n",
              "    <tr>\n",
              "      <th>1971-02-10</th>\n",
              "      <td>100.69</td>\n",
              "    </tr>\n",
              "    <tr>\n",
              "      <th>1971-02-11</th>\n",
              "      <td>101.45</td>\n",
              "    </tr>\n",
              "  </tbody>\n",
              "</table>\n",
              "</div>\n",
              "      <button class=\"colab-df-convert\" onclick=\"convertToInteractive('df-76dac89f-5a60-4b14-82b2-a1e67e953987')\"\n",
              "              title=\"Convert this dataframe to an interactive table.\"\n",
              "              style=\"display:none;\">\n",
              "        \n",
              "  <svg xmlns=\"http://www.w3.org/2000/svg\" height=\"24px\"viewBox=\"0 0 24 24\"\n",
              "       width=\"24px\">\n",
              "    <path d=\"M0 0h24v24H0V0z\" fill=\"none\"/>\n",
              "    <path d=\"M18.56 5.44l.94 2.06.94-2.06 2.06-.94-2.06-.94-.94-2.06-.94 2.06-2.06.94zm-11 1L8.5 8.5l.94-2.06 2.06-.94-2.06-.94L8.5 2.5l-.94 2.06-2.06.94zm10 10l.94 2.06.94-2.06 2.06-.94-2.06-.94-.94-2.06-.94 2.06-2.06.94z\"/><path d=\"M17.41 7.96l-1.37-1.37c-.4-.4-.92-.59-1.43-.59-.52 0-1.04.2-1.43.59L10.3 9.45l-7.72 7.72c-.78.78-.78 2.05 0 2.83L4 21.41c.39.39.9.59 1.41.59.51 0 1.02-.2 1.41-.59l7.78-7.78 2.81-2.81c.8-.78.8-2.07 0-2.86zM5.41 20L4 18.59l7.72-7.72 1.47 1.35L5.41 20z\"/>\n",
              "  </svg>\n",
              "      </button>\n",
              "      \n",
              "  <style>\n",
              "    .colab-df-container {\n",
              "      display:flex;\n",
              "      flex-wrap:wrap;\n",
              "      gap: 12px;\n",
              "    }\n",
              "\n",
              "    .colab-df-convert {\n",
              "      background-color: #E8F0FE;\n",
              "      border: none;\n",
              "      border-radius: 50%;\n",
              "      cursor: pointer;\n",
              "      display: none;\n",
              "      fill: #1967D2;\n",
              "      height: 32px;\n",
              "      padding: 0 0 0 0;\n",
              "      width: 32px;\n",
              "    }\n",
              "\n",
              "    .colab-df-convert:hover {\n",
              "      background-color: #E2EBFA;\n",
              "      box-shadow: 0px 1px 2px rgba(60, 64, 67, 0.3), 0px 1px 3px 1px rgba(60, 64, 67, 0.15);\n",
              "      fill: #174EA6;\n",
              "    }\n",
              "\n",
              "    [theme=dark] .colab-df-convert {\n",
              "      background-color: #3B4455;\n",
              "      fill: #D2E3FC;\n",
              "    }\n",
              "\n",
              "    [theme=dark] .colab-df-convert:hover {\n",
              "      background-color: #434B5C;\n",
              "      box-shadow: 0px 1px 3px 1px rgba(0, 0, 0, 0.15);\n",
              "      filter: drop-shadow(0px 1px 2px rgba(0, 0, 0, 0.3));\n",
              "      fill: #FFFFFF;\n",
              "    }\n",
              "  </style>\n",
              "\n",
              "      <script>\n",
              "        const buttonEl =\n",
              "          document.querySelector('#df-76dac89f-5a60-4b14-82b2-a1e67e953987 button.colab-df-convert');\n",
              "        buttonEl.style.display =\n",
              "          google.colab.kernel.accessAllowed ? 'block' : 'none';\n",
              "\n",
              "        async function convertToInteractive(key) {\n",
              "          const element = document.querySelector('#df-76dac89f-5a60-4b14-82b2-a1e67e953987');\n",
              "          const dataTable =\n",
              "            await google.colab.kernel.invokeFunction('convertToInteractive',\n",
              "                                                     [key], {});\n",
              "          if (!dataTable) return;\n",
              "\n",
              "          const docLinkHtml = 'Like what you see? Visit the ' +\n",
              "            '<a target=\"_blank\" href=https://colab.research.google.com/notebooks/data_table.ipynb>data table notebook</a>'\n",
              "            + ' to learn more about interactive tables.';\n",
              "          element.innerHTML = '';\n",
              "          dataTable['output_type'] = 'display_data';\n",
              "          await google.colab.output.renderOutput(dataTable, element);\n",
              "          const docLink = document.createElement('div');\n",
              "          docLink.innerHTML = docLinkHtml;\n",
              "          element.appendChild(docLink);\n",
              "        }\n",
              "      </script>\n",
              "    </div>\n",
              "  </div>\n",
              "  "
            ]
          },
          "metadata": {},
          "execution_count": 136
        }
      ]
    },
    {
      "cell_type": "code",
      "source": [
        "def get_year_first_nasdaq(year):\n",
        "  filtered = df_nasdaq[\n",
        "      (df_nasdaq.index >= str(year)) & (df_nasdaq.index < str(year + 1))\n",
        "  ]\n",
        "  return float(filtered.iloc[0].values[0])"
      ],
      "metadata": {
        "id": "rzAoTtoLbdnS"
      },
      "execution_count": null,
      "outputs": []
    },
    {
      "cell_type": "code",
      "source": [
        "nasdaq_dates = pd.DatetimeIndex(df_nasdaq.index)\n",
        "df_nasdaq_yearly = pd.DataFrame(\n",
        "    index=range(nasdaq_dates[0].year, nasdaq_dates[-1].year + 1),\n",
        "    columns=[\"Beginning of Year NASDAQ Price\"],\n",
        "    dtype=\"float64\"\n",
        ")\n",
        "df_nasdaq_yearly[\"Beginning of Year NASDAQ Price\"] = df_nasdaq_yearly.apply(\n",
        "    lambda year: get_year_first_nasdaq(year.name),\n",
        "    axis=1\n",
        ")\n",
        "df_nasdaq_yearly.head()"
      ],
      "metadata": {
        "id": "eeIs9zbUfKiP",
        "colab": {
          "base_uri": "https://localhost:8080/",
          "height": 206
        },
        "outputId": "8fcbac93-ffe4-4acc-d7fc-90ebd3985344"
      },
      "execution_count": null,
      "outputs": [
        {
          "output_type": "execute_result",
          "data": {
            "text/plain": [
              "      Beginning of Year NASDAQ Price\n",
              "1971                          100.00\n",
              "1972                          113.65\n",
              "1973                          134.63\n",
              "1974                           92.53\n",
              "1975                           60.70"
            ],
            "text/html": [
              "\n",
              "  <div id=\"df-875f2436-8338-45bc-aa01-329225cea9cf\">\n",
              "    <div class=\"colab-df-container\">\n",
              "      <div>\n",
              "<style scoped>\n",
              "    .dataframe tbody tr th:only-of-type {\n",
              "        vertical-align: middle;\n",
              "    }\n",
              "\n",
              "    .dataframe tbody tr th {\n",
              "        vertical-align: top;\n",
              "    }\n",
              "\n",
              "    .dataframe thead th {\n",
              "        text-align: right;\n",
              "    }\n",
              "</style>\n",
              "<table border=\"1\" class=\"dataframe\">\n",
              "  <thead>\n",
              "    <tr style=\"text-align: right;\">\n",
              "      <th></th>\n",
              "      <th>Beginning of Year NASDAQ Price</th>\n",
              "    </tr>\n",
              "  </thead>\n",
              "  <tbody>\n",
              "    <tr>\n",
              "      <th>1971</th>\n",
              "      <td>100.00</td>\n",
              "    </tr>\n",
              "    <tr>\n",
              "      <th>1972</th>\n",
              "      <td>113.65</td>\n",
              "    </tr>\n",
              "    <tr>\n",
              "      <th>1973</th>\n",
              "      <td>134.63</td>\n",
              "    </tr>\n",
              "    <tr>\n",
              "      <th>1974</th>\n",
              "      <td>92.53</td>\n",
              "    </tr>\n",
              "    <tr>\n",
              "      <th>1975</th>\n",
              "      <td>60.70</td>\n",
              "    </tr>\n",
              "  </tbody>\n",
              "</table>\n",
              "</div>\n",
              "      <button class=\"colab-df-convert\" onclick=\"convertToInteractive('df-875f2436-8338-45bc-aa01-329225cea9cf')\"\n",
              "              title=\"Convert this dataframe to an interactive table.\"\n",
              "              style=\"display:none;\">\n",
              "        \n",
              "  <svg xmlns=\"http://www.w3.org/2000/svg\" height=\"24px\"viewBox=\"0 0 24 24\"\n",
              "       width=\"24px\">\n",
              "    <path d=\"M0 0h24v24H0V0z\" fill=\"none\"/>\n",
              "    <path d=\"M18.56 5.44l.94 2.06.94-2.06 2.06-.94-2.06-.94-.94-2.06-.94 2.06-2.06.94zm-11 1L8.5 8.5l.94-2.06 2.06-.94-2.06-.94L8.5 2.5l-.94 2.06-2.06.94zm10 10l.94 2.06.94-2.06 2.06-.94-2.06-.94-.94-2.06-.94 2.06-2.06.94z\"/><path d=\"M17.41 7.96l-1.37-1.37c-.4-.4-.92-.59-1.43-.59-.52 0-1.04.2-1.43.59L10.3 9.45l-7.72 7.72c-.78.78-.78 2.05 0 2.83L4 21.41c.39.39.9.59 1.41.59.51 0 1.02-.2 1.41-.59l7.78-7.78 2.81-2.81c.8-.78.8-2.07 0-2.86zM5.41 20L4 18.59l7.72-7.72 1.47 1.35L5.41 20z\"/>\n",
              "  </svg>\n",
              "      </button>\n",
              "      \n",
              "  <style>\n",
              "    .colab-df-container {\n",
              "      display:flex;\n",
              "      flex-wrap:wrap;\n",
              "      gap: 12px;\n",
              "    }\n",
              "\n",
              "    .colab-df-convert {\n",
              "      background-color: #E8F0FE;\n",
              "      border: none;\n",
              "      border-radius: 50%;\n",
              "      cursor: pointer;\n",
              "      display: none;\n",
              "      fill: #1967D2;\n",
              "      height: 32px;\n",
              "      padding: 0 0 0 0;\n",
              "      width: 32px;\n",
              "    }\n",
              "\n",
              "    .colab-df-convert:hover {\n",
              "      background-color: #E2EBFA;\n",
              "      box-shadow: 0px 1px 2px rgba(60, 64, 67, 0.3), 0px 1px 3px 1px rgba(60, 64, 67, 0.15);\n",
              "      fill: #174EA6;\n",
              "    }\n",
              "\n",
              "    [theme=dark] .colab-df-convert {\n",
              "      background-color: #3B4455;\n",
              "      fill: #D2E3FC;\n",
              "    }\n",
              "\n",
              "    [theme=dark] .colab-df-convert:hover {\n",
              "      background-color: #434B5C;\n",
              "      box-shadow: 0px 1px 3px 1px rgba(0, 0, 0, 0.15);\n",
              "      filter: drop-shadow(0px 1px 2px rgba(0, 0, 0, 0.3));\n",
              "      fill: #FFFFFF;\n",
              "    }\n",
              "  </style>\n",
              "\n",
              "      <script>\n",
              "        const buttonEl =\n",
              "          document.querySelector('#df-875f2436-8338-45bc-aa01-329225cea9cf button.colab-df-convert');\n",
              "        buttonEl.style.display =\n",
              "          google.colab.kernel.accessAllowed ? 'block' : 'none';\n",
              "\n",
              "        async function convertToInteractive(key) {\n",
              "          const element = document.querySelector('#df-875f2436-8338-45bc-aa01-329225cea9cf');\n",
              "          const dataTable =\n",
              "            await google.colab.kernel.invokeFunction('convertToInteractive',\n",
              "                                                     [key], {});\n",
              "          if (!dataTable) return;\n",
              "\n",
              "          const docLinkHtml = 'Like what you see? Visit the ' +\n",
              "            '<a target=\"_blank\" href=https://colab.research.google.com/notebooks/data_table.ipynb>data table notebook</a>'\n",
              "            + ' to learn more about interactive tables.';\n",
              "          element.innerHTML = '';\n",
              "          dataTable['output_type'] = 'display_data';\n",
              "          await google.colab.output.renderOutput(dataTable, element);\n",
              "          const docLink = document.createElement('div');\n",
              "          docLink.innerHTML = docLinkHtml;\n",
              "          element.appendChild(docLink);\n",
              "        }\n",
              "      </script>\n",
              "    </div>\n",
              "  </div>\n",
              "  "
            ]
          },
          "metadata": {},
          "execution_count": 138
        }
      ]
    },
    {
      "cell_type": "code",
      "source": [
        "df_nasdaq_yearly.plot(\n",
        "    kind=\"line\",\n",
        "    title=\"Historic Start of Year Nasdaq Prices\"\n",
        ")"
      ],
      "metadata": {
        "colab": {
          "base_uri": "https://localhost:8080/",
          "height": 299
        },
        "id": "S0bNF3EaLcMr",
        "outputId": "6b7372b1-ee62-416d-d051-a5ee715816a2"
      },
      "execution_count": null,
      "outputs": [
        {
          "output_type": "execute_result",
          "data": {
            "text/plain": [
              "<matplotlib.axes._subplots.AxesSubplot at 0x7fb5c9bc0eb0>"
            ]
          },
          "metadata": {},
          "execution_count": 139
        },
        {
          "output_type": "display_data",
          "data": {
            "text/plain": [
              "<Figure size 432x288 with 1 Axes>"
            ],
            "image/png": "[encoded data removed]"
          },
          "metadata": {
            "needs_background": "light"
          }
        }
      ]
    },
    {
      "cell_type": "markdown",
      "source": [
        "# NASDAQ Prediction Model"
      ],
      "metadata": {
        "id": "h_tkkWUrYN95"
      }
    },
    {
      "cell_type": "markdown",
      "source": [
        "## Finding the countries whose GDP best predicts the NASDAQ."
      ],
      "metadata": {
        "id": "FbJBhdxU6-ez"
      }
    },
    {
      "cell_type": "code",
      "source": [
        "from itertools import combinations\n",
        "\n",
        "# Returns a list of all possible combinations of a list of features\n",
        "def get_list_combinations(feature_list, r=\"All\"):\n",
        "    feature_count = len(feature_list) if r == \"All\" else r\n",
        "    list_combinations = []\n",
        "    for n in range(feature_count + 1):\n",
        "        list_combinations += list(combinations(feature_list, n))\n",
        "    return list_combinations"
      ],
      "metadata": {
        "id": "YdCbjk-IYbzj"
      },
      "execution_count": null,
      "outputs": []
    },
    {
      "cell_type": "code",
      "source": [
        "def get_cv_average_error(features, prediction):\n",
        "    pipeline = make_pipeline(\n",
        "        StandardScaler(),\n",
        "        LinearRegression()\n",
        "    )\n",
        "    cv_errs = -cross_val_score(\n",
        "        pipeline, \n",
        "        X=features,\n",
        "        y=prediction,\n",
        "        scoring=\"neg_mean_squared_error\", \n",
        "        cv=len(features)\n",
        "    )\n",
        "    return cv_errs.mean()\n"
      ],
      "metadata": {
        "id": "05j63zGqpK6X"
      },
      "execution_count": null,
      "outputs": []
    },
    {
      "cell_type": "code",
      "source": [
        "df_gdp_stocks = pd.merge(df_gdp, df_nasdaq_yearly, left_index=True, right_index=True)\n",
        "df_gdp_stocks.head()"
      ],
      "metadata": {
        "id": "RjORCUwjpJWV",
        "colab": {
          "base_uri": "https://localhost:8080/",
          "height": 352
        },
        "outputId": "5ce1f488-82ec-4520-b7d8-0c2c769bd978"
      },
      "execution_count": null,
      "outputs": [
        {
          "output_type": "execute_result",
          "data": {
            "text/plain": [
              "      Aruba  Africa Eastern and Southern   Afghanistan  \\\n",
              "1971    NaN                 4.947892e+10  1.831109e+09   \n",
              "1972    NaN                 5.351484e+10  1.595555e+09   \n",
              "1973    NaN                 6.960079e+10  1.733333e+09   \n",
              "1974    NaN                 8.605778e+10  2.155555e+09   \n",
              "1975    NaN                 9.164915e+10  2.366667e+09   \n",
              "\n",
              "      Africa Western and Central  Angola  Albania       Andorra    Arab World  \\\n",
              "1971                2.083282e+10     NaN      NaN  8.940982e+07  4.984169e+10   \n",
              "1972                2.526495e+10     NaN      NaN  1.134082e+08  5.938154e+10   \n",
              "1973                3.127382e+10     NaN      NaN  1.508201e+08  7.533011e+10   \n",
              "1974                4.421448e+10     NaN      NaN  1.865587e+08  1.428160e+11   \n",
              "1975                5.144473e+10     NaN      NaN  2.201272e+08  1.579100e+11   \n",
              "\n",
              "      United Arab Emirates     Argentina  ...  Vietnam  Vanuatu         World  \\\n",
              "1971                   NaN  3.329320e+10  ...      NaN      NaN  3.310260e+12   \n",
              "1972                   NaN  3.473300e+10  ...      NaN      NaN  3.816540e+12   \n",
              "1973                   NaN  5.254400e+10  ...      NaN      NaN  4.656240e+12   \n",
              "1974                   NaN  7.243678e+10  ...      NaN      NaN  5.366740e+12   \n",
              "1975          1.472067e+10  5.243865e+10  ...      NaN      NaN  5.977990e+12   \n",
              "\n",
              "      Samoa  Kosovo  Yemen, Rep.  South Africa        Zambia      Zimbabwe  \\\n",
              "1971    NaN     NaN          NaN  2.341108e+10  1.687000e+09  2.178716e+09   \n",
              "1972    NaN     NaN          NaN  2.451591e+10  1.910714e+09  2.677729e+09   \n",
              "1973    NaN     NaN          NaN  3.326277e+10  2.268714e+09  3.309354e+09   \n",
              "1974    NaN     NaN          NaN  4.138919e+10  3.121833e+09  3.982161e+09   \n",
              "1975    NaN     NaN          NaN  4.290692e+10  2.618667e+09  4.371301e+09   \n",
              "\n",
              "      Beginning of Year NASDAQ Price  \n",
              "1971                          100.00  \n",
              "1972                          113.65  \n",
              "1973                          134.63  \n",
              "1974                           92.53  \n",
              "1975                           60.70  \n",
              "\n",
              "[5 rows x 267 columns]"
            ],
            "text/html": [
              "\n",
              "  <div id=\"df-d872b463-005c-457c-a7bd-a6b40c3784ca\">\n",
              "    <div class=\"colab-df-container\">\n",
              "      <div>\n",
              "<style scoped>\n",
              "    .dataframe tbody tr th:only-of-type {\n",
              "        vertical-align: middle;\n",
              "    }\n",
              "\n",
              "    .dataframe tbody tr th {\n",
              "        vertical-align: top;\n",
              "    }\n",
              "\n",
              "    .dataframe thead th {\n",
              "        text-align: right;\n",
              "    }\n",
              "</style>\n",
              "<table border=\"1\" class=\"dataframe\">\n",
              "  <thead>\n",
              "    <tr style=\"text-align: right;\">\n",
              "      <th></th>\n",
              "      <th>Aruba</th>\n",
              "      <th>Africa Eastern and Southern</th>\n",
              "      <th>Afghanistan</th>\n",
              "      <th>Africa Western and Central</th>\n",
              "      <th>Angola</th>\n",
              "      <th>Albania</th>\n",
              "      <th>Andorra</th>\n",
              "      <th>Arab World</th>\n",
              "      <th>United Arab Emirates</th>\n",
              "      <th>Argentina</th>\n",
              "      <th>...</th>\n",
              "      <th>Vietnam</th>\n",
              "      <th>Vanuatu</th>\n",
              "      <th>World</th>\n",
              "      <th>Samoa</th>\n",
              "      <th>Kosovo</th>\n",
              "      <th>Yemen, Rep.</th>\n",
              "      <th>South Africa</th>\n",
              "      <th>Zambia</th>\n",
              "      <th>Zimbabwe</th>\n",
              "      <th>Beginning of Year NASDAQ Price</th>\n",
              "    </tr>\n",
              "  </thead>\n",
              "  <tbody>\n",
              "    <tr>\n",
              "      <th>1971</th>\n",
              "      <td>NaN</td>\n",
              "      <td>4.947892e+10</td>\n",
              "      <td>1.831109e+09</td>\n",
              "      <td>2.083282e+10</td>\n",
              "      <td>NaN</td>\n",
              "      <td>NaN</td>\n",
              "      <td>8.940982e+07</td>\n",
              "      <td>4.984169e+10</td>\n",
              "      <td>NaN</td>\n",
              "      <td>3.329320e+10</td>\n",
              "      <td>...</td>\n",
              "      <td>NaN</td>\n",
              "      <td>NaN</td>\n",
              "      <td>3.310260e+12</td>\n",
              "      <td>NaN</td>\n",
              "      <td>NaN</td>\n",
              "      <td>NaN</td>\n",
              "      <td>2.341108e+10</td>\n",
              "      <td>1.687000e+09</td>\n",
              "      <td>2.178716e+09</td>\n",
              "      <td>100.00</td>\n",
              "    </tr>\n",
              "    <tr>\n",
              "      <th>1972</th>\n",
              "      <td>NaN</td>\n",
              "      <td>5.351484e+10</td>\n",
              "      <td>1.595555e+09</td>\n",
              "      <td>2.526495e+10</td>\n",
              "      <td>NaN</td>\n",
              "      <td>NaN</td>\n",
              "      <td>1.134082e+08</td>\n",
              "      <td>5.938154e+10</td>\n",
              "      <td>NaN</td>\n",
              "      <td>3.473300e+10</td>\n",
              "      <td>...</td>\n",
              "      <td>NaN</td>\n",
              "      <td>NaN</td>\n",
              "      <td>3.816540e+12</td>\n",
              "      <td>NaN</td>\n",
              "      <td>NaN</td>\n",
              "      <td>NaN</td>\n",
              "      <td>2.451591e+10</td>\n",
              "      <td>1.910714e+09</td>\n",
              "      <td>2.677729e+09</td>\n",
              "      <td>113.65</td>\n",
              "    </tr>\n",
              "    <tr>\n",
              "      <th>1973</th>\n",
              "      <td>NaN</td>\n",
              "      <td>6.960079e+10</td>\n",
              "      <td>1.733333e+09</td>\n",
              "      <td>3.127382e+10</td>\n",
              "      <td>NaN</td>\n",
              "      <td>NaN</td>\n",
              "      <td>1.508201e+08</td>\n",
              "      <td>7.533011e+10</td>\n",
              "      <td>NaN</td>\n",
              "      <td>5.254400e+10</td>\n",
              "      <td>...</td>\n",
              "      <td>NaN</td>\n",
              "      <td>NaN</td>\n",
              "      <td>4.656240e+12</td>\n",
              "      <td>NaN</td>\n",
              "      <td>NaN</td>\n",
              "      <td>NaN</td>\n",
              "      <td>3.326277e+10</td>\n",
              "      <td>2.268714e+09</td>\n",
              "      <td>3.309354e+09</td>\n",
              "      <td>134.63</td>\n",
              "    </tr>\n",
              "    <tr>\n",
              "      <th>1974</th>\n",
              "      <td>NaN</td>\n",
              "      <td>8.605778e+10</td>\n",
              "      <td>2.155555e+09</td>\n",
              "      <td>4.421448e+10</td>\n",
              "      <td>NaN</td>\n",
              "      <td>NaN</td>\n",
              "      <td>1.865587e+08</td>\n",
              "      <td>1.428160e+11</td>\n",
              "      <td>NaN</td>\n",
              "      <td>7.243678e+10</td>\n",
              "      <td>...</td>\n",
              "      <td>NaN</td>\n",
              "      <td>NaN</td>\n",
              "      <td>5.366740e+12</td>\n",
              "      <td>NaN</td>\n",
              "      <td>NaN</td>\n",
              "      <td>NaN</td>\n",
              "      <td>4.138919e+10</td>\n",
              "      <td>3.121833e+09</td>\n",
              "      <td>3.982161e+09</td>\n",
              "      <td>92.53</td>\n",
              "    </tr>\n",
              "    <tr>\n",
              "      <th>1975</th>\n",
              "      <td>NaN</td>\n",
              "      <td>9.164915e+10</td>\n",
              "      <td>2.366667e+09</td>\n",
              "      <td>5.144473e+10</td>\n",
              "      <td>NaN</td>\n",
              "      <td>NaN</td>\n",
              "      <td>2.201272e+08</td>\n",
              "      <td>1.579100e+11</td>\n",
              "      <td>1.472067e+10</td>\n",
              "      <td>5.243865e+10</td>\n",
              "      <td>...</td>\n",
              "      <td>NaN</td>\n",
              "      <td>NaN</td>\n",
              "      <td>5.977990e+12</td>\n",
              "      <td>NaN</td>\n",
              "      <td>NaN</td>\n",
              "      <td>NaN</td>\n",
              "      <td>4.290692e+10</td>\n",
              "      <td>2.618667e+09</td>\n",
              "      <td>4.371301e+09</td>\n",
              "      <td>60.70</td>\n",
              "    </tr>\n",
              "  </tbody>\n",
              "</table>\n",
              "<p>5 rows × 267 columns</p>\n",
              "</div>\n",
              "      <button class=\"colab-df-convert\" onclick=\"convertToInteractive('df-d872b463-005c-457c-a7bd-a6b40c3784ca')\"\n",
              "              title=\"Convert this dataframe to an interactive table.\"\n",
              "              style=\"display:none;\">\n",
              "        \n",
              "  <svg xmlns=\"http://www.w3.org/2000/svg\" height=\"24px\"viewBox=\"0 0 24 24\"\n",
              "       width=\"24px\">\n",
              "    <path d=\"M0 0h24v24H0V0z\" fill=\"none\"/>\n",
              "    <path d=\"M18.56 5.44l.94 2.06.94-2.06 2.06-.94-2.06-.94-.94-2.06-.94 2.06-2.06.94zm-11 1L8.5 8.5l.94-2.06 2.06-.94-2.06-.94L8.5 2.5l-.94 2.06-2.06.94zm10 10l.94 2.06.94-2.06 2.06-.94-2.06-.94-.94-2.06-.94 2.06-2.06.94z\"/><path d=\"M17.41 7.96l-1.37-1.37c-.4-.4-.92-.59-1.43-.59-.52 0-1.04.2-1.43.59L10.3 9.45l-7.72 7.72c-.78.78-.78 2.05 0 2.83L4 21.41c.39.39.9.59 1.41.59.51 0 1.02-.2 1.41-.59l7.78-7.78 2.81-2.81c.8-.78.8-2.07 0-2.86zM5.41 20L4 18.59l7.72-7.72 1.47 1.35L5.41 20z\"/>\n",
              "  </svg>\n",
              "      </button>\n",
              "      \n",
              "  <style>\n",
              "    .colab-df-container {\n",
              "      display:flex;\n",
              "      flex-wrap:wrap;\n",
              "      gap: 12px;\n",
              "    }\n",
              "\n",
              "    .colab-df-convert {\n",
              "      background-color: #E8F0FE;\n",
              "      border: none;\n",
              "      border-radius: 50%;\n",
              "      cursor: pointer;\n",
              "      display: none;\n",
              "      fill: #1967D2;\n",
              "      height: 32px;\n",
              "      padding: 0 0 0 0;\n",
              "      width: 32px;\n",
              "    }\n",
              "\n",
              "    .colab-df-convert:hover {\n",
              "      background-color: #E2EBFA;\n",
              "      box-shadow: 0px 1px 2px rgba(60, 64, 67, 0.3), 0px 1px 3px 1px rgba(60, 64, 67, 0.15);\n",
              "      fill: #174EA6;\n",
              "    }\n",
              "\n",
              "    [theme=dark] .colab-df-convert {\n",
              "      background-color: #3B4455;\n",
              "      fill: #D2E3FC;\n",
              "    }\n",
              "\n",
              "    [theme=dark] .colab-df-convert:hover {\n",
              "      background-color: #434B5C;\n",
              "      box-shadow: 0px 1px 3px 1px rgba(0, 0, 0, 0.15);\n",
              "      filter: drop-shadow(0px 1px 2px rgba(0, 0, 0, 0.3));\n",
              "      fill: #FFFFFF;\n",
              "    }\n",
              "  </style>\n",
              "\n",
              "      <script>\n",
              "        const buttonEl =\n",
              "          document.querySelector('#df-d872b463-005c-457c-a7bd-a6b40c3784ca button.colab-df-convert');\n",
              "        buttonEl.style.display =\n",
              "          google.colab.kernel.accessAllowed ? 'block' : 'none';\n",
              "\n",
              "        async function convertToInteractive(key) {\n",
              "          const element = document.querySelector('#df-d872b463-005c-457c-a7bd-a6b40c3784ca');\n",
              "          const dataTable =\n",
              "            await google.colab.kernel.invokeFunction('convertToInteractive',\n",
              "                                                     [key], {});\n",
              "          if (!dataTable) return;\n",
              "\n",
              "          const docLinkHtml = 'Like what you see? Visit the ' +\n",
              "            '<a target=\"_blank\" href=https://colab.research.google.com/notebooks/data_table.ipynb>data table notebook</a>'\n",
              "            + ' to learn more about interactive tables.';\n",
              "          element.innerHTML = '';\n",
              "          dataTable['output_type'] = 'display_data';\n",
              "          await google.colab.output.renderOutput(dataTable, element);\n",
              "          const docLink = document.createElement('div');\n",
              "          docLink.innerHTML = docLinkHtml;\n",
              "          element.appendChild(docLink);\n",
              "        }\n",
              "      </script>\n",
              "    </div>\n",
              "  </div>\n",
              "  "
            ]
          },
          "metadata": {},
          "execution_count": 163
        }
      ]
    },
    {
      "cell_type": "markdown",
      "source": [
        "List of ten highest GDP countries according to https://en.wikipedia.org/wiki/List_of_countries_by_GDP_(nominal).\n",
        "\n",
        "Ideally, we would have preferred to use all countries with available data to truly find the best results. But this was too computationally intensive, so we've limited the number of countries we'll be looking at."
      ],
      "metadata": {
        "id": "gufeflOA58-x"
      }
    },
    {
      "cell_type": "code",
      "source": [
        "top_10_gdps = [\n",
        "    \"United States\",\n",
        "    \"China\",\n",
        "    \"Japan\",\n",
        "    \"Germany\",\n",
        "    \"India\",\n",
        "    \"United Kingdom\",\n",
        "    \"France\",\n",
        "    \"Canada\",\n",
        "    \"Russian Federation\",\n",
        "    \"Italy\"\n",
        "]"
      ],
      "metadata": {
        "id": "GnR4_kI-5DbV"
      },
      "execution_count": null,
      "outputs": []
    },
    {
      "cell_type": "code",
      "source": [
        "df_gdp_stocks[top_10_gdps].plot(\n",
        "    kind=\"line\"\n",
        ")"
      ],
      "metadata": {
        "colab": {
          "base_uri": "https://localhost:8080/",
          "height": 294
        },
        "id": "iRsYNrz8Lot-",
        "outputId": "cd7706cf-b471-4835-c4b5-61dc85380360"
      },
      "execution_count": null,
      "outputs": [
        {
          "output_type": "execute_result",
          "data": {
            "text/plain": [
              "<matplotlib.axes._subplots.AxesSubplot at 0x7fb5c781afd0>"
            ]
          },
          "metadata": {},
          "execution_count": 173
        },
        {
          "output_type": "display_data",
          "data": {
            "text/plain": [
              "<Figure size 432x288 with 1 Axes>"
            ],
            "image/png": "[encoded data removed]"
          },
          "metadata": {
            "needs_background": "light"
          }
        }
      ]
    },
    {
      "cell_type": "code",
      "source": [
        "gdp_country_errors = pd.Series(\n",
        "    dtype='float64'\n",
        ")\n",
        "# Combinations limited to reduce computational time\n",
        "country_groups = get_list_combinations(top_10_gdps, 3)\n",
        "for country_group in country_groups[1:]:\n",
        "  country_group_list = list(country_group)\n",
        "  nan_filtered = df_gdp_stocks[\n",
        "      country_group_list + [\"Beginning of Year NASDAQ Price\"]\n",
        "  ].dropna()\n",
        "  if not nan_filtered.empty:\n",
        "    gdp_country_errors[str(country_group_list)] = get_cv_average_error(\n",
        "        nan_filtered[country_group_list],\n",
        "        nan_filtered[\"Beginning of Year NASDAQ Price\"]\n",
        "    )"
      ],
      "metadata": {
        "id": "YKO7tC8npw2R"
      },
      "execution_count": null,
      "outputs": []
    },
    {
      "cell_type": "code",
      "source": [
        "best_country_features = gdp_country_errors.loc[\n",
        "    gdp_country_errors == gdp_country_errors.min()\n",
        "].index[0].strip(\"[']\").split(\"', '\")\n",
        "\n",
        "best_country_features"
      ],
      "metadata": {
        "colab": {
          "base_uri": "https://localhost:8080/"
        },
        "id": "NPwVxO2O7o5O",
        "outputId": "2b13aaff-8549-4f0c-c611-3e84476d67af"
      },
      "execution_count": null,
      "outputs": [
        {
          "output_type": "execute_result",
          "data": {
            "text/plain": [
              "['United States', 'China', 'Canada']"
            ]
          },
          "metadata": {},
          "execution_count": 168
        }
      ]
    },
    {
      "cell_type": "markdown",
      "source": [
        "## Finding the best k-value for k-nearest neighbors in predicting NASDAQ price based on GDP"
      ],
      "metadata": {
        "id": "Ekj_EtWo7O0O"
      }
    },
    {
      "cell_type": "code",
      "source": [
        "def get_cv_error_for_k(features, prediction, k):\n",
        "    pipeline = make_pipeline(\n",
        "        StandardScaler(),\n",
        "        KNeighborsRegressor(n_neighbors=k)\n",
        "    )\n",
        "    cv_errs = -cross_val_score(\n",
        "        pipeline, \n",
        "        X=features,\n",
        "        y=prediction,\n",
        "        scoring=\"neg_mean_squared_error\", \n",
        "        cv=len(features)\n",
        "    )\n",
        "    return cv_errs.mean()"
      ],
      "metadata": {
        "id": "N2AIsiZrBeUK"
      },
      "execution_count": null,
      "outputs": []
    },
    {
      "cell_type": "code",
      "source": [
        "def get_best_k(features, prediction, max_k):\n",
        "    k_errors = pd.Series(dtype='float64')\n",
        "    for k in range(2, max_k): \n",
        "        k_errors[str(k)] = get_cv_error_for_k(\n",
        "            features,\n",
        "            prediction,\n",
        "            k\n",
        "        )\n",
        "    return int(k_errors.loc[\n",
        "        k_errors == k_errors.min()\n",
        "    ].index.values[0]), k_errors"
      ],
      "metadata": {
        "id": "0Fb9AMYXBV2v"
      },
      "execution_count": null,
      "outputs": []
    },
    {
      "cell_type": "code",
      "source": [
        "best_fit_countries = df_gdp_stocks[\n",
        "    best_country_features + [\"Beginning of Year NASDAQ Price\"]\n",
        "].dropna()\n",
        "\n",
        "k_return = get_best_k(\n",
        "    best_fit_countries[best_country_features],\n",
        "    best_fit_countries[\"Beginning of Year NASDAQ Price\"],\n",
        "    30\n",
        ")\n",
        "\n",
        "k_return[1].plot(kind=\"line\")"
      ],
      "metadata": {
        "colab": {
          "base_uri": "https://localhost:8080/",
          "height": 294
        },
        "id": "SMSEbbp1Bsmh",
        "outputId": "c5ee53e7-962c-4fe0-c29a-6377ff4249ff"
      },
      "execution_count": null,
      "outputs": [
        {
          "output_type": "execute_result",
          "data": {
            "text/plain": [
              "<matplotlib.axes._subplots.AxesSubplot at 0x7fb5c777b430>"
            ]
          },
          "metadata": {},
          "execution_count": 176
        },
        {
          "output_type": "display_data",
          "data": {
            "text/plain": [
              "<Figure size 432x288 with 1 Axes>"
            ],
            "image/png": "[encoded data removed]"
          },
          "metadata": {
            "needs_background": "light"
          }
        }
      ]
    },
    {
      "cell_type": "code",
      "source": [
        "best_k = k_return[0]\n",
        "best_k"
      ],
      "metadata": {
        "colab": {
          "base_uri": "https://localhost:8080/"
        },
        "id": "e7x0ipiGDFqv",
        "outputId": "8d024f6b-f2ab-4719-e550-65d262f428bc"
      },
      "execution_count": null,
      "outputs": [
        {
          "output_type": "execute_result",
          "data": {
            "text/plain": [
              "2"
            ]
          },
          "metadata": {},
          "execution_count": 177
        }
      ]
    },
    {
      "cell_type": "markdown",
      "source": [
        "## Create Stacked Model"
      ],
      "metadata": {
        "id": "IuAe6_vuDLa7"
      }
    },
    {
      "cell_type": "code",
      "source": [
        "def get_stacking_model(X, y, k):\n",
        "    linear_model = LinearRegression()\n",
        "    linear_model.fit(X=X, y=y)\n",
        "\n",
        "    knn_model = make_pipeline(\n",
        "        StandardScaler(),\n",
        "        KNeighborsRegressor(n_neighbors=k)\n",
        "    )\n",
        "    knn_model.fit(X=X, y=y)\n",
        "\n",
        "    stacking_model = StackingRegressor([\n",
        "        (\"linear\", linear_model), \n",
        "        (\"knn\", knn_model)],\n",
        "        final_estimator=LinearRegression()\n",
        "    )\n",
        "    stacking_model.fit(X=X, y=y)\n",
        "    return stacking_model"
      ],
      "metadata": {
        "id": "JeMAdzo6DOb5"
      },
      "execution_count": null,
      "outputs": []
    },
    {
      "cell_type": "code",
      "source": [
        "nasdaq_model = get_stacking_model(\n",
        "    best_fit_countries[best_country_features],\n",
        "    best_fit_countries[\"Beginning of Year NASDAQ Price\"],\n",
        "    best_k\n",
        ")"
      ],
      "metadata": {
        "id": "XfcV4vgnDjy3"
      },
      "execution_count": null,
      "outputs": []
    },
    {
      "cell_type": "markdown",
      "source": [
        "## Model test"
      ],
      "metadata": {
        "id": "XDJMQTT0Dx_z"
      }
    },
    {
      "cell_type": "code",
      "source": [
        "def get_prediction_for_year(year):\n",
        "  if year in best_fit_countries.index:\n",
        "    return nasdaq_model.predict(pd.DataFrame(best_fit_countries[best_country_features].loc[year]).transpose())\n",
        "  else:\n",
        "    return float(\"nan\")"
      ],
      "metadata": {
        "id": "nK1jjDE8Ee0H"
      },
      "execution_count": null,
      "outputs": []
    },
    {
      "cell_type": "code",
      "source": [
        "df_comparison = df_nasdaq_yearly\n",
        "df_comparison = pd.merge( # Remove NaN rows\n",
        "    best_fit_countries[[]], df_comparison, left_index=True, right_index=True\n",
        ")\n",
        "df_comparison[\"Predicted NASDAQ Price\"] = nasdaq_model.predict(\n",
        "    best_fit_countries[best_country_features]\n",
        ")"
      ],
      "metadata": {
        "id": "vI7e7RVvDzyI"
      },
      "execution_count": null,
      "outputs": []
    },
    {
      "cell_type": "code",
      "source": [
        "df_comparison.plot(kind=\"line\")"
      ],
      "metadata": {
        "colab": {
          "base_uri": "https://localhost:8080/",
          "height": 283
        },
        "id": "NMHo2PNTINGj",
        "outputId": "14cea1ff-b230-4b8f-9efb-2e1c07f63379"
      },
      "execution_count": null,
      "outputs": [
        {
          "output_type": "execute_result",
          "data": {
            "text/plain": [
              "<matplotlib.axes._subplots.AxesSubplot at 0x7fb5c7725a00>"
            ]
          },
          "metadata": {},
          "execution_count": 182
        },
        {
          "output_type": "display_data",
          "data": {
            "text/plain": [
              "<Figure size 432x288 with 1 Axes>"
            ],
            "image/png": "[encoded data removed]"
          },
          "metadata": {
            "needs_background": "light"
          }
        }
      ]
    },
    {
      "cell_type": "markdown",
      "source": [
        "# Ethereum Prediction Model Based on NASDAQ"
      ],
      "metadata": {
        "id": "I1daIsy4kojb"
      }
    },
    {
      "cell_type": "markdown",
      "source": [
        "## Recent NASDAQ and Ethereum datasets"
      ],
      "metadata": {
        "id": "gslCBPNClOXy"
      }
    },
    {
      "cell_type": "code",
      "source": [
        "# Import Ethereum dataset and set index to data\n",
        "df_ethereum = pd.read_csv(\n",
        "    repo + \"ETH-USD-2.csv\",\n",
        "    index_col=\"Date\", \n",
        "    parse_dates=True\n",
        ")\n",
        "\n",
        "# Condense data into new DataFrame\n",
        "df_ethereum_clean = df_ethereum[[\"Close\"]].rename(\n",
        "    columns={\"Close\":\"Close ETH\"}\n",
        ")\n",
        "df_ethereum_clean.head()"
      ],
      "metadata": {
        "colab": {
          "base_uri": "https://localhost:8080/",
          "height": 238
        },
        "id": "J1N9EEfGkvPA",
        "outputId": "68f983d2-7597-468c-b07a-32e1b871e91b"
      },
      "execution_count": null,
      "outputs": [
        {
          "output_type": "execute_result",
          "data": {
            "text/plain": [
              "             Close ETH\n",
              "Date                  \n",
              "2017-11-09  320.884003\n",
              "2017-11-10  299.252991\n",
              "2017-11-11  314.681000\n",
              "2017-11-12  307.907990\n",
              "2017-11-13  316.716003"
            ],
            "text/html": [
              "\n",
              "  <div id=\"df-0050c1a5-859a-4d55-a283-af75d551bbbb\">\n",
              "    <div class=\"colab-df-container\">\n",
              "      <div>\n",
              "<style scoped>\n",
              "    .dataframe tbody tr th:only-of-type {\n",
              "        vertical-align: middle;\n",
              "    }\n",
              "\n",
              "    .dataframe tbody tr th {\n",
              "        vertical-align: top;\n",
              "    }\n",
              "\n",
              "    .dataframe thead th {\n",
              "        text-align: right;\n",
              "    }\n",
              "</style>\n",
              "<table border=\"1\" class=\"dataframe\">\n",
              "  <thead>\n",
              "    <tr style=\"text-align: right;\">\n",
              "      <th></th>\n",
              "      <th>Close ETH</th>\n",
              "    </tr>\n",
              "    <tr>\n",
              "      <th>Date</th>\n",
              "      <th></th>\n",
              "    </tr>\n",
              "  </thead>\n",
              "  <tbody>\n",
              "    <tr>\n",
              "      <th>2017-11-09</th>\n",
              "      <td>320.884003</td>\n",
              "    </tr>\n",
              "    <tr>\n",
              "      <th>2017-11-10</th>\n",
              "      <td>299.252991</td>\n",
              "    </tr>\n",
              "    <tr>\n",
              "      <th>2017-11-11</th>\n",
              "      <td>314.681000</td>\n",
              "    </tr>\n",
              "    <tr>\n",
              "      <th>2017-11-12</th>\n",
              "      <td>307.907990</td>\n",
              "    </tr>\n",
              "    <tr>\n",
              "      <th>2017-11-13</th>\n",
              "      <td>316.716003</td>\n",
              "    </tr>\n",
              "  </tbody>\n",
              "</table>\n",
              "</div>\n",
              "      <button class=\"colab-df-convert\" onclick=\"convertToInteractive('df-0050c1a5-859a-4d55-a283-af75d551bbbb')\"\n",
              "              title=\"Convert this dataframe to an interactive table.\"\n",
              "              style=\"display:none;\">\n",
              "        \n",
              "  <svg xmlns=\"http://www.w3.org/2000/svg\" height=\"24px\"viewBox=\"0 0 24 24\"\n",
              "       width=\"24px\">\n",
              "    <path d=\"M0 0h24v24H0V0z\" fill=\"none\"/>\n",
              "    <path d=\"M18.56 5.44l.94 2.06.94-2.06 2.06-.94-2.06-.94-.94-2.06-.94 2.06-2.06.94zm-11 1L8.5 8.5l.94-2.06 2.06-.94-2.06-.94L8.5 2.5l-.94 2.06-2.06.94zm10 10l.94 2.06.94-2.06 2.06-.94-2.06-.94-.94-2.06-.94 2.06-2.06.94z\"/><path d=\"M17.41 7.96l-1.37-1.37c-.4-.4-.92-.59-1.43-.59-.52 0-1.04.2-1.43.59L10.3 9.45l-7.72 7.72c-.78.78-.78 2.05 0 2.83L4 21.41c.39.39.9.59 1.41.59.51 0 1.02-.2 1.41-.59l7.78-7.78 2.81-2.81c.8-.78.8-2.07 0-2.86zM5.41 20L4 18.59l7.72-7.72 1.47 1.35L5.41 20z\"/>\n",
              "  </svg>\n",
              "      </button>\n",
              "      \n",
              "  <style>\n",
              "    .colab-df-container {\n",
              "      display:flex;\n",
              "      flex-wrap:wrap;\n",
              "      gap: 12px;\n",
              "    }\n",
              "\n",
              "    .colab-df-convert {\n",
              "      background-color: #E8F0FE;\n",
              "      border: none;\n",
              "      border-radius: 50%;\n",
              "      cursor: pointer;\n",
              "      display: none;\n",
              "      fill: #1967D2;\n",
              "      height: 32px;\n",
              "      padding: 0 0 0 0;\n",
              "      width: 32px;\n",
              "    }\n",
              "\n",
              "    .colab-df-convert:hover {\n",
              "      background-color: #E2EBFA;\n",
              "      box-shadow: 0px 1px 2px rgba(60, 64, 67, 0.3), 0px 1px 3px 1px rgba(60, 64, 67, 0.15);\n",
              "      fill: #174EA6;\n",
              "    }\n",
              "\n",
              "    [theme=dark] .colab-df-convert {\n",
              "      background-color: #3B4455;\n",
              "      fill: #D2E3FC;\n",
              "    }\n",
              "\n",
              "    [theme=dark] .colab-df-convert:hover {\n",
              "      background-color: #434B5C;\n",
              "      box-shadow: 0px 1px 3px 1px rgba(0, 0, 0, 0.15);\n",
              "      filter: drop-shadow(0px 1px 2px rgba(0, 0, 0, 0.3));\n",
              "      fill: #FFFFFF;\n",
              "    }\n",
              "  </style>\n",
              "\n",
              "      <script>\n",
              "        const buttonEl =\n",
              "          document.querySelector('#df-0050c1a5-859a-4d55-a283-af75d551bbbb button.colab-df-convert');\n",
              "        buttonEl.style.display =\n",
              "          google.colab.kernel.accessAllowed ? 'block' : 'none';\n",
              "\n",
              "        async function convertToInteractive(key) {\n",
              "          const element = document.querySelector('#df-0050c1a5-859a-4d55-a283-af75d551bbbb');\n",
              "          const dataTable =\n",
              "            await google.colab.kernel.invokeFunction('convertToInteractive',\n",
              "                                                     [key], {});\n",
              "          if (!dataTable) return;\n",
              "\n",
              "          const docLinkHtml = 'Like what you see? Visit the ' +\n",
              "            '<a target=\"_blank\" href=https://colab.research.google.com/notebooks/data_table.ipynb>data table notebook</a>'\n",
              "            + ' to learn more about interactive tables.';\n",
              "          element.innerHTML = '';\n",
              "          dataTable['output_type'] = 'display_data';\n",
              "          await google.colab.output.renderOutput(dataTable, element);\n",
              "          const docLink = document.createElement('div');\n",
              "          docLink.innerHTML = docLinkHtml;\n",
              "          element.appendChild(docLink);\n",
              "        }\n",
              "      </script>\n",
              "    </div>\n",
              "  </div>\n",
              "  "
            ]
          },
          "metadata": {},
          "execution_count": 183
        }
      ]
    },
    {
      "cell_type": "code",
      "source": [
        "# Import NASDAQ dataset and set index to data\n",
        "df_nasdaq_recent = pd.read_csv(repo + \"NASDAQ.csv\",\n",
        "    index_col=\"Date\", \n",
        "    parse_dates=True\n",
        ")\n",
        "\n",
        "# Condense data into new DataFrame\n",
        "df_nasdaq_clean = df_nasdaq_recent[[\"Close/Last\"]].rename(\n",
        "    columns={\"Close/Last\":\"Close NASDAQ\"}\n",
        ")\n",
        "df_nasdaq_clean.head()"
      ],
      "metadata": {
        "colab": {
          "base_uri": "https://localhost:8080/",
          "height": 238
        },
        "id": "5CNwUsK_k5lS",
        "outputId": "59563370-0808-46ae-e451-7cb6e32f7ba8"
      },
      "execution_count": null,
      "outputs": [
        {
          "output_type": "execute_result",
          "data": {
            "text/plain": [
              "            Close NASDAQ\n",
              "Date                    \n",
              "2022-11-11      11323.33\n",
              "2022-11-10      11114.15\n",
              "2022-11-09      10353.17\n",
              "2022-11-08      10616.20\n",
              "2022-11-07      10564.52"
            ],
            "text/html": [
              "\n",
              "  <div id=\"df-0a20712b-71bd-4b01-a808-75b5e1875788\">\n",
              "    <div class=\"colab-df-container\">\n",
              "      <div>\n",
              "<style scoped>\n",
              "    .dataframe tbody tr th:only-of-type {\n",
              "        vertical-align: middle;\n",
              "    }\n",
              "\n",
              "    .dataframe tbody tr th {\n",
              "        vertical-align: top;\n",
              "    }\n",
              "\n",
              "    .dataframe thead th {\n",
              "        text-align: right;\n",
              "    }\n",
              "</style>\n",
              "<table border=\"1\" class=\"dataframe\">\n",
              "  <thead>\n",
              "    <tr style=\"text-align: right;\">\n",
              "      <th></th>\n",
              "      <th>Close NASDAQ</th>\n",
              "    </tr>\n",
              "    <tr>\n",
              "      <th>Date</th>\n",
              "      <th></th>\n",
              "    </tr>\n",
              "  </thead>\n",
              "  <tbody>\n",
              "    <tr>\n",
              "      <th>2022-11-11</th>\n",
              "      <td>11323.33</td>\n",
              "    </tr>\n",
              "    <tr>\n",
              "      <th>2022-11-10</th>\n",
              "      <td>11114.15</td>\n",
              "    </tr>\n",
              "    <tr>\n",
              "      <th>2022-11-09</th>\n",
              "      <td>10353.17</td>\n",
              "    </tr>\n",
              "    <tr>\n",
              "      <th>2022-11-08</th>\n",
              "      <td>10616.20</td>\n",
              "    </tr>\n",
              "    <tr>\n",
              "      <th>2022-11-07</th>\n",
              "      <td>10564.52</td>\n",
              "    </tr>\n",
              "  </tbody>\n",
              "</table>\n",
              "</div>\n",
              "      <button class=\"colab-df-convert\" onclick=\"convertToInteractive('df-0a20712b-71bd-4b01-a808-75b5e1875788')\"\n",
              "              title=\"Convert this dataframe to an interactive table.\"\n",
              "              style=\"display:none;\">\n",
              "        \n",
              "  <svg xmlns=\"http://www.w3.org/2000/svg\" height=\"24px\"viewBox=\"0 0 24 24\"\n",
              "       width=\"24px\">\n",
              "    <path d=\"M0 0h24v24H0V0z\" fill=\"none\"/>\n",
              "    <path d=\"M18.56 5.44l.94 2.06.94-2.06 2.06-.94-2.06-.94-.94-2.06-.94 2.06-2.06.94zm-11 1L8.5 8.5l.94-2.06 2.06-.94-2.06-.94L8.5 2.5l-.94 2.06-2.06.94zm10 10l.94 2.06.94-2.06 2.06-.94-2.06-.94-.94-2.06-.94 2.06-2.06.94z\"/><path d=\"M17.41 7.96l-1.37-1.37c-.4-.4-.92-.59-1.43-.59-.52 0-1.04.2-1.43.59L10.3 9.45l-7.72 7.72c-.78.78-.78 2.05 0 2.83L4 21.41c.39.39.9.59 1.41.59.51 0 1.02-.2 1.41-.59l7.78-7.78 2.81-2.81c.8-.78.8-2.07 0-2.86zM5.41 20L4 18.59l7.72-7.72 1.47 1.35L5.41 20z\"/>\n",
              "  </svg>\n",
              "      </button>\n",
              "      \n",
              "  <style>\n",
              "    .colab-df-container {\n",
              "      display:flex;\n",
              "      flex-wrap:wrap;\n",
              "      gap: 12px;\n",
              "    }\n",
              "\n",
              "    .colab-df-convert {\n",
              "      background-color: #E8F0FE;\n",
              "      border: none;\n",
              "      border-radius: 50%;\n",
              "      cursor: pointer;\n",
              "      display: none;\n",
              "      fill: #1967D2;\n",
              "      height: 32px;\n",
              "      padding: 0 0 0 0;\n",
              "      width: 32px;\n",
              "    }\n",
              "\n",
              "    .colab-df-convert:hover {\n",
              "      background-color: #E2EBFA;\n",
              "      box-shadow: 0px 1px 2px rgba(60, 64, 67, 0.3), 0px 1px 3px 1px rgba(60, 64, 67, 0.15);\n",
              "      fill: #174EA6;\n",
              "    }\n",
              "\n",
              "    [theme=dark] .colab-df-convert {\n",
              "      background-color: #3B4455;\n",
              "      fill: #D2E3FC;\n",
              "    }\n",
              "\n",
              "    [theme=dark] .colab-df-convert:hover {\n",
              "      background-color: #434B5C;\n",
              "      box-shadow: 0px 1px 3px 1px rgba(0, 0, 0, 0.15);\n",
              "      filter: drop-shadow(0px 1px 2px rgba(0, 0, 0, 0.3));\n",
              "      fill: #FFFFFF;\n",
              "    }\n",
              "  </style>\n",
              "\n",
              "      <script>\n",
              "        const buttonEl =\n",
              "          document.querySelector('#df-0a20712b-71bd-4b01-a808-75b5e1875788 button.colab-df-convert');\n",
              "        buttonEl.style.display =\n",
              "          google.colab.kernel.accessAllowed ? 'block' : 'none';\n",
              "\n",
              "        async function convertToInteractive(key) {\n",
              "          const element = document.querySelector('#df-0a20712b-71bd-4b01-a808-75b5e1875788');\n",
              "          const dataTable =\n",
              "            await google.colab.kernel.invokeFunction('convertToInteractive',\n",
              "                                                     [key], {});\n",
              "          if (!dataTable) return;\n",
              "\n",
              "          const docLinkHtml = 'Like what you see? Visit the ' +\n",
              "            '<a target=\"_blank\" href=https://colab.research.google.com/notebooks/data_table.ipynb>data table notebook</a>'\n",
              "            + ' to learn more about interactive tables.';\n",
              "          element.innerHTML = '';\n",
              "          dataTable['output_type'] = 'display_data';\n",
              "          await google.colab.output.renderOutput(dataTable, element);\n",
              "          const docLink = document.createElement('div');\n",
              "          docLink.innerHTML = docLinkHtml;\n",
              "          element.appendChild(docLink);\n",
              "        }\n",
              "      </script>\n",
              "    </div>\n",
              "  </div>\n",
              "  "
            ]
          },
          "metadata": {},
          "execution_count": 184
        }
      ]
    },
    {
      "cell_type": "code",
      "source": [
        "df_stocks_crypto = df_nasdaq_clean.join(\n",
        "    df_ethereum_clean\n",
        ").dropna()\n",
        "\n",
        "df_stocks_crypto.head()"
      ],
      "metadata": {
        "colab": {
          "base_uri": "https://localhost:8080/",
          "height": 238
        },
        "id": "SJxsFzqAlWBY",
        "outputId": "45eabd86-aad3-4168-cf23-8d02dd3695fc"
      },
      "execution_count": null,
      "outputs": [
        {
          "output_type": "execute_result",
          "data": {
            "text/plain": [
              "            Close NASDAQ    Close ETH\n",
              "Date                                 \n",
              "2022-11-11      11323.33  1287.221069\n",
              "2022-11-10      11114.15  1299.464600\n",
              "2022-11-09      10353.17  1100.169800\n",
              "2022-11-08      10616.20  1332.835571\n",
              "2022-11-07      10564.52  1568.591309"
            ],
            "text/html": [
              "\n",
              "  <div id=\"df-3ab8fbd0-8c83-48c1-a500-3037b7f56982\">\n",
              "    <div class=\"colab-df-container\">\n",
              "      <div>\n",
              "<style scoped>\n",
              "    .dataframe tbody tr th:only-of-type {\n",
              "        vertical-align: middle;\n",
              "    }\n",
              "\n",
              "    .dataframe tbody tr th {\n",
              "        vertical-align: top;\n",
              "    }\n",
              "\n",
              "    .dataframe thead th {\n",
              "        text-align: right;\n",
              "    }\n",
              "</style>\n",
              "<table border=\"1\" class=\"dataframe\">\n",
              "  <thead>\n",
              "    <tr style=\"text-align: right;\">\n",
              "      <th></th>\n",
              "      <th>Close NASDAQ</th>\n",
              "      <th>Close ETH</th>\n",
              "    </tr>\n",
              "    <tr>\n",
              "      <th>Date</th>\n",
              "      <th></th>\n",
              "      <th></th>\n",
              "    </tr>\n",
              "  </thead>\n",
              "  <tbody>\n",
              "    <tr>\n",
              "      <th>2022-11-11</th>\n",
              "      <td>11323.33</td>\n",
              "      <td>1287.221069</td>\n",
              "    </tr>\n",
              "    <tr>\n",
              "      <th>2022-11-10</th>\n",
              "      <td>11114.15</td>\n",
              "      <td>1299.464600</td>\n",
              "    </tr>\n",
              "    <tr>\n",
              "      <th>2022-11-09</th>\n",
              "      <td>10353.17</td>\n",
              "      <td>1100.169800</td>\n",
              "    </tr>\n",
              "    <tr>\n",
              "      <th>2022-11-08</th>\n",
              "      <td>10616.20</td>\n",
              "      <td>1332.835571</td>\n",
              "    </tr>\n",
              "    <tr>\n",
              "      <th>2022-11-07</th>\n",
              "      <td>10564.52</td>\n",
              "      <td>1568.591309</td>\n",
              "    </tr>\n",
              "  </tbody>\n",
              "</table>\n",
              "</div>\n",
              "      <button class=\"colab-df-convert\" onclick=\"convertToInteractive('df-3ab8fbd0-8c83-48c1-a500-3037b7f56982')\"\n",
              "              title=\"Convert this dataframe to an interactive table.\"\n",
              "              style=\"display:none;\">\n",
              "        \n",
              "  <svg xmlns=\"http://www.w3.org/2000/svg\" height=\"24px\"viewBox=\"0 0 24 24\"\n",
              "       width=\"24px\">\n",
              "    <path d=\"M0 0h24v24H0V0z\" fill=\"none\"/>\n",
              "    <path d=\"M18.56 5.44l.94 2.06.94-2.06 2.06-.94-2.06-.94-.94-2.06-.94 2.06-2.06.94zm-11 1L8.5 8.5l.94-2.06 2.06-.94-2.06-.94L8.5 2.5l-.94 2.06-2.06.94zm10 10l.94 2.06.94-2.06 2.06-.94-2.06-.94-.94-2.06-.94 2.06-2.06.94z\"/><path d=\"M17.41 7.96l-1.37-1.37c-.4-.4-.92-.59-1.43-.59-.52 0-1.04.2-1.43.59L10.3 9.45l-7.72 7.72c-.78.78-.78 2.05 0 2.83L4 21.41c.39.39.9.59 1.41.59.51 0 1.02-.2 1.41-.59l7.78-7.78 2.81-2.81c.8-.78.8-2.07 0-2.86zM5.41 20L4 18.59l7.72-7.72 1.47 1.35L5.41 20z\"/>\n",
              "  </svg>\n",
              "      </button>\n",
              "      \n",
              "  <style>\n",
              "    .colab-df-container {\n",
              "      display:flex;\n",
              "      flex-wrap:wrap;\n",
              "      gap: 12px;\n",
              "    }\n",
              "\n",
              "    .colab-df-convert {\n",
              "      background-color: #E8F0FE;\n",
              "      border: none;\n",
              "      border-radius: 50%;\n",
              "      cursor: pointer;\n",
              "      display: none;\n",
              "      fill: #1967D2;\n",
              "      height: 32px;\n",
              "      padding: 0 0 0 0;\n",
              "      width: 32px;\n",
              "    }\n",
              "\n",
              "    .colab-df-convert:hover {\n",
              "      background-color: #E2EBFA;\n",
              "      box-shadow: 0px 1px 2px rgba(60, 64, 67, 0.3), 0px 1px 3px 1px rgba(60, 64, 67, 0.15);\n",
              "      fill: #174EA6;\n",
              "    }\n",
              "\n",
              "    [theme=dark] .colab-df-convert {\n",
              "      background-color: #3B4455;\n",
              "      fill: #D2E3FC;\n",
              "    }\n",
              "\n",
              "    [theme=dark] .colab-df-convert:hover {\n",
              "      background-color: #434B5C;\n",
              "      box-shadow: 0px 1px 3px 1px rgba(0, 0, 0, 0.15);\n",
              "      filter: drop-shadow(0px 1px 2px rgba(0, 0, 0, 0.3));\n",
              "      fill: #FFFFFF;\n",
              "    }\n",
              "  </style>\n",
              "\n",
              "      <script>\n",
              "        const buttonEl =\n",
              "          document.querySelector('#df-3ab8fbd0-8c83-48c1-a500-3037b7f56982 button.colab-df-convert');\n",
              "        buttonEl.style.display =\n",
              "          google.colab.kernel.accessAllowed ? 'block' : 'none';\n",
              "\n",
              "        async function convertToInteractive(key) {\n",
              "          const element = document.querySelector('#df-3ab8fbd0-8c83-48c1-a500-3037b7f56982');\n",
              "          const dataTable =\n",
              "            await google.colab.kernel.invokeFunction('convertToInteractive',\n",
              "                                                     [key], {});\n",
              "          if (!dataTable) return;\n",
              "\n",
              "          const docLinkHtml = 'Like what you see? Visit the ' +\n",
              "            '<a target=\"_blank\" href=https://colab.research.google.com/notebooks/data_table.ipynb>data table notebook</a>'\n",
              "            + ' to learn more about interactive tables.';\n",
              "          element.innerHTML = '';\n",
              "          dataTable['output_type'] = 'display_data';\n",
              "          await google.colab.output.renderOutput(dataTable, element);\n",
              "          const docLink = document.createElement('div');\n",
              "          docLink.innerHTML = docLinkHtml;\n",
              "          element.appendChild(docLink);\n",
              "        }\n",
              "      </script>\n",
              "    </div>\n",
              "  </div>\n",
              "  "
            ]
          },
          "metadata": {},
          "execution_count": 186
        }
      ]
    },
    {
      "cell_type": "markdown",
      "source": [
        "## Model training"
      ],
      "metadata": {
        "id": "trHEiJBklhW7"
      }
    },
    {
      "cell_type": "code",
      "source": [
        "X = df_stocks_crypto[[\"Close NASDAQ\"]]\n",
        "y = df_stocks_crypto[\"Close ETH\"]\n",
        "k = get_best_k(X, y, 10)[0]\n",
        "ethereum_model = get_stacking_model(X, y, k)"
      ],
      "metadata": {
        "id": "5GhoOaE5lawx"
      },
      "execution_count": null,
      "outputs": []
    },
    {
      "cell_type": "markdown",
      "source": [
        "## Model Testing"
      ],
      "metadata": {
        "id": "0rG5gT4ZmV3O"
      }
    },
    {
      "cell_type": "code",
      "source": [
        "df_comparison_eth = df_ethereum_clean\n",
        "df_comparison_eth = pd.merge( # Remove NaN rows\n",
        "    df_stocks_crypto[[\"Close NASDAQ\"]], df_comparison_eth, left_index=True, right_index=True\n",
        ")\n",
        "df_comparison_eth[\"Predicted Ethereum Price\"] = ethereum_model.predict(\n",
        "    df_stocks_crypto[[\"Close NASDAQ\"]]\n",
        ")\n",
        "df_comparison_eth.head()"
      ],
      "metadata": {
        "colab": {
          "base_uri": "https://localhost:8080/",
          "height": 238
        },
        "id": "joDqfrEsrBEU",
        "outputId": "71e5ce7e-4658-48d4-9ef4-7dea8e73b088"
      },
      "execution_count": null,
      "outputs": [
        {
          "output_type": "execute_result",
          "data": {
            "text/plain": [
              "            Close NASDAQ    Close ETH  Predicted Ethereum Price\n",
              "Date                                                           \n",
              "2022-11-11      11323.33  1287.221069               1085.097989\n",
              "2022-11-10      11114.15  1299.464600               1006.909402\n",
              "2022-11-09      10353.17  1100.169800                962.936030\n",
              "2022-11-08      10616.20  1332.835571               1050.677519\n",
              "2022-11-07      10564.52  1568.591309                958.253775"
            ],
            "text/html": [
              "\n",
              "  <div id=\"df-55941105-f5e1-4852-8942-c663a6d0e466\">\n",
              "    <div class=\"colab-df-container\">\n",
              "      <div>\n",
              "<style scoped>\n",
              "    .dataframe tbody tr th:only-of-type {\n",
              "        vertical-align: middle;\n",
              "    }\n",
              "\n",
              "    .dataframe tbody tr th {\n",
              "        vertical-align: top;\n",
              "    }\n",
              "\n",
              "    .dataframe thead th {\n",
              "        text-align: right;\n",
              "    }\n",
              "</style>\n",
              "<table border=\"1\" class=\"dataframe\">\n",
              "  <thead>\n",
              "    <tr style=\"text-align: right;\">\n",
              "      <th></th>\n",
              "      <th>Close NASDAQ</th>\n",
              "      <th>Close ETH</th>\n",
              "      <th>Predicted Ethereum Price</th>\n",
              "    </tr>\n",
              "    <tr>\n",
              "      <th>Date</th>\n",
              "      <th></th>\n",
              "      <th></th>\n",
              "      <th></th>\n",
              "    </tr>\n",
              "  </thead>\n",
              "  <tbody>\n",
              "    <tr>\n",
              "      <th>2022-11-11</th>\n",
              "      <td>11323.33</td>\n",
              "      <td>1287.221069</td>\n",
              "      <td>1085.097989</td>\n",
              "    </tr>\n",
              "    <tr>\n",
              "      <th>2022-11-10</th>\n",
              "      <td>11114.15</td>\n",
              "      <td>1299.464600</td>\n",
              "      <td>1006.909402</td>\n",
              "    </tr>\n",
              "    <tr>\n",
              "      <th>2022-11-09</th>\n",
              "      <td>10353.17</td>\n",
              "      <td>1100.169800</td>\n",
              "      <td>962.936030</td>\n",
              "    </tr>\n",
              "    <tr>\n",
              "      <th>2022-11-08</th>\n",
              "      <td>10616.20</td>\n",
              "      <td>1332.835571</td>\n",
              "      <td>1050.677519</td>\n",
              "    </tr>\n",
              "    <tr>\n",
              "      <th>2022-11-07</th>\n",
              "      <td>10564.52</td>\n",
              "      <td>1568.591309</td>\n",
              "      <td>958.253775</td>\n",
              "    </tr>\n",
              "  </tbody>\n",
              "</table>\n",
              "</div>\n",
              "      <button class=\"colab-df-convert\" onclick=\"convertToInteractive('df-55941105-f5e1-4852-8942-c663a6d0e466')\"\n",
              "              title=\"Convert this dataframe to an interactive table.\"\n",
              "              style=\"display:none;\">\n",
              "        \n",
              "  <svg xmlns=\"http://www.w3.org/2000/svg\" height=\"24px\"viewBox=\"0 0 24 24\"\n",
              "       width=\"24px\">\n",
              "    <path d=\"M0 0h24v24H0V0z\" fill=\"none\"/>\n",
              "    <path d=\"M18.56 5.44l.94 2.06.94-2.06 2.06-.94-2.06-.94-.94-2.06-.94 2.06-2.06.94zm-11 1L8.5 8.5l.94-2.06 2.06-.94-2.06-.94L8.5 2.5l-.94 2.06-2.06.94zm10 10l.94 2.06.94-2.06 2.06-.94-2.06-.94-.94-2.06-.94 2.06-2.06.94z\"/><path d=\"M17.41 7.96l-1.37-1.37c-.4-.4-.92-.59-1.43-.59-.52 0-1.04.2-1.43.59L10.3 9.45l-7.72 7.72c-.78.78-.78 2.05 0 2.83L4 21.41c.39.39.9.59 1.41.59.51 0 1.02-.2 1.41-.59l7.78-7.78 2.81-2.81c.8-.78.8-2.07 0-2.86zM5.41 20L4 18.59l7.72-7.72 1.47 1.35L5.41 20z\"/>\n",
              "  </svg>\n",
              "      </button>\n",
              "      \n",
              "  <style>\n",
              "    .colab-df-container {\n",
              "      display:flex;\n",
              "      flex-wrap:wrap;\n",
              "      gap: 12px;\n",
              "    }\n",
              "\n",
              "    .colab-df-convert {\n",
              "      background-color: #E8F0FE;\n",
              "      border: none;\n",
              "      border-radius: 50%;\n",
              "      cursor: pointer;\n",
              "      display: none;\n",
              "      fill: #1967D2;\n",
              "      height: 32px;\n",
              "      padding: 0 0 0 0;\n",
              "      width: 32px;\n",
              "    }\n",
              "\n",
              "    .colab-df-convert:hover {\n",
              "      background-color: #E2EBFA;\n",
              "      box-shadow: 0px 1px 2px rgba(60, 64, 67, 0.3), 0px 1px 3px 1px rgba(60, 64, 67, 0.15);\n",
              "      fill: #174EA6;\n",
              "    }\n",
              "\n",
              "    [theme=dark] .colab-df-convert {\n",
              "      background-color: #3B4455;\n",
              "      fill: #D2E3FC;\n",
              "    }\n",
              "\n",
              "    [theme=dark] .colab-df-convert:hover {\n",
              "      background-color: #434B5C;\n",
              "      box-shadow: 0px 1px 3px 1px rgba(0, 0, 0, 0.15);\n",
              "      filter: drop-shadow(0px 1px 2px rgba(0, 0, 0, 0.3));\n",
              "      fill: #FFFFFF;\n",
              "    }\n",
              "  </style>\n",
              "\n",
              "      <script>\n",
              "        const buttonEl =\n",
              "          document.querySelector('#df-55941105-f5e1-4852-8942-c663a6d0e466 button.colab-df-convert');\n",
              "        buttonEl.style.display =\n",
              "          google.colab.kernel.accessAllowed ? 'block' : 'none';\n",
              "\n",
              "        async function convertToInteractive(key) {\n",
              "          const element = document.querySelector('#df-55941105-f5e1-4852-8942-c663a6d0e466');\n",
              "          const dataTable =\n",
              "            await google.colab.kernel.invokeFunction('convertToInteractive',\n",
              "                                                     [key], {});\n",
              "          if (!dataTable) return;\n",
              "\n",
              "          const docLinkHtml = 'Like what you see? Visit the ' +\n",
              "            '<a target=\"_blank\" href=https://colab.research.google.com/notebooks/data_table.ipynb>data table notebook</a>'\n",
              "            + ' to learn more about interactive tables.';\n",
              "          element.innerHTML = '';\n",
              "          dataTable['output_type'] = 'display_data';\n",
              "          await google.colab.output.renderOutput(dataTable, element);\n",
              "          const docLink = document.createElement('div');\n",
              "          docLink.innerHTML = docLinkHtml;\n",
              "          element.appendChild(docLink);\n",
              "        }\n",
              "      </script>\n",
              "    </div>\n",
              "  </div>\n",
              "  "
            ]
          },
          "metadata": {},
          "execution_count": 206
        }
      ]
    },
    {
      "cell_type": "code",
      "source": [
        "df_comparison_eth[[\"Close ETH\", \"Predicted Ethereum Price\"]].plot(\n",
        "    kind=\"line\",\n",
        ")"
      ],
      "metadata": {
        "colab": {
          "base_uri": "https://localhost:8080/",
          "height": 289
        },
        "id": "Y39FtPI4r8E9",
        "outputId": "e16d92af-a6cd-4020-9c33-b43deb91ec31"
      },
      "execution_count": null,
      "outputs": [
        {
          "output_type": "execute_result",
          "data": {
            "text/plain": [
              "<matplotlib.axes._subplots.AxesSubplot at 0x7fb5c7bceee0>"
            ]
          },
          "metadata": {},
          "execution_count": 207
        },
        {
          "output_type": "display_data",
          "data": {
            "text/plain": [
              "<Figure size 432x288 with 1 Axes>"
            ],
            "image/png": "[encoded data removed]"
          },
          "metadata": {
            "needs_background": "light"
          }
        }
      ]
    },
    {
      "cell_type": "markdown",
      "source": [
        "## All Together\n",
        "\n",
        "The 3 countries whose GDP appears to affect the price of the NASDAQ the most are the US, China, and Canada.\n",
        "\n",
        "According to The International Monetary Fund (https://www.imf.org/en/Publications/WEO/weo-database/2022/October/weo-report?c=512,914,612,171,614,311,213,911,314,193,122,912,313,419,513,316,913,124,339,638,514,218,963,616,223,516,918,748,618,624,522,622,156,626,628,228,924,233,632,636,634,238,662,960,423,935,128,611,321,243,248,469,253,642,643,939,734,644,819,172,132,646,648,915,134,652,174,328,258,656,654,336,263,268,532,944,176,534,536,429,433,178,436,136,343,158,439,916,664,826,542,967,443,917,544,941,446,666,668,672,946,137,546,674,676,548,556,678,181,867,682,684,273,868,921,948,943,686,688,518,728,836,558,138,196,278,692,694,962,142,449,564,565,283,853,288,293,566,964,182,359,453,968,922,714,862,135,716,456,722,942,718,724,576,936,961,813,726,199,733,184,524,361,362,364,732,366,144,146,463,528,923,738,578,537,742,866,369,744,186,925,869,746,926,466,112,111,298,927,846,299,582,487,474,754,698,&s=PPPGDP,&sy=2020&ey=2027&ssm=0&scsm=1&scc=0&ssd=1&ssc=0&sic=0&sort=country&ds=.&br=1) these three countries are predicted to have the following GDPs in 2023:\n",
        "\n",
        "Canada: \\$2,353.876 billion  \n",
        "China: \\$32,529.230 billion  \n",
        "US: \\$26,185.210 billion  "
      ],
      "metadata": {
        "id": "2O82uNvlrEQ9"
      }
    },
    {
      "cell_type": "code",
      "source": [
        "X_test = pd.DataFrame(index=[\"2023\"], columns=[\"United States\", \"China\", \"Canada\"])\n",
        "X_test[\"United States\"][\"2023\"] = 2.618521e+13\n",
        "X_test[\"China\"][\"2023\"] = 3.252923e+13\n",
        "X_test[\"Canada\"][\"2023\"] = 2.353876e+12\n",
        "X_test.index = pd.to_datetime(X_test.index).year"
      ],
      "metadata": {
        "id": "zGMCjfRhpeRL"
      },
      "execution_count": null,
      "outputs": []
    },
    {
      "cell_type": "code",
      "source": [
        "nasdaq_2023 = pd.DataFrame(columns=[\"Close NASDAQ\"])\n",
        "nasdaq_2023[\"Close NASDAQ\"] = nasdaq_model.predict(X_test)\n",
        "ethereum_model.predict(nasdaq_2023)[0]"
      ],
      "metadata": {
        "colab": {
          "base_uri": "https://localhost:8080/"
        },
        "id": "v9yNJb-HsJkR",
        "outputId": "fc20df01-0cd6-4f02-e4bf-dc0665495bdc"
      },
      "execution_count": null,
      "outputs": [
        {
          "output_type": "execute_result",
          "data": {
            "text/plain": [
              "3814.968640114648"
            ]
          },
          "metadata": {},
          "execution_count": 227
        }
      ]
    }
  ]
}