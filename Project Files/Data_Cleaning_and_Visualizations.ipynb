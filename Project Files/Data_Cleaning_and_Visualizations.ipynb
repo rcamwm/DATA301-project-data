{
  "nbformat": 4,
  "nbformat_minor": 0,
  "metadata": {
    "colab": {
      "provenance": []
    },
    "kernelspec": {
      "name": "python3",
      "display_name": "Python 3"
    },
    "language_info": {
      "name": "python"
    }
  },
  "cells": [
    {
      "cell_type": "code",
      "execution_count": null,
      "metadata": {
        "id": "IFmEKf0yWn9q"
      },
      "outputs": [],
      "source": [
        "import pandas as pd\n",
        "repo = \"https://raw.githubusercontent.com/rcamwm/DATA301-project-data/main/\""
      ]
    },
    {
      "cell_type": "markdown",
      "source": [
        "# Summary\n",
        "Observational units are days of the calendar year. Each unit includes a year, a month, and a day, formatted as `YYYY-MM-DD`.\n",
        "\n",
        "Variables are:\n",
        "* Change in value of the NASDAQ\n",
        "* Maximum difference in value of the NASDAQ\n",
        "* Closing Price of NASDAQ\n",
        "* Change in value of the SP500\n",
        "* Maximum difference in value of the SP500\n",
        "* Closing Price of SP500\n",
        "* Change in value of Ethereum\n",
        "* Maximum difference in value of Ethereum\n",
        "* Closing Price of Ethereum\n",
        "\n",
        "Change in value variables are measured by subtracting the day's opening value from its closing value, while maximum difference variables are measured by subtracting the day's lowest value from its highest value.  \n",
        "\n",
        "Opening, closing, lowest, and highest values are all publicly available from stock exchanges. "
      ],
      "metadata": {
        "id": "qcEBi6NKrJYb"
      }
    },
    {
      "cell_type": "markdown",
      "source": [
        "# Data Cleaning"
      ],
      "metadata": {
        "id": "EqiXIVJJspdt"
      }
    },
    {
      "cell_type": "markdown",
      "source": [
        "## Ethereum Dataset"
      ],
      "metadata": {
        "id": "EAYvVCv8cVFV"
      }
    },
    {
      "cell_type": "markdown",
      "source": [
        "### Description\n",
        "The data shows the change in Ethereum's price from 2017 to roughly the present. "
      ],
      "metadata": {
        "id": "sKhLI_CtueVx"
      }
    },
    {
      "cell_type": "markdown",
      "source": [
        "### Cleaning Process\n",
        "Set the index to the `Date` column, and created new columns for each day's change in value as well as the maximum difference in value. These new columns were then moved to a new DataFrame. "
      ],
      "metadata": {
        "id": "_0_3Ff_3u89d"
      }
    },
    {
      "cell_type": "code",
      "source": [
        "# Import Ethereum dataset and set index to data\n",
        "df_ethereum = pd.read_csv(\n",
        "    repo + \"ETH-USD-2.csv\",\n",
        "    index_col=\"Date\", \n",
        "    parse_dates=True\n",
        ")\n",
        "df_ethereum.head()"
      ],
      "metadata": {
        "id": "Rhxq4aVjVDt9",
        "colab": {
          "base_uri": "https://localhost:8080/",
          "height": 237
        },
        "outputId": "633e6897-00ec-459f-9f45-16d7fe5cf824"
      },
      "execution_count": null,
      "outputs": [
        {
          "output_type": "execute_result",
          "data": {
            "text/plain": [
              "                  Open        High         Low       Close   Adj Close  \\\n",
              "Date                                                                     \n",
              "2017-11-09  308.644989  329.451996  307.056000  320.884003  320.884003   \n",
              "2017-11-10  320.670990  324.717987  294.541992  299.252991  299.252991   \n",
              "2017-11-11  298.585999  319.453003  298.191986  314.681000  314.681000   \n",
              "2017-11-12  314.690002  319.153015  298.513000  307.907990  307.907990   \n",
              "2017-11-13  307.024994  328.415009  307.024994  316.716003  316.716003   \n",
              "\n",
              "                  Volume  \n",
              "Date                      \n",
              "2017-11-09  8.932500e+08  \n",
              "2017-11-10  8.859860e+08  \n",
              "2017-11-11  8.423010e+08  \n",
              "2017-11-12  1.613480e+09  \n",
              "2017-11-13  1.041890e+09  "
            ],
            "text/html": [
              "\n",
              "  <div id=\"df-9b4d081f-548b-4978-a0d2-56607617fabe\">\n",
              "    <div class=\"colab-df-container\">\n",
              "      <div>\n",
              "<style scoped>\n",
              "    .dataframe tbody tr th:only-of-type {\n",
              "        vertical-align: middle;\n",
              "    }\n",
              "\n",
              "    .dataframe tbody tr th {\n",
              "        vertical-align: top;\n",
              "    }\n",
              "\n",
              "    .dataframe thead th {\n",
              "        text-align: right;\n",
              "    }\n",
              "</style>\n",
              "<table border=\"1\" class=\"dataframe\">\n",
              "  <thead>\n",
              "    <tr style=\"text-align: right;\">\n",
              "      <th></th>\n",
              "      <th>Open</th>\n",
              "      <th>High</th>\n",
              "      <th>Low</th>\n",
              "      <th>Close</th>\n",
              "      <th>Adj Close</th>\n",
              "      <th>Volume</th>\n",
              "    </tr>\n",
              "    <tr>\n",
              "      <th>Date</th>\n",
              "      <th></th>\n",
              "      <th></th>\n",
              "      <th></th>\n",
              "      <th></th>\n",
              "      <th></th>\n",
              "      <th></th>\n",
              "    </tr>\n",
              "  </thead>\n",
              "  <tbody>\n",
              "    <tr>\n",
              "      <th>2017-11-09</th>\n",
              "      <td>308.644989</td>\n",
              "      <td>329.451996</td>\n",
              "      <td>307.056000</td>\n",
              "      <td>320.884003</td>\n",
              "      <td>320.884003</td>\n",
              "      <td>8.932500e+08</td>\n",
              "    </tr>\n",
              "    <tr>\n",
              "      <th>2017-11-10</th>\n",
              "      <td>320.670990</td>\n",
              "      <td>324.717987</td>\n",
              "      <td>294.541992</td>\n",
              "      <td>299.252991</td>\n",
              "      <td>299.252991</td>\n",
              "      <td>8.859860e+08</td>\n",
              "    </tr>\n",
              "    <tr>\n",
              "      <th>2017-11-11</th>\n",
              "      <td>298.585999</td>\n",
              "      <td>319.453003</td>\n",
              "      <td>298.191986</td>\n",
              "      <td>314.681000</td>\n",
              "      <td>314.681000</td>\n",
              "      <td>8.423010e+08</td>\n",
              "    </tr>\n",
              "    <tr>\n",
              "      <th>2017-11-12</th>\n",
              "      <td>314.690002</td>\n",
              "      <td>319.153015</td>\n",
              "      <td>298.513000</td>\n",
              "      <td>307.907990</td>\n",
              "      <td>307.907990</td>\n",
              "      <td>1.613480e+09</td>\n",
              "    </tr>\n",
              "    <tr>\n",
              "      <th>2017-11-13</th>\n",
              "      <td>307.024994</td>\n",
              "      <td>328.415009</td>\n",
              "      <td>307.024994</td>\n",
              "      <td>316.716003</td>\n",
              "      <td>316.716003</td>\n",
              "      <td>1.041890e+09</td>\n",
              "    </tr>\n",
              "  </tbody>\n",
              "</table>\n",
              "</div>\n",
              "      <button class=\"colab-df-convert\" onclick=\"convertToInteractive('df-9b4d081f-548b-4978-a0d2-56607617fabe')\"\n",
              "              title=\"Convert this dataframe to an interactive table.\"\n",
              "              style=\"display:none;\">\n",
              "        \n",
              "  <svg xmlns=\"http://www.w3.org/2000/svg\" height=\"24px\"viewBox=\"0 0 24 24\"\n",
              "       width=\"24px\">\n",
              "    <path d=\"M0 0h24v24H0V0z\" fill=\"none\"/>\n",
              "    <path d=\"M18.56 5.44l.94 2.06.94-2.06 2.06-.94-2.06-.94-.94-2.06-.94 2.06-2.06.94zm-11 1L8.5 8.5l.94-2.06 2.06-.94-2.06-.94L8.5 2.5l-.94 2.06-2.06.94zm10 10l.94 2.06.94-2.06 2.06-.94-2.06-.94-.94-2.06-.94 2.06-2.06.94z\"/><path d=\"M17.41 7.96l-1.37-1.37c-.4-.4-.92-.59-1.43-.59-.52 0-1.04.2-1.43.59L10.3 9.45l-7.72 7.72c-.78.78-.78 2.05 0 2.83L4 21.41c.39.39.9.59 1.41.59.51 0 1.02-.2 1.41-.59l7.78-7.78 2.81-2.81c.8-.78.8-2.07 0-2.86zM5.41 20L4 18.59l7.72-7.72 1.47 1.35L5.41 20z\"/>\n",
              "  </svg>\n",
              "      </button>\n",
              "      \n",
              "  <style>\n",
              "    .colab-df-container {\n",
              "      display:flex;\n",
              "      flex-wrap:wrap;\n",
              "      gap: 12px;\n",
              "    }\n",
              "\n",
              "    .colab-df-convert {\n",
              "      background-color: #E8F0FE;\n",
              "      border: none;\n",
              "      border-radius: 50%;\n",
              "      cursor: pointer;\n",
              "      display: none;\n",
              "      fill: #1967D2;\n",
              "      height: 32px;\n",
              "      padding: 0 0 0 0;\n",
              "      width: 32px;\n",
              "    }\n",
              "\n",
              "    .colab-df-convert:hover {\n",
              "      background-color: #E2EBFA;\n",
              "      box-shadow: 0px 1px 2px rgba(60, 64, 67, 0.3), 0px 1px 3px 1px rgba(60, 64, 67, 0.15);\n",
              "      fill: #174EA6;\n",
              "    }\n",
              "\n",
              "    [theme=dark] .colab-df-convert {\n",
              "      background-color: #3B4455;\n",
              "      fill: #D2E3FC;\n",
              "    }\n",
              "\n",
              "    [theme=dark] .colab-df-convert:hover {\n",
              "      background-color: #434B5C;\n",
              "      box-shadow: 0px 1px 3px 1px rgba(0, 0, 0, 0.15);\n",
              "      filter: drop-shadow(0px 1px 2px rgba(0, 0, 0, 0.3));\n",
              "      fill: #FFFFFF;\n",
              "    }\n",
              "  </style>\n",
              "\n",
              "      <script>\n",
              "        const buttonEl =\n",
              "          document.querySelector('#df-9b4d081f-548b-4978-a0d2-56607617fabe button.colab-df-convert');\n",
              "        buttonEl.style.display =\n",
              "          google.colab.kernel.accessAllowed ? 'block' : 'none';\n",
              "\n",
              "        async function convertToInteractive(key) {\n",
              "          const element = document.querySelector('#df-9b4d081f-548b-4978-a0d2-56607617fabe');\n",
              "          const dataTable =\n",
              "            await google.colab.kernel.invokeFunction('convertToInteractive',\n",
              "                                                     [key], {});\n",
              "          if (!dataTable) return;\n",
              "\n",
              "          const docLinkHtml = 'Like what you see? Visit the ' +\n",
              "            '<a target=\"_blank\" href=https://colab.research.google.com/notebooks/data_table.ipynb>data table notebook</a>'\n",
              "            + ' to learn more about interactive tables.';\n",
              "          element.innerHTML = '';\n",
              "          dataTable['output_type'] = 'display_data';\n",
              "          await google.colab.output.renderOutput(dataTable, element);\n",
              "          const docLink = document.createElement('div');\n",
              "          docLink.innerHTML = docLinkHtml;\n",
              "          element.appendChild(docLink);\n",
              "        }\n",
              "      </script>\n",
              "    </div>\n",
              "  </div>\n",
              "  "
            ]
          },
          "metadata": {},
          "execution_count": 85
        }
      ]
    },
    {
      "cell_type": "code",
      "source": [
        "# Condense and clean up data into new DataFrame\n",
        "df_ethereum[\"% Day Change ETH\"] = (\n",
        "    df_ethereum[\"Close\"] - df_ethereum[\"Open\"]\n",
        ") / df_ethereum[\"Open\"]\n",
        "df_ethereum[\"Max Difference ETH\"] = df_ethereum[\"High\"] - df_ethereum[\"Low\"]\n",
        "\n",
        "df_ethereum_clean = df_ethereum[\n",
        "    [\"% Day Change ETH\", \"Max Difference ETH\", \"Close\"]\n",
        "].rename(columns={\"Close\":\"Close ETH\"})\n",
        "df_ethereum_clean.head()"
      ],
      "metadata": {
        "colab": {
          "base_uri": "https://localhost:8080/",
          "height": 237
        },
        "id": "Tg50EVe0bVwJ",
        "outputId": "a6520811-d8e2-4d2e-bd62-14e142e1b97e"
      },
      "execution_count": null,
      "outputs": [
        {
          "output_type": "execute_result",
          "data": {
            "text/plain": [
              "            % Day Change ETH  Max Difference ETH   Close ETH\n",
              "Date                                                        \n",
              "2017-11-09          0.039654           22.395996  320.884003\n",
              "2017-11-10         -0.066791           30.175995  299.252991\n",
              "2017-11-11          0.053904           21.261017  314.681000\n",
              "2017-11-12         -0.021551           20.640015  307.907990\n",
              "2017-11-13          0.031564           21.390015  316.716003"
            ],
            "text/html": [
              "\n",
              "  <div id=\"df-2884d5c7-65b5-40df-911d-e5aa87ebc98f\">\n",
              "    <div class=\"colab-df-container\">\n",
              "      <div>\n",
              "<style scoped>\n",
              "    .dataframe tbody tr th:only-of-type {\n",
              "        vertical-align: middle;\n",
              "    }\n",
              "\n",
              "    .dataframe tbody tr th {\n",
              "        vertical-align: top;\n",
              "    }\n",
              "\n",
              "    .dataframe thead th {\n",
              "        text-align: right;\n",
              "    }\n",
              "</style>\n",
              "<table border=\"1\" class=\"dataframe\">\n",
              "  <thead>\n",
              "    <tr style=\"text-align: right;\">\n",
              "      <th></th>\n",
              "      <th>% Day Change ETH</th>\n",
              "      <th>Max Difference ETH</th>\n",
              "      <th>Close ETH</th>\n",
              "    </tr>\n",
              "    <tr>\n",
              "      <th>Date</th>\n",
              "      <th></th>\n",
              "      <th></th>\n",
              "      <th></th>\n",
              "    </tr>\n",
              "  </thead>\n",
              "  <tbody>\n",
              "    <tr>\n",
              "      <th>2017-11-09</th>\n",
              "      <td>0.039654</td>\n",
              "      <td>22.395996</td>\n",
              "      <td>320.884003</td>\n",
              "    </tr>\n",
              "    <tr>\n",
              "      <th>2017-11-10</th>\n",
              "      <td>-0.066791</td>\n",
              "      <td>30.175995</td>\n",
              "      <td>299.252991</td>\n",
              "    </tr>\n",
              "    <tr>\n",
              "      <th>2017-11-11</th>\n",
              "      <td>0.053904</td>\n",
              "      <td>21.261017</td>\n",
              "      <td>314.681000</td>\n",
              "    </tr>\n",
              "    <tr>\n",
              "      <th>2017-11-12</th>\n",
              "      <td>-0.021551</td>\n",
              "      <td>20.640015</td>\n",
              "      <td>307.907990</td>\n",
              "    </tr>\n",
              "    <tr>\n",
              "      <th>2017-11-13</th>\n",
              "      <td>0.031564</td>\n",
              "      <td>21.390015</td>\n",
              "      <td>316.716003</td>\n",
              "    </tr>\n",
              "  </tbody>\n",
              "</table>\n",
              "</div>\n",
              "      <button class=\"colab-df-convert\" onclick=\"convertToInteractive('df-2884d5c7-65b5-40df-911d-e5aa87ebc98f')\"\n",
              "              title=\"Convert this dataframe to an interactive table.\"\n",
              "              style=\"display:none;\">\n",
              "        \n",
              "  <svg xmlns=\"http://www.w3.org/2000/svg\" height=\"24px\"viewBox=\"0 0 24 24\"\n",
              "       width=\"24px\">\n",
              "    <path d=\"M0 0h24v24H0V0z\" fill=\"none\"/>\n",
              "    <path d=\"M18.56 5.44l.94 2.06.94-2.06 2.06-.94-2.06-.94-.94-2.06-.94 2.06-2.06.94zm-11 1L8.5 8.5l.94-2.06 2.06-.94-2.06-.94L8.5 2.5l-.94 2.06-2.06.94zm10 10l.94 2.06.94-2.06 2.06-.94-2.06-.94-.94-2.06-.94 2.06-2.06.94z\"/><path d=\"M17.41 7.96l-1.37-1.37c-.4-.4-.92-.59-1.43-.59-.52 0-1.04.2-1.43.59L10.3 9.45l-7.72 7.72c-.78.78-.78 2.05 0 2.83L4 21.41c.39.39.9.59 1.41.59.51 0 1.02-.2 1.41-.59l7.78-7.78 2.81-2.81c.8-.78.8-2.07 0-2.86zM5.41 20L4 18.59l7.72-7.72 1.47 1.35L5.41 20z\"/>\n",
              "  </svg>\n",
              "      </button>\n",
              "      \n",
              "  <style>\n",
              "    .colab-df-container {\n",
              "      display:flex;\n",
              "      flex-wrap:wrap;\n",
              "      gap: 12px;\n",
              "    }\n",
              "\n",
              "    .colab-df-convert {\n",
              "      background-color: #E8F0FE;\n",
              "      border: none;\n",
              "      border-radius: 50%;\n",
              "      cursor: pointer;\n",
              "      display: none;\n",
              "      fill: #1967D2;\n",
              "      height: 32px;\n",
              "      padding: 0 0 0 0;\n",
              "      width: 32px;\n",
              "    }\n",
              "\n",
              "    .colab-df-convert:hover {\n",
              "      background-color: #E2EBFA;\n",
              "      box-shadow: 0px 1px 2px rgba(60, 64, 67, 0.3), 0px 1px 3px 1px rgba(60, 64, 67, 0.15);\n",
              "      fill: #174EA6;\n",
              "    }\n",
              "\n",
              "    [theme=dark] .colab-df-convert {\n",
              "      background-color: #3B4455;\n",
              "      fill: #D2E3FC;\n",
              "    }\n",
              "\n",
              "    [theme=dark] .colab-df-convert:hover {\n",
              "      background-color: #434B5C;\n",
              "      box-shadow: 0px 1px 3px 1px rgba(0, 0, 0, 0.15);\n",
              "      filter: drop-shadow(0px 1px 2px rgba(0, 0, 0, 0.3));\n",
              "      fill: #FFFFFF;\n",
              "    }\n",
              "  </style>\n",
              "\n",
              "      <script>\n",
              "        const buttonEl =\n",
              "          document.querySelector('#df-2884d5c7-65b5-40df-911d-e5aa87ebc98f button.colab-df-convert');\n",
              "        buttonEl.style.display =\n",
              "          google.colab.kernel.accessAllowed ? 'block' : 'none';\n",
              "\n",
              "        async function convertToInteractive(key) {\n",
              "          const element = document.querySelector('#df-2884d5c7-65b5-40df-911d-e5aa87ebc98f');\n",
              "          const dataTable =\n",
              "            await google.colab.kernel.invokeFunction('convertToInteractive',\n",
              "                                                     [key], {});\n",
              "          if (!dataTable) return;\n",
              "\n",
              "          const docLinkHtml = 'Like what you see? Visit the ' +\n",
              "            '<a target=\"_blank\" href=https://colab.research.google.com/notebooks/data_table.ipynb>data table notebook</a>'\n",
              "            + ' to learn more about interactive tables.';\n",
              "          element.innerHTML = '';\n",
              "          dataTable['output_type'] = 'display_data';\n",
              "          await google.colab.output.renderOutput(dataTable, element);\n",
              "          const docLink = document.createElement('div');\n",
              "          docLink.innerHTML = docLinkHtml;\n",
              "          element.appendChild(docLink);\n",
              "        }\n",
              "      </script>\n",
              "    </div>\n",
              "  </div>\n",
              "  "
            ]
          },
          "metadata": {},
          "execution_count": 86
        }
      ]
    },
    {
      "cell_type": "code",
      "source": [
        "df_ethereum_clean[[\"Close ETH\"]].plot.line()"
      ],
      "metadata": {
        "colab": {
          "base_uri": "https://localhost:8080/",
          "height": 298
        },
        "id": "BkDp6RJgbt9f",
        "outputId": "34cb6e34-4ad3-4272-dce6-05d73dda7520"
      },
      "execution_count": null,
      "outputs": [
        {
          "output_type": "execute_result",
          "data": {
            "text/plain": [
              "<matplotlib.axes._subplots.AxesSubplot at 0x7f5c6c743850>"
            ]
          },
          "metadata": {},
          "execution_count": 87
        },
        {
          "output_type": "display_data",
          "data": {
            "text/plain": [
              "<Figure size 432x288 with 1 Axes>"
            ],
            "image/png": "[encoded data removed]"
          },
          "metadata": {
            "needs_background": "light"
          }
        }
      ]
    },
    {
      "cell_type": "markdown",
      "source": [
        "## NASDAQ Dataset"
      ],
      "metadata": {
        "id": "OD9zZ5g5ceXb"
      }
    },
    {
      "cell_type": "markdown",
      "source": [
        "### Description\n",
        "The data shows the change in the NASDAQ's price from 2017 to roughly the present. "
      ],
      "metadata": {
        "id": "WJyzDXlc3k5h"
      }
    },
    {
      "cell_type": "markdown",
      "source": [
        "### Cleaning Process\n",
        "Set the index to the `Date` column after running it through a function to reformat it. Also created new columns for each day's change in value as well as the maximum difference in value. These new columns were then moved to a new DataFrame. "
      ],
      "metadata": {
        "id": "5TbgbIjN3xb3"
      }
    },
    {
      "cell_type": "code",
      "source": [
        "# Import NASDAQ dataset and set index to data\n",
        "df_nasdaq = pd.read_csv(repo + \"NASDAQ.csv\",\n",
        "    index_col=\"Date\", \n",
        "    parse_dates=True\n",
        ")"
      ],
      "metadata": {
        "id": "O97NB6W-VSNO"
      },
      "execution_count": null,
      "outputs": []
    },
    {
      "cell_type": "code",
      "source": [
        "# Condense data into new DataFrame\n",
        "df_nasdaq[\"Close NASDAQ\"] = df_nasdaq[\"Close/Last\"]\n",
        "df_nasdaq[\"% Day Change NASDAQ\"] = (\n",
        "    df_nasdaq[\"Close/Last\"] - df_nasdaq[\"Open\"]\n",
        ") / df_nasdaq[\"Open\"]\n",
        "df_nasdaq[\"Max Difference NASDAQ\"] = df_nasdaq[\"High\"] - df_nasdaq[\"Low\"]\n",
        "\n",
        "df_nasdaq_clean = df_nasdaq.loc[\n",
        "    ~((df_nasdaq[\"High\"] == 0) & (df_nasdaq[\"Low\"] == 0)) # filter out entries with no data\n",
        "][[\"Close NASDAQ\", \"% Day Change NASDAQ\", \"Max Difference NASDAQ\"]]\n",
        "\n",
        "df_nasdaq_clean.head()"
      ],
      "metadata": {
        "colab": {
          "base_uri": "https://localhost:8080/",
          "height": 237
        },
        "id": "vME2_pf9czFD",
        "outputId": "0ab97f4f-0821-4b5f-b64b-6e4694ce2c9d"
      },
      "execution_count": null,
      "outputs": [
        {
          "output_type": "execute_result",
          "data": {
            "text/plain": [
              "            Close NASDAQ  % Day Change NASDAQ  Max Difference NASDAQ\n",
              "Date                                                                \n",
              "2022-11-11      11323.33             0.017850                 282.60\n",
              "2022-11-10      11114.15             0.022539                 339.16\n",
              "2022-11-09      10353.17            -0.016946                 220.96\n",
              "2022-11-08      10616.20             0.000440                 272.91\n",
              "2022-11-07      10564.52             0.004524                 159.05"
            ],
            "text/html": [
              "\n",
              "  <div id=\"df-9a682952-87d9-49e9-bd19-6a253dff09a0\">\n",
              "    <div class=\"colab-df-container\">\n",
              "      <div>\n",
              "<style scoped>\n",
              "    .dataframe tbody tr th:only-of-type {\n",
              "        vertical-align: middle;\n",
              "    }\n",
              "\n",
              "    .dataframe tbody tr th {\n",
              "        vertical-align: top;\n",
              "    }\n",
              "\n",
              "    .dataframe thead th {\n",
              "        text-align: right;\n",
              "    }\n",
              "</style>\n",
              "<table border=\"1\" class=\"dataframe\">\n",
              "  <thead>\n",
              "    <tr style=\"text-align: right;\">\n",
              "      <th></th>\n",
              "      <th>Close NASDAQ</th>\n",
              "      <th>% Day Change NASDAQ</th>\n",
              "      <th>Max Difference NASDAQ</th>\n",
              "    </tr>\n",
              "    <tr>\n",
              "      <th>Date</th>\n",
              "      <th></th>\n",
              "      <th></th>\n",
              "      <th></th>\n",
              "    </tr>\n",
              "  </thead>\n",
              "  <tbody>\n",
              "    <tr>\n",
              "      <th>2022-11-11</th>\n",
              "      <td>11323.33</td>\n",
              "      <td>0.017850</td>\n",
              "      <td>282.60</td>\n",
              "    </tr>\n",
              "    <tr>\n",
              "      <th>2022-11-10</th>\n",
              "      <td>11114.15</td>\n",
              "      <td>0.022539</td>\n",
              "      <td>339.16</td>\n",
              "    </tr>\n",
              "    <tr>\n",
              "      <th>2022-11-09</th>\n",
              "      <td>10353.17</td>\n",
              "      <td>-0.016946</td>\n",
              "      <td>220.96</td>\n",
              "    </tr>\n",
              "    <tr>\n",
              "      <th>2022-11-08</th>\n",
              "      <td>10616.20</td>\n",
              "      <td>0.000440</td>\n",
              "      <td>272.91</td>\n",
              "    </tr>\n",
              "    <tr>\n",
              "      <th>2022-11-07</th>\n",
              "      <td>10564.52</td>\n",
              "      <td>0.004524</td>\n",
              "      <td>159.05</td>\n",
              "    </tr>\n",
              "  </tbody>\n",
              "</table>\n",
              "</div>\n",
              "      <button class=\"colab-df-convert\" onclick=\"convertToInteractive('df-9a682952-87d9-49e9-bd19-6a253dff09a0')\"\n",
              "              title=\"Convert this dataframe to an interactive table.\"\n",
              "              style=\"display:none;\">\n",
              "        \n",
              "  <svg xmlns=\"http://www.w3.org/2000/svg\" height=\"24px\"viewBox=\"0 0 24 24\"\n",
              "       width=\"24px\">\n",
              "    <path d=\"M0 0h24v24H0V0z\" fill=\"none\"/>\n",
              "    <path d=\"M18.56 5.44l.94 2.06.94-2.06 2.06-.94-2.06-.94-.94-2.06-.94 2.06-2.06.94zm-11 1L8.5 8.5l.94-2.06 2.06-.94-2.06-.94L8.5 2.5l-.94 2.06-2.06.94zm10 10l.94 2.06.94-2.06 2.06-.94-2.06-.94-.94-2.06-.94 2.06-2.06.94z\"/><path d=\"M17.41 7.96l-1.37-1.37c-.4-.4-.92-.59-1.43-.59-.52 0-1.04.2-1.43.59L10.3 9.45l-7.72 7.72c-.78.78-.78 2.05 0 2.83L4 21.41c.39.39.9.59 1.41.59.51 0 1.02-.2 1.41-.59l7.78-7.78 2.81-2.81c.8-.78.8-2.07 0-2.86zM5.41 20L4 18.59l7.72-7.72 1.47 1.35L5.41 20z\"/>\n",
              "  </svg>\n",
              "      </button>\n",
              "      \n",
              "  <style>\n",
              "    .colab-df-container {\n",
              "      display:flex;\n",
              "      flex-wrap:wrap;\n",
              "      gap: 12px;\n",
              "    }\n",
              "\n",
              "    .colab-df-convert {\n",
              "      background-color: #E8F0FE;\n",
              "      border: none;\n",
              "      border-radius: 50%;\n",
              "      cursor: pointer;\n",
              "      display: none;\n",
              "      fill: #1967D2;\n",
              "      height: 32px;\n",
              "      padding: 0 0 0 0;\n",
              "      width: 32px;\n",
              "    }\n",
              "\n",
              "    .colab-df-convert:hover {\n",
              "      background-color: #E2EBFA;\n",
              "      box-shadow: 0px 1px 2px rgba(60, 64, 67, 0.3), 0px 1px 3px 1px rgba(60, 64, 67, 0.15);\n",
              "      fill: #174EA6;\n",
              "    }\n",
              "\n",
              "    [theme=dark] .colab-df-convert {\n",
              "      background-color: #3B4455;\n",
              "      fill: #D2E3FC;\n",
              "    }\n",
              "\n",
              "    [theme=dark] .colab-df-convert:hover {\n",
              "      background-color: #434B5C;\n",
              "      box-shadow: 0px 1px 3px 1px rgba(0, 0, 0, 0.15);\n",
              "      filter: drop-shadow(0px 1px 2px rgba(0, 0, 0, 0.3));\n",
              "      fill: #FFFFFF;\n",
              "    }\n",
              "  </style>\n",
              "\n",
              "      <script>\n",
              "        const buttonEl =\n",
              "          document.querySelector('#df-9a682952-87d9-49e9-bd19-6a253dff09a0 button.colab-df-convert');\n",
              "        buttonEl.style.display =\n",
              "          google.colab.kernel.accessAllowed ? 'block' : 'none';\n",
              "\n",
              "        async function convertToInteractive(key) {\n",
              "          const element = document.querySelector('#df-9a682952-87d9-49e9-bd19-6a253dff09a0');\n",
              "          const dataTable =\n",
              "            await google.colab.kernel.invokeFunction('convertToInteractive',\n",
              "                                                     [key], {});\n",
              "          if (!dataTable) return;\n",
              "\n",
              "          const docLinkHtml = 'Like what you see? Visit the ' +\n",
              "            '<a target=\"_blank\" href=https://colab.research.google.com/notebooks/data_table.ipynb>data table notebook</a>'\n",
              "            + ' to learn more about interactive tables.';\n",
              "          element.innerHTML = '';\n",
              "          dataTable['output_type'] = 'display_data';\n",
              "          await google.colab.output.renderOutput(dataTable, element);\n",
              "          const docLink = document.createElement('div');\n",
              "          docLink.innerHTML = docLinkHtml;\n",
              "          element.appendChild(docLink);\n",
              "        }\n",
              "      </script>\n",
              "    </div>\n",
              "  </div>\n",
              "  "
            ]
          },
          "metadata": {},
          "execution_count": 89
        }
      ]
    },
    {
      "cell_type": "code",
      "source": [
        "df_nasdaq_clean[[\"Close NASDAQ\"]].plot.line()"
      ],
      "metadata": {
        "colab": {
          "base_uri": "https://localhost:8080/",
          "height": 286
        },
        "id": "LuWx_7Z5b_oG",
        "outputId": "a4982ae9-5196-45f7-dfa6-ee26a5156e11"
      },
      "execution_count": null,
      "outputs": [
        {
          "output_type": "execute_result",
          "data": {
            "text/plain": [
              "<matplotlib.axes._subplots.AxesSubplot at 0x7f5c6c7aaac0>"
            ]
          },
          "metadata": {},
          "execution_count": 90
        },
        {
          "output_type": "display_data",
          "data": {
            "text/plain": [
              "<Figure size 432x288 with 1 Axes>"
            ],
            "image/png": "[encoded data removed]"
          },
          "metadata": {
            "needs_background": "light"
          }
        }
      ]
    },
    {
      "cell_type": "markdown",
      "source": [
        "### S&P 500 Dataset"
      ],
      "metadata": {
        "id": "Gns-OkW5cg-m"
      }
    },
    {
      "cell_type": "markdown",
      "source": [
        "### Description\n",
        "The data shows the change in the S&P 500's price from 2017 to roughly the present. "
      ],
      "metadata": {
        "id": "8FFXIb0038nv"
      }
    },
    {
      "cell_type": "markdown",
      "source": [
        "### Cleaning Process\n",
        "Set the index to the `Date` column after running it through a function to reformat it. Also created new columns for each day's change in value as well as the maximum difference in value. Rows with no data usable data were filtered out, and the new columns were moved to a new DataFrame. "
      ],
      "metadata": {
        "id": "BFzhb4vk4BOi"
      }
    },
    {
      "cell_type": "code",
      "source": [
        "# Import SP500 dataset and set index to data\n",
        "df_sp500 = pd.read_csv(repo + \"SP500.csv\",\n",
        "    index_col=\"Date\", \n",
        "    parse_dates=True\n",
        ")"
      ],
      "metadata": {
        "id": "wXZBkzkSV8Z3"
      },
      "execution_count": null,
      "outputs": []
    },
    {
      "cell_type": "code",
      "source": [
        "# Condense and clean up data into new DataFrame\n",
        "df_sp500[\"Close SP500\"] = df_sp500[\"Close/Last\"]\n",
        "df_sp500[\"% Day Change SP500\"] = (\n",
        "    df_sp500[\"Close/Last\"] - df_sp500[\"Open\"]\n",
        ") / df_sp500[\"Open\"]\n",
        "df_sp500[\"Max Difference SP500\"] = df_sp500[\"High\"] - df_sp500[\"Low\"]\n",
        "\n",
        "df_sp500_clean = df_sp500.loc[\n",
        "    ~((df_sp500[\"High\"] == 0) & (df_sp500[\"Low\"] == 0)) # filter out entries with no data\n",
        "][[\"Close SP500\", \"% Day Change SP500\", \"Max Difference SP500\"]]\n",
        "\n",
        "df_sp500_clean.head()"
      ],
      "metadata": {
        "colab": {
          "base_uri": "https://localhost:8080/",
          "height": 237
        },
        "id": "6R5VDZHDdtQk",
        "outputId": "d99c15a3-3231-4fd5-e0be-a640759f1c06"
      },
      "execution_count": null,
      "outputs": [
        {
          "output_type": "execute_result",
          "data": {
            "text/plain": [
              "            Close SP500  % Day Change SP500  Max Difference SP500\n",
              "Date                                                             \n",
              "2022-11-11      3992.93            0.007369                 56.66\n",
              "2022-11-10      3956.37            0.024996                 98.44\n",
              "2022-11-09      3748.57           -0.016366                 73.98\n",
              "2022-11-08      3828.11            0.002905                 73.12\n",
              "2022-11-07      3806.80            0.006901                 49.25"
            ],
            "text/html": [
              "\n",
              "  <div id=\"df-dd0d7bd2-e111-46fc-a2c6-731b152f37cb\">\n",
              "    <div class=\"colab-df-container\">\n",
              "      <div>\n",
              "<style scoped>\n",
              "    .dataframe tbody tr th:only-of-type {\n",
              "        vertical-align: middle;\n",
              "    }\n",
              "\n",
              "    .dataframe tbody tr th {\n",
              "        vertical-align: top;\n",
              "    }\n",
              "\n",
              "    .dataframe thead th {\n",
              "        text-align: right;\n",
              "    }\n",
              "</style>\n",
              "<table border=\"1\" class=\"dataframe\">\n",
              "  <thead>\n",
              "    <tr style=\"text-align: right;\">\n",
              "      <th></th>\n",
              "      <th>Close SP500</th>\n",
              "      <th>% Day Change SP500</th>\n",
              "      <th>Max Difference SP500</th>\n",
              "    </tr>\n",
              "    <tr>\n",
              "      <th>Date</th>\n",
              "      <th></th>\n",
              "      <th></th>\n",
              "      <th></th>\n",
              "    </tr>\n",
              "  </thead>\n",
              "  <tbody>\n",
              "    <tr>\n",
              "      <th>2022-11-11</th>\n",
              "      <td>3992.93</td>\n",
              "      <td>0.007369</td>\n",
              "      <td>56.66</td>\n",
              "    </tr>\n",
              "    <tr>\n",
              "      <th>2022-11-10</th>\n",
              "      <td>3956.37</td>\n",
              "      <td>0.024996</td>\n",
              "      <td>98.44</td>\n",
              "    </tr>\n",
              "    <tr>\n",
              "      <th>2022-11-09</th>\n",
              "      <td>3748.57</td>\n",
              "      <td>-0.016366</td>\n",
              "      <td>73.98</td>\n",
              "    </tr>\n",
              "    <tr>\n",
              "      <th>2022-11-08</th>\n",
              "      <td>3828.11</td>\n",
              "      <td>0.002905</td>\n",
              "      <td>73.12</td>\n",
              "    </tr>\n",
              "    <tr>\n",
              "      <th>2022-11-07</th>\n",
              "      <td>3806.80</td>\n",
              "      <td>0.006901</td>\n",
              "      <td>49.25</td>\n",
              "    </tr>\n",
              "  </tbody>\n",
              "</table>\n",
              "</div>\n",
              "      <button class=\"colab-df-convert\" onclick=\"convertToInteractive('df-dd0d7bd2-e111-46fc-a2c6-731b152f37cb')\"\n",
              "              title=\"Convert this dataframe to an interactive table.\"\n",
              "              style=\"display:none;\">\n",
              "        \n",
              "  <svg xmlns=\"http://www.w3.org/2000/svg\" height=\"24px\"viewBox=\"0 0 24 24\"\n",
              "       width=\"24px\">\n",
              "    <path d=\"M0 0h24v24H0V0z\" fill=\"none\"/>\n",
              "    <path d=\"M18.56 5.44l.94 2.06.94-2.06 2.06-.94-2.06-.94-.94-2.06-.94 2.06-2.06.94zm-11 1L8.5 8.5l.94-2.06 2.06-.94-2.06-.94L8.5 2.5l-.94 2.06-2.06.94zm10 10l.94 2.06.94-2.06 2.06-.94-2.06-.94-.94-2.06-.94 2.06-2.06.94z\"/><path d=\"M17.41 7.96l-1.37-1.37c-.4-.4-.92-.59-1.43-.59-.52 0-1.04.2-1.43.59L10.3 9.45l-7.72 7.72c-.78.78-.78 2.05 0 2.83L4 21.41c.39.39.9.59 1.41.59.51 0 1.02-.2 1.41-.59l7.78-7.78 2.81-2.81c.8-.78.8-2.07 0-2.86zM5.41 20L4 18.59l7.72-7.72 1.47 1.35L5.41 20z\"/>\n",
              "  </svg>\n",
              "      </button>\n",
              "      \n",
              "  <style>\n",
              "    .colab-df-container {\n",
              "      display:flex;\n",
              "      flex-wrap:wrap;\n",
              "      gap: 12px;\n",
              "    }\n",
              "\n",
              "    .colab-df-convert {\n",
              "      background-color: #E8F0FE;\n",
              "      border: none;\n",
              "      border-radius: 50%;\n",
              "      cursor: pointer;\n",
              "      display: none;\n",
              "      fill: #1967D2;\n",
              "      height: 32px;\n",
              "      padding: 0 0 0 0;\n",
              "      width: 32px;\n",
              "    }\n",
              "\n",
              "    .colab-df-convert:hover {\n",
              "      background-color: #E2EBFA;\n",
              "      box-shadow: 0px 1px 2px rgba(60, 64, 67, 0.3), 0px 1px 3px 1px rgba(60, 64, 67, 0.15);\n",
              "      fill: #174EA6;\n",
              "    }\n",
              "\n",
              "    [theme=dark] .colab-df-convert {\n",
              "      background-color: #3B4455;\n",
              "      fill: #D2E3FC;\n",
              "    }\n",
              "\n",
              "    [theme=dark] .colab-df-convert:hover {\n",
              "      background-color: #434B5C;\n",
              "      box-shadow: 0px 1px 3px 1px rgba(0, 0, 0, 0.15);\n",
              "      filter: drop-shadow(0px 1px 2px rgba(0, 0, 0, 0.3));\n",
              "      fill: #FFFFFF;\n",
              "    }\n",
              "  </style>\n",
              "\n",
              "      <script>\n",
              "        const buttonEl =\n",
              "          document.querySelector('#df-dd0d7bd2-e111-46fc-a2c6-731b152f37cb button.colab-df-convert');\n",
              "        buttonEl.style.display =\n",
              "          google.colab.kernel.accessAllowed ? 'block' : 'none';\n",
              "\n",
              "        async function convertToInteractive(key) {\n",
              "          const element = document.querySelector('#df-dd0d7bd2-e111-46fc-a2c6-731b152f37cb');\n",
              "          const dataTable =\n",
              "            await google.colab.kernel.invokeFunction('convertToInteractive',\n",
              "                                                     [key], {});\n",
              "          if (!dataTable) return;\n",
              "\n",
              "          const docLinkHtml = 'Like what you see? Visit the ' +\n",
              "            '<a target=\"_blank\" href=https://colab.research.google.com/notebooks/data_table.ipynb>data table notebook</a>'\n",
              "            + ' to learn more about interactive tables.';\n",
              "          element.innerHTML = '';\n",
              "          dataTable['output_type'] = 'display_data';\n",
              "          await google.colab.output.renderOutput(dataTable, element);\n",
              "          const docLink = document.createElement('div');\n",
              "          docLink.innerHTML = docLinkHtml;\n",
              "          element.appendChild(docLink);\n",
              "        }\n",
              "      </script>\n",
              "    </div>\n",
              "  </div>\n",
              "  "
            ]
          },
          "metadata": {},
          "execution_count": 92
        }
      ]
    },
    {
      "cell_type": "code",
      "source": [
        "df_sp500_clean[[\"Close SP500\"]].plot.line()"
      ],
      "metadata": {
        "id": "S9ZAw_4OcCm_",
        "colab": {
          "base_uri": "https://localhost:8080/",
          "height": 286
        },
        "outputId": "b840000a-6631-4e7a-fa6a-fe2e3f2e2dbf"
      },
      "execution_count": null,
      "outputs": [
        {
          "output_type": "execute_result",
          "data": {
            "text/plain": [
              "<matplotlib.axes._subplots.AxesSubplot at 0x7f5c6c035760>"
            ]
          },
          "metadata": {},
          "execution_count": 93
        },
        {
          "output_type": "display_data",
          "data": {
            "text/plain": [
              "<Figure size 432x288 with 1 Axes>"
            ],
            "image/png": "[encoded data removed]"
          },
          "metadata": {
            "needs_background": "light"
          }
        }
      ]
    },
    {
      "cell_type": "markdown",
      "source": [
        "## Combined Dataset (ETH, SP500, NASDAQ)"
      ],
      "metadata": {
        "id": "LoYe1zGDcjml"
      }
    },
    {
      "cell_type": "markdown",
      "source": [
        "### Description\n",
        "The data shows the change in the ETH, SP500, NASDAQ over time combined."
      ],
      "metadata": {
        "id": "EVAwKOlwc-y7"
      }
    },
    {
      "cell_type": "code",
      "source": [
        "df_stocks_crypto = df_nasdaq_clean.join(\n",
        "    df_sp500_clean\n",
        ").join(\n",
        "    df_ethereum_clean\n",
        ").dropna()\n",
        "\n",
        "df_stocks_crypto"
      ],
      "metadata": {
        "colab": {
          "base_uri": "https://localhost:8080/",
          "height": 455
        },
        "id": "DmOGwmnHwPe0",
        "outputId": "fb634698-153e-426d-fe38-614aeb09cbb8"
      },
      "execution_count": null,
      "outputs": [
        {
          "output_type": "execute_result",
          "data": {
            "text/plain": [
              "            Close NASDAQ  % Day Change NASDAQ  Max Difference NASDAQ  \\\n",
              "Date                                                                   \n",
              "2022-11-11      11323.33             0.017850                 282.60   \n",
              "2022-11-10      11114.15             0.022539                 339.16   \n",
              "2022-11-09      10353.17            -0.016946                 220.96   \n",
              "2022-11-08      10616.20             0.000440                 272.91   \n",
              "2022-11-07      10564.52             0.004524                 159.05   \n",
              "...                  ...                  ...                    ...   \n",
              "2017-11-17       6782.79            -0.001716                  20.32   \n",
              "2017-11-16       6793.29             0.007558                  64.34   \n",
              "2017-11-15       6706.21             0.000825                  58.01   \n",
              "2017-11-14       6737.87             0.000594                  34.36   \n",
              "2017-11-13       6757.60             0.004491                  42.87   \n",
              "\n",
              "            Close SP500  % Day Change SP500  Max Difference SP500  \\\n",
              "Date                                                                \n",
              "2022-11-11      3992.93            0.007369                 56.66   \n",
              "2022-11-10      3956.37            0.024996                 98.44   \n",
              "2022-11-09      3748.57           -0.016366                 73.98   \n",
              "2022-11-08      3828.11            0.002905                 73.12   \n",
              "2022-11-07      3806.80            0.006901                 49.25   \n",
              "...                 ...                 ...                   ...   \n",
              "2017-11-17      2578.85           -0.001583                  6.34   \n",
              "2017-11-16      2585.64            0.004932                 17.14   \n",
              "2017-11-15      2564.62           -0.001880                 15.39   \n",
              "2017-11-14      2578.87            0.000434                 13.10   \n",
              "2017-11-13      2584.84            0.003225                 13.18   \n",
              "\n",
              "            % Day Change ETH  Max Difference ETH    Close ETH  \n",
              "Date                                                           \n",
              "2022-11-11         -0.008978           90.965698  1287.221069  \n",
              "2022-11-10          0.181216          248.668579  1299.464600  \n",
              "2022-11-09         -0.174742          252.457885  1100.169800  \n",
              "2022-11-08         -0.150156          315.356690  1332.835571  \n",
              "2022-11-07         -0.002179           54.059815  1568.591309  \n",
              "...                      ...                 ...          ...  \n",
              "2017-11-17          0.006745            7.440979   332.394012  \n",
              "2017-11-16         -0.007554           12.553009   330.924011  \n",
              "2017-11-15         -0.013632           11.098999   333.356995  \n",
              "2017-11-14          0.065879           23.414002   337.631012  \n",
              "2017-11-13          0.031564           21.390015   316.716003  \n",
              "\n",
              "[1259 rows x 9 columns]"
            ],
            "text/html": [
              "\n",
              "  <div id=\"df-597a34e6-4be0-4fc2-a2ea-c51e69e52148\">\n",
              "    <div class=\"colab-df-container\">\n",
              "      <div>\n",
              "<style scoped>\n",
              "    .dataframe tbody tr th:only-of-type {\n",
              "        vertical-align: middle;\n",
              "    }\n",
              "\n",
              "    .dataframe tbody tr th {\n",
              "        vertical-align: top;\n",
              "    }\n",
              "\n",
              "    .dataframe thead th {\n",
              "        text-align: right;\n",
              "    }\n",
              "</style>\n",
              "<table border=\"1\" class=\"dataframe\">\n",
              "  <thead>\n",
              "    <tr style=\"text-align: right;\">\n",
              "      <th></th>\n",
              "      <th>Close NASDAQ</th>\n",
              "      <th>% Day Change NASDAQ</th>\n",
              "      <th>Max Difference NASDAQ</th>\n",
              "      <th>Close SP500</th>\n",
              "      <th>% Day Change SP500</th>\n",
              "      <th>Max Difference SP500</th>\n",
              "      <th>% Day Change ETH</th>\n",
              "      <th>Max Difference ETH</th>\n",
              "      <th>Close ETH</th>\n",
              "    </tr>\n",
              "    <tr>\n",
              "      <th>Date</th>\n",
              "      <th></th>\n",
              "      <th></th>\n",
              "      <th></th>\n",
              "      <th></th>\n",
              "      <th></th>\n",
              "      <th></th>\n",
              "      <th></th>\n",
              "      <th></th>\n",
              "      <th></th>\n",
              "    </tr>\n",
              "  </thead>\n",
              "  <tbody>\n",
              "    <tr>\n",
              "      <th>2022-11-11</th>\n",
              "      <td>11323.33</td>\n",
              "      <td>0.017850</td>\n",
              "      <td>282.60</td>\n",
              "      <td>3992.93</td>\n",
              "      <td>0.007369</td>\n",
              "      <td>56.66</td>\n",
              "      <td>-0.008978</td>\n",
              "      <td>90.965698</td>\n",
              "      <td>1287.221069</td>\n",
              "    </tr>\n",
              "    <tr>\n",
              "      <th>2022-11-10</th>\n",
              "      <td>11114.15</td>\n",
              "      <td>0.022539</td>\n",
              "      <td>339.16</td>\n",
              "      <td>3956.37</td>\n",
              "      <td>0.024996</td>\n",
              "      <td>98.44</td>\n",
              "      <td>0.181216</td>\n",
              "      <td>248.668579</td>\n",
              "      <td>1299.464600</td>\n",
              "    </tr>\n",
              "    <tr>\n",
              "      <th>2022-11-09</th>\n",
              "      <td>10353.17</td>\n",
              "      <td>-0.016946</td>\n",
              "      <td>220.96</td>\n",
              "      <td>3748.57</td>\n",
              "      <td>-0.016366</td>\n",
              "      <td>73.98</td>\n",
              "      <td>-0.174742</td>\n",
              "      <td>252.457885</td>\n",
              "      <td>1100.169800</td>\n",
              "    </tr>\n",
              "    <tr>\n",
              "      <th>2022-11-08</th>\n",
              "      <td>10616.20</td>\n",
              "      <td>0.000440</td>\n",
              "      <td>272.91</td>\n",
              "      <td>3828.11</td>\n",
              "      <td>0.002905</td>\n",
              "      <td>73.12</td>\n",
              "      <td>-0.150156</td>\n",
              "      <td>315.356690</td>\n",
              "      <td>1332.835571</td>\n",
              "    </tr>\n",
              "    <tr>\n",
              "      <th>2022-11-07</th>\n",
              "      <td>10564.52</td>\n",
              "      <td>0.004524</td>\n",
              "      <td>159.05</td>\n",
              "      <td>3806.80</td>\n",
              "      <td>0.006901</td>\n",
              "      <td>49.25</td>\n",
              "      <td>-0.002179</td>\n",
              "      <td>54.059815</td>\n",
              "      <td>1568.591309</td>\n",
              "    </tr>\n",
              "    <tr>\n",
              "      <th>...</th>\n",
              "      <td>...</td>\n",
              "      <td>...</td>\n",
              "      <td>...</td>\n",
              "      <td>...</td>\n",
              "      <td>...</td>\n",
              "      <td>...</td>\n",
              "      <td>...</td>\n",
              "      <td>...</td>\n",
              "      <td>...</td>\n",
              "    </tr>\n",
              "    <tr>\n",
              "      <th>2017-11-17</th>\n",
              "      <td>6782.79</td>\n",
              "      <td>-0.001716</td>\n",
              "      <td>20.32</td>\n",
              "      <td>2578.85</td>\n",
              "      <td>-0.001583</td>\n",
              "      <td>6.34</td>\n",
              "      <td>0.006745</td>\n",
              "      <td>7.440979</td>\n",
              "      <td>332.394012</td>\n",
              "    </tr>\n",
              "    <tr>\n",
              "      <th>2017-11-16</th>\n",
              "      <td>6793.29</td>\n",
              "      <td>0.007558</td>\n",
              "      <td>64.34</td>\n",
              "      <td>2585.64</td>\n",
              "      <td>0.004932</td>\n",
              "      <td>17.14</td>\n",
              "      <td>-0.007554</td>\n",
              "      <td>12.553009</td>\n",
              "      <td>330.924011</td>\n",
              "    </tr>\n",
              "    <tr>\n",
              "      <th>2017-11-15</th>\n",
              "      <td>6706.21</td>\n",
              "      <td>0.000825</td>\n",
              "      <td>58.01</td>\n",
              "      <td>2564.62</td>\n",
              "      <td>-0.001880</td>\n",
              "      <td>15.39</td>\n",
              "      <td>-0.013632</td>\n",
              "      <td>11.098999</td>\n",
              "      <td>333.356995</td>\n",
              "    </tr>\n",
              "    <tr>\n",
              "      <th>2017-11-14</th>\n",
              "      <td>6737.87</td>\n",
              "      <td>0.000594</td>\n",
              "      <td>34.36</td>\n",
              "      <td>2578.87</td>\n",
              "      <td>0.000434</td>\n",
              "      <td>13.10</td>\n",
              "      <td>0.065879</td>\n",
              "      <td>23.414002</td>\n",
              "      <td>337.631012</td>\n",
              "    </tr>\n",
              "    <tr>\n",
              "      <th>2017-11-13</th>\n",
              "      <td>6757.60</td>\n",
              "      <td>0.004491</td>\n",
              "      <td>42.87</td>\n",
              "      <td>2584.84</td>\n",
              "      <td>0.003225</td>\n",
              "      <td>13.18</td>\n",
              "      <td>0.031564</td>\n",
              "      <td>21.390015</td>\n",
              "      <td>316.716003</td>\n",
              "    </tr>\n",
              "  </tbody>\n",
              "</table>\n",
              "<p>1259 rows × 9 columns</p>\n",
              "</div>\n",
              "      <button class=\"colab-df-convert\" onclick=\"convertToInteractive('df-597a34e6-4be0-4fc2-a2ea-c51e69e52148')\"\n",
              "              title=\"Convert this dataframe to an interactive table.\"\n",
              "              style=\"display:none;\">\n",
              "        \n",
              "  <svg xmlns=\"http://www.w3.org/2000/svg\" height=\"24px\"viewBox=\"0 0 24 24\"\n",
              "       width=\"24px\">\n",
              "    <path d=\"M0 0h24v24H0V0z\" fill=\"none\"/>\n",
              "    <path d=\"M18.56 5.44l.94 2.06.94-2.06 2.06-.94-2.06-.94-.94-2.06-.94 2.06-2.06.94zm-11 1L8.5 8.5l.94-2.06 2.06-.94-2.06-.94L8.5 2.5l-.94 2.06-2.06.94zm10 10l.94 2.06.94-2.06 2.06-.94-2.06-.94-.94-2.06-.94 2.06-2.06.94z\"/><path d=\"M17.41 7.96l-1.37-1.37c-.4-.4-.92-.59-1.43-.59-.52 0-1.04.2-1.43.59L10.3 9.45l-7.72 7.72c-.78.78-.78 2.05 0 2.83L4 21.41c.39.39.9.59 1.41.59.51 0 1.02-.2 1.41-.59l7.78-7.78 2.81-2.81c.8-.78.8-2.07 0-2.86zM5.41 20L4 18.59l7.72-7.72 1.47 1.35L5.41 20z\"/>\n",
              "  </svg>\n",
              "      </button>\n",
              "      \n",
              "  <style>\n",
              "    .colab-df-container {\n",
              "      display:flex;\n",
              "      flex-wrap:wrap;\n",
              "      gap: 12px;\n",
              "    }\n",
              "\n",
              "    .colab-df-convert {\n",
              "      background-color: #E8F0FE;\n",
              "      border: none;\n",
              "      border-radius: 50%;\n",
              "      cursor: pointer;\n",
              "      display: none;\n",
              "      fill: #1967D2;\n",
              "      height: 32px;\n",
              "      padding: 0 0 0 0;\n",
              "      width: 32px;\n",
              "    }\n",
              "\n",
              "    .colab-df-convert:hover {\n",
              "      background-color: #E2EBFA;\n",
              "      box-shadow: 0px 1px 2px rgba(60, 64, 67, 0.3), 0px 1px 3px 1px rgba(60, 64, 67, 0.15);\n",
              "      fill: #174EA6;\n",
              "    }\n",
              "\n",
              "    [theme=dark] .colab-df-convert {\n",
              "      background-color: #3B4455;\n",
              "      fill: #D2E3FC;\n",
              "    }\n",
              "\n",
              "    [theme=dark] .colab-df-convert:hover {\n",
              "      background-color: #434B5C;\n",
              "      box-shadow: 0px 1px 3px 1px rgba(0, 0, 0, 0.15);\n",
              "      filter: drop-shadow(0px 1px 2px rgba(0, 0, 0, 0.3));\n",
              "      fill: #FFFFFF;\n",
              "    }\n",
              "  </style>\n",
              "\n",
              "      <script>\n",
              "        const buttonEl =\n",
              "          document.querySelector('#df-597a34e6-4be0-4fc2-a2ea-c51e69e52148 button.colab-df-convert');\n",
              "        buttonEl.style.display =\n",
              "          google.colab.kernel.accessAllowed ? 'block' : 'none';\n",
              "\n",
              "        async function convertToInteractive(key) {\n",
              "          const element = document.querySelector('#df-597a34e6-4be0-4fc2-a2ea-c51e69e52148');\n",
              "          const dataTable =\n",
              "            await google.colab.kernel.invokeFunction('convertToInteractive',\n",
              "                                                     [key], {});\n",
              "          if (!dataTable) return;\n",
              "\n",
              "          const docLinkHtml = 'Like what you see? Visit the ' +\n",
              "            '<a target=\"_blank\" href=https://colab.research.google.com/notebooks/data_table.ipynb>data table notebook</a>'\n",
              "            + ' to learn more about interactive tables.';\n",
              "          element.innerHTML = '';\n",
              "          dataTable['output_type'] = 'display_data';\n",
              "          await google.colab.output.renderOutput(dataTable, element);\n",
              "          const docLink = document.createElement('div');\n",
              "          docLink.innerHTML = docLinkHtml;\n",
              "          element.appendChild(docLink);\n",
              "        }\n",
              "      </script>\n",
              "    </div>\n",
              "  </div>\n",
              "  "
            ]
          },
          "metadata": {},
          "execution_count": 96
        }
      ]
    },
    {
      "cell_type": "markdown",
      "source": [
        "## ETH NASDAQ AND SP500 Correlation"
      ],
      "metadata": {
        "id": "-zOoaBevceEk"
      }
    },
    {
      "cell_type": "markdown",
      "source": [
        "### Description\n",
        "This visual shows how ETH, SP500, and NASDAQ are correlated over time."
      ],
      "metadata": {
        "id": "7Vsh_3jUdHXb"
      }
    },
    {
      "cell_type": "code",
      "source": [
        "df_stocks_crypto.plot(\n",
        "    kind=\"scatter\",\n",
        "    x=\"Close SP500\",\n",
        "    y=\"Close ETH\",\n",
        "    title = \"Correlation SP500 & ETH\"\n",
        ")"
      ],
      "metadata": {
        "colab": {
          "base_uri": "https://localhost:8080/",
          "height": 312
        },
        "id": "fCYbvevYYsrI",
        "outputId": "851793f5-fa69-487d-8b65-8bb350bb3acb"
      },
      "execution_count": null,
      "outputs": [
        {
          "output_type": "execute_result",
          "data": {
            "text/plain": [
              "<matplotlib.axes._subplots.AxesSubplot at 0x7f5c6bd7e490>"
            ]
          },
          "metadata": {},
          "execution_count": 101
        },
        {
          "output_type": "display_data",
          "data": {
            "text/plain": [
              "<Figure size 432x288 with 1 Axes>"
            ],
            "image/png": "[encoded data removed]"
          },
          "metadata": {
            "needs_background": "light"
          }
        }
      ]
    },
    {
      "cell_type": "code",
      "source": [
        "df_stocks_crypto.plot(\n",
        "    kind=\"scatter\",\n",
        "    x=\"Close NASDAQ\",\n",
        "    y=\"Close ETH\",\n",
        "    title = \"Correlation NASDAQ & ETH\"\n",
        ")"
      ],
      "metadata": {
        "colab": {
          "base_uri": "https://localhost:8080/",
          "height": 312
        },
        "id": "b1wyF_F4vyt5",
        "outputId": "f510df2b-6cf7-40a6-bd79-cbb2be3be563"
      },
      "execution_count": null,
      "outputs": [
        {
          "output_type": "execute_result",
          "data": {
            "text/plain": [
              "<matplotlib.axes._subplots.AxesSubplot at 0x7f5c6bce2c10>"
            ]
          },
          "metadata": {},
          "execution_count": 102
        },
        {
          "output_type": "display_data",
          "data": {
            "text/plain": [
              "<Figure size 432x288 with 1 Axes>"
            ],
            "image/png": "[encoded data removed]"
          },
          "metadata": {
            "needs_background": "light"
          }
        }
      ]
    },
    {
      "cell_type": "code",
      "source": [
        "df_stocks_crypto.plot(\n",
        "    kind=\"scatter\",\n",
        "    x=\"Close NASDAQ\",\n",
        "    y=\"Close SP500\",\n",
        "    title = \"Correlation NASDAQ & SP500\"\n",
        ")"
      ],
      "metadata": {
        "colab": {
          "base_uri": "https://localhost:8080/",
          "height": 312
        },
        "id": "sWAxzCqzcldC",
        "outputId": "59524cfa-904f-4602-d3bc-6e600eea25ce"
      },
      "execution_count": null,
      "outputs": [
        {
          "output_type": "execute_result",
          "data": {
            "text/plain": [
              "<matplotlib.axes._subplots.AxesSubplot at 0x7f5c6bd884c0>"
            ]
          },
          "metadata": {},
          "execution_count": 100
        },
        {
          "output_type": "display_data",
          "data": {
            "text/plain": [
              "<Figure size 432x288 with 1 Axes>"
            ],
            "image/png": "[encoded data removed]"
          },
          "metadata": {
            "needs_background": "light"
          }
        }
      ]
    },
    {
      "cell_type": "markdown",
      "source": [
        "## GDP Dataset"
      ],
      "metadata": {
        "id": "750X9OcGcbv6"
      }
    },
    {
      "cell_type": "markdown",
      "source": [
        "### Description\n",
        "The data shows the change in GDP from 1980 to 2022, plus projections for 2023-2027. Data has been filtered out to only show the world's top 5 GDP's for display purposes."
      ],
      "metadata": {
        "id": "IuraSZXE4Ofw"
      }
    },
    {
      "cell_type": "code",
      "source": [
        "# Import GDP dataset and condense into new DataFrame\n",
        "df_gdp = pd.read_csv(repo + \"GDP-Changes.csv\")\n",
        "df_gdp_clean = df_gdp.rename(\n",
        "    columns = {\"Real GDP growth (Annual percent change)\":\"Year\"}\n",
        ")[[\n",
        "    \"Year\", \n",
        "    \"United States\", \n",
        "    \"China, People's Republic of\", \n",
        "    \"Japan\", \n",
        "    \"Germany\",\n",
        "    \"United Kingdom\"\n",
        "]].set_index(\"Year\")\n",
        "\n",
        "df_gdp_clean.head()"
      ],
      "metadata": {
        "colab": {
          "base_uri": "https://localhost:8080/",
          "height": 237
        },
        "id": "f3wmpyg0cPSn",
        "outputId": "18fb186b-76a3-4373-c7e6-e766bf642cfd"
      },
      "execution_count": null,
      "outputs": [
        {
          "output_type": "execute_result",
          "data": {
            "text/plain": [
              "      United States  China, People's Republic of  Japan  Germany  \\\n",
              "Year                                                               \n",
              "1980           -0.3                          7.9    3.2      1.3   \n",
              "1981            2.5                          5.1    4.2      0.1   \n",
              "1982           -1.8                          9.0    3.3     -0.8   \n",
              "1983            4.6                         10.8    3.5      1.6   \n",
              "1984            7.2                         15.2    4.5      2.8   \n",
              "\n",
              "      United Kingdom  \n",
              "Year                  \n",
              "1980            -2.1  \n",
              "1981            -0.7  \n",
              "1982             2.0  \n",
              "1983             4.2  \n",
              "1984             2.2  "
            ],
            "text/html": [
              "\n",
              "  <div id=\"df-f34edde4-a6f0-48c8-967a-2ca4ba11ef20\">\n",
              "    <div class=\"colab-df-container\">\n",
              "      <div>\n",
              "<style scoped>\n",
              "    .dataframe tbody tr th:only-of-type {\n",
              "        vertical-align: middle;\n",
              "    }\n",
              "\n",
              "    .dataframe tbody tr th {\n",
              "        vertical-align: top;\n",
              "    }\n",
              "\n",
              "    .dataframe thead th {\n",
              "        text-align: right;\n",
              "    }\n",
              "</style>\n",
              "<table border=\"1\" class=\"dataframe\">\n",
              "  <thead>\n",
              "    <tr style=\"text-align: right;\">\n",
              "      <th></th>\n",
              "      <th>United States</th>\n",
              "      <th>China, People's Republic of</th>\n",
              "      <th>Japan</th>\n",
              "      <th>Germany</th>\n",
              "      <th>United Kingdom</th>\n",
              "    </tr>\n",
              "    <tr>\n",
              "      <th>Year</th>\n",
              "      <th></th>\n",
              "      <th></th>\n",
              "      <th></th>\n",
              "      <th></th>\n",
              "      <th></th>\n",
              "    </tr>\n",
              "  </thead>\n",
              "  <tbody>\n",
              "    <tr>\n",
              "      <th>1980</th>\n",
              "      <td>-0.3</td>\n",
              "      <td>7.9</td>\n",
              "      <td>3.2</td>\n",
              "      <td>1.3</td>\n",
              "      <td>-2.1</td>\n",
              "    </tr>\n",
              "    <tr>\n",
              "      <th>1981</th>\n",
              "      <td>2.5</td>\n",
              "      <td>5.1</td>\n",
              "      <td>4.2</td>\n",
              "      <td>0.1</td>\n",
              "      <td>-0.7</td>\n",
              "    </tr>\n",
              "    <tr>\n",
              "      <th>1982</th>\n",
              "      <td>-1.8</td>\n",
              "      <td>9.0</td>\n",
              "      <td>3.3</td>\n",
              "      <td>-0.8</td>\n",
              "      <td>2.0</td>\n",
              "    </tr>\n",
              "    <tr>\n",
              "      <th>1983</th>\n",
              "      <td>4.6</td>\n",
              "      <td>10.8</td>\n",
              "      <td>3.5</td>\n",
              "      <td>1.6</td>\n",
              "      <td>4.2</td>\n",
              "    </tr>\n",
              "    <tr>\n",
              "      <th>1984</th>\n",
              "      <td>7.2</td>\n",
              "      <td>15.2</td>\n",
              "      <td>4.5</td>\n",
              "      <td>2.8</td>\n",
              "      <td>2.2</td>\n",
              "    </tr>\n",
              "  </tbody>\n",
              "</table>\n",
              "</div>\n",
              "      <button class=\"colab-df-convert\" onclick=\"convertToInteractive('df-f34edde4-a6f0-48c8-967a-2ca4ba11ef20')\"\n",
              "              title=\"Convert this dataframe to an interactive table.\"\n",
              "              style=\"display:none;\">\n",
              "        \n",
              "  <svg xmlns=\"http://www.w3.org/2000/svg\" height=\"24px\"viewBox=\"0 0 24 24\"\n",
              "       width=\"24px\">\n",
              "    <path d=\"M0 0h24v24H0V0z\" fill=\"none\"/>\n",
              "    <path d=\"M18.56 5.44l.94 2.06.94-2.06 2.06-.94-2.06-.94-.94-2.06-.94 2.06-2.06.94zm-11 1L8.5 8.5l.94-2.06 2.06-.94-2.06-.94L8.5 2.5l-.94 2.06-2.06.94zm10 10l.94 2.06.94-2.06 2.06-.94-2.06-.94-.94-2.06-.94 2.06-2.06.94z\"/><path d=\"M17.41 7.96l-1.37-1.37c-.4-.4-.92-.59-1.43-.59-.52 0-1.04.2-1.43.59L10.3 9.45l-7.72 7.72c-.78.78-.78 2.05 0 2.83L4 21.41c.39.39.9.59 1.41.59.51 0 1.02-.2 1.41-.59l7.78-7.78 2.81-2.81c.8-.78.8-2.07 0-2.86zM5.41 20L4 18.59l7.72-7.72 1.47 1.35L5.41 20z\"/>\n",
              "  </svg>\n",
              "      </button>\n",
              "      \n",
              "  <style>\n",
              "    .colab-df-container {\n",
              "      display:flex;\n",
              "      flex-wrap:wrap;\n",
              "      gap: 12px;\n",
              "    }\n",
              "\n",
              "    .colab-df-convert {\n",
              "      background-color: #E8F0FE;\n",
              "      border: none;\n",
              "      border-radius: 50%;\n",
              "      cursor: pointer;\n",
              "      display: none;\n",
              "      fill: #1967D2;\n",
              "      height: 32px;\n",
              "      padding: 0 0 0 0;\n",
              "      width: 32px;\n",
              "    }\n",
              "\n",
              "    .colab-df-convert:hover {\n",
              "      background-color: #E2EBFA;\n",
              "      box-shadow: 0px 1px 2px rgba(60, 64, 67, 0.3), 0px 1px 3px 1px rgba(60, 64, 67, 0.15);\n",
              "      fill: #174EA6;\n",
              "    }\n",
              "\n",
              "    [theme=dark] .colab-df-convert {\n",
              "      background-color: #3B4455;\n",
              "      fill: #D2E3FC;\n",
              "    }\n",
              "\n",
              "    [theme=dark] .colab-df-convert:hover {\n",
              "      background-color: #434B5C;\n",
              "      box-shadow: 0px 1px 3px 1px rgba(0, 0, 0, 0.15);\n",
              "      filter: drop-shadow(0px 1px 2px rgba(0, 0, 0, 0.3));\n",
              "      fill: #FFFFFF;\n",
              "    }\n",
              "  </style>\n",
              "\n",
              "      <script>\n",
              "        const buttonEl =\n",
              "          document.querySelector('#df-f34edde4-a6f0-48c8-967a-2ca4ba11ef20 button.colab-df-convert');\n",
              "        buttonEl.style.display =\n",
              "          google.colab.kernel.accessAllowed ? 'block' : 'none';\n",
              "\n",
              "        async function convertToInteractive(key) {\n",
              "          const element = document.querySelector('#df-f34edde4-a6f0-48c8-967a-2ca4ba11ef20');\n",
              "          const dataTable =\n",
              "            await google.colab.kernel.invokeFunction('convertToInteractive',\n",
              "                                                     [key], {});\n",
              "          if (!dataTable) return;\n",
              "\n",
              "          const docLinkHtml = 'Like what you see? Visit the ' +\n",
              "            '<a target=\"_blank\" href=https://colab.research.google.com/notebooks/data_table.ipynb>data table notebook</a>'\n",
              "            + ' to learn more about interactive tables.';\n",
              "          element.innerHTML = '';\n",
              "          dataTable['output_type'] = 'display_data';\n",
              "          await google.colab.output.renderOutput(dataTable, element);\n",
              "          const docLink = document.createElement('div');\n",
              "          docLink.innerHTML = docLinkHtml;\n",
              "          element.appendChild(docLink);\n",
              "        }\n",
              "      </script>\n",
              "    </div>\n",
              "  </div>\n",
              "  "
            ]
          },
          "metadata": {},
          "execution_count": 94
        }
      ]
    },
    {
      "cell_type": "code",
      "source": [
        "df_gdp_clean.plot(\n",
        "    kind=\"line\",\n",
        "    title=\"Percent Change in GDP of World's Largest Economies\"\n",
        ")"
      ],
      "metadata": {
        "colab": {
          "base_uri": "https://localhost:8080/",
          "height": 312
        },
        "id": "Cu02H-4IOvYJ",
        "outputId": "10161663-9374-4c73-bb67-f3e72bcb36a9"
      },
      "execution_count": null,
      "outputs": [
        {
          "output_type": "execute_result",
          "data": {
            "text/plain": [
              "<matplotlib.axes._subplots.AxesSubplot at 0x7f5c6bf6aa90>"
            ]
          },
          "metadata": {},
          "execution_count": 95
        },
        {
          "output_type": "display_data",
          "data": {
            "text/plain": [
              "<Figure size 432x288 with 1 Axes>"
            ],
            "image/png": "[encoded data removed]"
          },
          "metadata": {
            "needs_background": "light"
          }
        }
      ]
    },
    {
      "cell_type": "code",
      "source": [
        "df_stocks_crypto[[\n",
        "    \"Close NASDAQ\", \"Close SP500\", \"Close ETH\"\n",
        "]].plot(\n",
        "    kind=\"line\",\n",
        "    alpha=0.5\n",
        ")"
      ],
      "metadata": {
        "colab": {
          "base_uri": "https://localhost:8080/",
          "height": 286
        },
        "id": "HdrEVzVdqMyh",
        "outputId": "b319fd85-2076-4aa8-ad3e-086d39284b8d"
      },
      "execution_count": null,
      "outputs": [
        {
          "output_type": "execute_result",
          "data": {
            "text/plain": [
              "<matplotlib.axes._subplots.AxesSubplot at 0x7f5c6bef2bb0>"
            ]
          },
          "metadata": {},
          "execution_count": 97
        },
        {
          "output_type": "display_data",
          "data": {
            "text/plain": [
              "<Figure size 432x288 with 1 Axes>"
            ],
            "image/png": "[encoded data removed]"
          },
          "metadata": {
            "needs_background": "light"
          }
        }
      ]
    },
    {
      "cell_type": "markdown",
      "source": [
        "# NEW DATASETS to CSV"
      ],
      "metadata": {
        "id": "fMleAnqKdcUI"
      }
    },
    {
      "cell_type": "markdown",
      "source": [
        "## Description\n",
        "Transferring our new Clean Datasets to CSV's so we can work with it on a new notebook."
      ],
      "metadata": {
        "id": "6vTg7WUtdjd7"
      }
    },
    {
      "cell_type": "code",
      "source": [
        "from google.colab import drive\n",
        "drive.mount('/content/drive')\n",
        "df_ethereum_clean.to_csv(\"/content/drive/MyDrive/ethereum.csv\")\n",
        "df_stocks_crypto.to_csv(\"/content/drive/MyDrive/stocks_crypto.csv\")"
      ],
      "metadata": {
        "colab": {
          "base_uri": "https://localhost:8080/"
        },
        "id": "kQ_-y8eneH1c",
        "outputId": "19e74da7-d485-4e7c-ba8c-2f0f6de3baa0"
      },
      "execution_count": null,
      "outputs": [
        {
          "output_type": "stream",
          "name": "stdout",
          "text": [
            "Mounted at /content/drive\n"
          ]
        }
      ]
    }
  ]
}